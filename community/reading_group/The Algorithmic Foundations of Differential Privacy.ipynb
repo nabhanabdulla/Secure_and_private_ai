{
 "cells": [
  {
   "cell_type": "code",
   "execution_count": 6,
   "metadata": {},
   "outputs": [
    {
     "data": {
      "text/html": [
       "<style>.rendered_html { font-size: 16px; }</style>"
      ],
      "text/plain": [
       "<IPython.core.display.HTML object>"
      ]
     },
     "metadata": {},
     "output_type": "display_data"
    }
   ],
   "source": [
    "from IPython.core.display import display, HTML\n",
    "display(HTML(\"<style>.rendered_html { font-size: 16px; }</style>\"))"
   ]
  },
  {
   "cell_type": "markdown",
   "metadata": {},
   "source": [
    "*Definition: *\n",
    "<p style=\"background-color:#EEE;padding:10px;font-family:verdana;\">\n",
    "    “Differential privacy” describes a promise, made by a data holder, or\n",
    "curator, to a data subject: “You will not be affected, adversely or otherwise, by allowing your data to be used in any study or analysis,\n",
    "no matter what other studies, data sets, or information sources, are\n",
    "available.”\n",
    "</p>"
   ]
  },
  {
   "cell_type": "markdown",
   "metadata": {},
   "source": [
    "<p style=\"font-size:16px;\">\n",
    "    *Advantage* - At their best, differentially private database mechanisms can make confidential data widely available for accurate data analysis, without resorting to data clean rooms, data usage agreements, data protection plans, or restricted views.\n",
    "</p>\n"
   ]
  },
  {
   "cell_type": "markdown",
   "metadata": {},
   "source": [
    "*Fundamental Law of Information Recovery* \n",
    "> Overly accurate answers to too many questions will destroy privacy in a spectacular way"
   ]
  },
  {
   "cell_type": "markdown",
   "metadata": {},
   "source": [
    "* The goal of algorithmic research on differential privacy is to postpone this inevitability as long as possible\n",
    "\n",
    "* Differential privacy addresses the paradox of learning nothing about an individual while learning useful information about a population\n"
   ]
  },
  {
   "cell_type": "markdown",
   "metadata": {},
   "source": []
  },
  {
   "cell_type": "markdown",
   "metadata": {},
   "source": []
  }
 ],
 "metadata": {
  "kernelspec": {
   "display_name": "Python 3",
   "language": "python",
   "name": "python3"
  },
  "language_info": {
   "codemirror_mode": {
    "name": "ipython",
    "version": 3
   },
   "file_extension": ".py",
   "mimetype": "text/x-python",
   "name": "python",
   "nbconvert_exporter": "python",
   "pygments_lexer": "ipython3",
   "version": "3.6.5"
  }
 },
 "nbformat": 4,
 "nbformat_minor": 2
}
