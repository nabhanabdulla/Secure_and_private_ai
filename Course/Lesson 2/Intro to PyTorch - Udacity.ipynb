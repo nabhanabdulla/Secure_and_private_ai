{
 "cells": [
  {
   "cell_type": "markdown",
   "metadata": {},
   "source": [
    "1. `Reshaping Tensors`\n",
    "2. `Numpy to Torch and back`\n",
    "3. `Getting Datasets`\n",
    "4. `2-Layer NN from SCRATCH`\n",
    "5. `Softmax from SCRATCH`  \n",
    "6. `Creating ready-made NN( inheriting torch.nn.Module class )`\n",
    "7. `Creating ready-made NN( using nn.Sequential )`\n",
    "8. `Losses in PyTorch`\n",
    "9. `Autograd`\n",
    "10. `Training a NN`\n",
    "11. `Validating a NN`\n",
    "12. `Dropout( Regularization )`\n",
    "13. `Saving and loading models`\n",
    "14. `Loading our own image data`\n",
    "15. `Problem: Inconsistency of transforms.Normalize across plaforms`"
   ]
  },
  {
   "cell_type": "code",
   "execution_count": 118,
   "metadata": {},
   "outputs": [],
   "source": [
    "# import required modules\n",
    "import torch\n",
    "from torch import optim\n",
    "\n",
    "from torchvision import datasets, transforms\n",
    "\n",
    "import numpy as np\n",
    "\n",
    "from matplotlib import pyplot as plt\n",
    "\n",
    "from tqdm import tqdm \n",
    "from time import time"
   ]
  },
  {
   "cell_type": "markdown",
   "metadata": {},
   "source": [
    "### 1. Reshaping Tensors"
   ]
  },
  {
   "cell_type": "markdown",
   "metadata": {},
   "source": [
    "Let **weights** be a tensor\n",
    "\n",
    "* `weights.reshape(a, b)` will return a new tensor with the same data(points to the same memory location) as `weights` with size `(a, b)` sometimes, and sometimes a clone, as in it copies the data to another part of memory.\n",
    "* `weights.resize_(a, b)` returns the same tensor with a different shape. However, if the new shape results in fewer elements than the original tensor, some elements will be removed from the tensor (but not from memory). If the new shape results in more elements than the original tensor, new elements will be uninitialized in memory. Here we should note that the underscore at the end of the method denotes that this method is performed **in-place**. Here is a great forum thread to [read more about in-place operations](https://discuss.pytorch.org/t/what-is-in-place-operation/16244) in PyTorch.\n",
    "* `weights.view(a, b)` will return a new tensor with the same data as `weights` with size `(a, b)`.\n"
   ]
  },
  {
   "cell_type": "code",
   "execution_count": 8,
   "metadata": {},
   "outputs": [
    {
     "name": "stdout",
     "output_type": "stream",
     "text": [
      "tensor([0.8947]) tensor([-0.3227])\n",
      "id(x): 2204467581432, id(y): 2204497406712\n"
     ]
    }
   ],
   "source": [
    "import torch\n",
    "\n",
    "x = torch.randn(1)\n",
    "y = torch.randn(1)\n",
    "\n",
    "print(x, y)\n",
    "print(f'id(x): {id(x)}, id(y): {id(y)}')"
   ]
  },
  {
   "cell_type": "code",
   "execution_count": 9,
   "metadata": {},
   "outputs": [
    {
     "name": "stdout",
     "output_type": "stream",
     "text": [
      "x = tensor([0.5720]) id(x) = 2204497407864\n"
     ]
    }
   ],
   "source": [
    "x = x + y # Normal operation \n",
    "print(f'x = {x} id(x) = {id(x)}') # New location for x"
   ]
  },
  {
   "cell_type": "code",
   "execution_count": 10,
   "metadata": {},
   "outputs": [
    {
     "name": "stdout",
     "output_type": "stream",
     "text": [
      "x = tensor([0.2493]) id(x) = 2204497407864\n"
     ]
    }
   ],
   "source": [
    "x += y # inplace operation\n",
    "print(f'x = {x} id(x) = {id(x)}') # existing location used(in-place)"
   ]
  },
  {
   "cell_type": "code",
   "execution_count": 11,
   "metadata": {},
   "outputs": [
    {
     "name": "stdout",
     "output_type": "stream",
     "text": [
      "x = tensor([-0.0734]) id(x) = 2204497407864\n"
     ]
    }
   ],
   "source": [
    "x.add_(y) # inplace operation\n",
    "print(f'x = {x} id(x) = {id(x)}') # existing location used(in-place)"
   ]
  },
  {
   "cell_type": "markdown",
   "metadata": {},
   "source": [
    "**Inplace operations in pytorch are always postfixed with a _ , like .add_() or .scatter_(). Python operations like += or *= are also inplace operations.**\n",
    "<hr>"
   ]
  },
  {
   "cell_type": "markdown",
   "metadata": {},
   "source": [
    "### 2. Numpy to Torch and back\n",
    "\n",
    "PyTorch has a great feature for converting between Numpy arrays and Torch tensors. To create a tensor from a Numpy array, use `torch.from_numpy()`. To convert a tensor to a Numpy array, use the `.numpy()` method."
   ]
  },
  {
   "cell_type": "code",
   "execution_count": 12,
   "metadata": {},
   "outputs": [
    {
     "data": {
      "text/plain": [
       "array([[0.62610611, 0.73824629, 0.68162487],\n",
       "       [0.45799142, 0.81512616, 0.9046208 ],\n",
       "       [0.13016165, 0.132936  , 0.03448641],\n",
       "       [0.46551398, 0.73371913, 0.05358193]])"
      ]
     },
     "execution_count": 12,
     "metadata": {},
     "output_type": "execute_result"
    }
   ],
   "source": [
    "import numpy as np\n",
    "a = np.random.rand(4,3)\n",
    "a"
   ]
  },
  {
   "cell_type": "code",
   "execution_count": 13,
   "metadata": {},
   "outputs": [
    {
     "data": {
      "text/plain": [
       "tensor([[0.6261, 0.7382, 0.6816],\n",
       "        [0.4580, 0.8151, 0.9046],\n",
       "        [0.1302, 0.1329, 0.0345],\n",
       "        [0.4655, 0.7337, 0.0536]], dtype=torch.float64)"
      ]
     },
     "execution_count": 13,
     "metadata": {},
     "output_type": "execute_result"
    }
   ],
   "source": [
    "b = torch.from_numpy(a)\n",
    "b"
   ]
  },
  {
   "cell_type": "code",
   "execution_count": 14,
   "metadata": {},
   "outputs": [
    {
     "data": {
      "text/plain": [
       "array([[0.62610611, 0.73824629, 0.68162487],\n",
       "       [0.45799142, 0.81512616, 0.9046208 ],\n",
       "       [0.13016165, 0.132936  , 0.03448641],\n",
       "       [0.46551398, 0.73371913, 0.05358193]])"
      ]
     },
     "execution_count": 14,
     "metadata": {},
     "output_type": "execute_result"
    }
   ],
   "source": [
    "b.numpy()"
   ]
  },
  {
   "cell_type": "markdown",
   "metadata": {},
   "source": [
    "The memory is shared between the Numpy array and Torch tensor, so if you change the values in-place of one object, the other will change as well."
   ]
  },
  {
   "cell_type": "code",
   "execution_count": 15,
   "metadata": {},
   "outputs": [
    {
     "data": {
      "text/plain": [
       "tensor([[1.2522, 1.4765, 1.3632],\n",
       "        [0.9160, 1.6303, 1.8092],\n",
       "        [0.2603, 0.2659, 0.0690],\n",
       "        [0.9310, 1.4674, 0.1072]], dtype=torch.float64)"
      ]
     },
     "execution_count": 15,
     "metadata": {},
     "output_type": "execute_result"
    }
   ],
   "source": [
    "# Multiply PyTorch Tensor by 2, in place\n",
    "b.mul_(2)"
   ]
  },
  {
   "cell_type": "code",
   "execution_count": 16,
   "metadata": {},
   "outputs": [
    {
     "data": {
      "text/plain": [
       "array([[1.25221221, 1.47649258, 1.36324974],\n",
       "       [0.91598285, 1.63025232, 1.8092416 ],\n",
       "       [0.26032331, 0.26587199, 0.06897282],\n",
       "       [0.93102797, 1.46743827, 0.10716386]])"
      ]
     },
     "execution_count": 16,
     "metadata": {},
     "output_type": "execute_result"
    }
   ],
   "source": [
    "# Numpy array matches new values from Tensor\n",
    "a"
   ]
  },
  {
   "cell_type": "markdown",
   "metadata": {},
   "source": [
    "<hr>"
   ]
  },
  {
   "cell_type": "markdown",
   "metadata": {},
   "source": [
    "### 3. Getting datasets"
   ]
  },
  {
   "cell_type": "code",
   "execution_count": 38,
   "metadata": {},
   "outputs": [
    {
     "name": "stdout",
     "output_type": "stream",
     "text": [
      "938\n",
      "157\n"
     ]
    }
   ],
   "source": [
    "from torchvision import datasets, transforms\n",
    "\n",
    "# Define a transform to normalize the data\n",
    "# transforms.Normalize((mean_pixel), (standard_deviation_pixel))\n",
    "transform = transforms.Compose([transforms.ToTensor(),\n",
    "                              transforms.Normalize((0.5,), (0.5,)),\n",
    "                              ])\n",
    "\n",
    "# Download and load the training data\n",
    "trainset = datasets.MNIST('~/.pytorch/MNIST_data/', download=True, train=True, transform=transform)\n",
    "trainloader = torch.utils.data.DataLoader(trainset, batch_size=64, shuffle=True)\n",
    "print(len(trainloader))\n",
    "\n",
    "# Download and load the test data => train=False\n",
    "testset = datasets.MNIST('~/.pytorch/MNIST_data', download=True, train=False, transform=transform)\n",
    "testloader = torch.utils.data.DataLoader(testset, shuffle=True, batch_size=64)\n",
    "print(len(testloader))"
   ]
  },
  {
   "cell_type": "markdown",
   "metadata": {},
   "source": [
    "We have the training data loaded into `trainloader` and we make that an iterator with `iter(trainloader)`. Later, we'll use this to loop through the dataset for training, like\n",
    "\n",
    "```python\n",
    "for image, label in trainloader:\n",
    "    ## do things with images and labels\n",
    "```\n",
    "\n",
    "You'll notice I created the `trainloader` with a batch size of 64, and `shuffle=True`. The batch size is the number of images we get in one iteration from the data loader and pass through our network, often called a *batch*. And `shuffle=True` tells it to shuffle the dataset every time we start going through the data loader again. But here I'm just grabbing the first batch so we can check out the data. We can see below that `images` is just a tensor with size `(64, 1, 28, 28)`. So, 64 images per batch, 1 color channel, and 28x28 images."
   ]
  },
  {
   "cell_type": "code",
   "execution_count": 18,
   "metadata": {},
   "outputs": [
    {
     "name": "stdout",
     "output_type": "stream",
     "text": [
      "<class 'torch.Tensor'>\n",
      "torch.Size([64, 1, 28, 28])\n",
      "torch.Size([64])\n"
     ]
    }
   ],
   "source": [
    "dataiter = iter(trainloader)\n",
    "images, labels = dataiter.next()\n",
    "print(type(images))\n",
    "print(images.shape)\n",
    "print(labels.shape)"
   ]
  },
  {
   "cell_type": "code",
   "execution_count": 19,
   "metadata": {},
   "outputs": [
    {
     "data": {
      "text/plain": [
       "torch.Size([64, 784])"
      ]
     },
     "execution_count": 19,
     "metadata": {},
     "output_type": "execute_result"
    }
   ],
   "source": [
    "inputs = images.view(images.shape[0], -1)\n",
    "inputs.shape"
   ]
  },
  {
   "cell_type": "markdown",
   "metadata": {},
   "source": [
    "### 4. 2-Layer NN from SCRATCH\n",
    "\n",
    "Build a multi-layer network with 784 input units, 256 hidden units, and 10 output units using random tensors for the weights and biases. For now, use a sigmoid activation for the hidden layer and leave the output without one."
   ]
  },
  {
   "cell_type": "code",
   "execution_count": 20,
   "metadata": {},
   "outputs": [
    {
     "name": "stdout",
     "output_type": "stream",
     "text": [
      "torch.Size([64, 10])\n",
      "tensor([[ 1.2275e+00,  1.7868e+01, -3.3610e+00,  9.6572e+00, -4.4323e+00,\n",
      "          2.3538e+00, -1.7093e+01,  1.1102e+01,  7.5253e+00,  6.0052e+00],\n",
      "        [ 1.9197e+00,  3.9145e+00, -4.1184e+00,  1.3343e+01, -1.7035e+01,\n",
      "         -7.0955e+00, -2.2273e+01,  6.2673e+00, -9.8147e-01,  1.0414e+01],\n",
      "        [ 8.1331e+00,  1.6488e+01, -2.4356e-01,  7.5493e+00, -7.8329e+00,\n",
      "          7.8338e+00, -9.8890e+00, -3.9259e+00,  9.7671e+00, -1.7121e+00],\n",
      "        [-8.2881e+00,  8.3918e+00,  2.4722e+00,  1.5421e+01, -5.5535e+00,\n",
      "         -1.6099e+01, -1.6919e+01,  8.2451e+00,  7.3715e+00,  6.4537e+00],\n",
      "        [-3.0707e+00,  1.1511e+01,  5.7331e+00,  9.1911e+00, -1.1015e+01,\n",
      "         -1.7204e+01, -1.1893e+01,  1.2052e+01,  5.1869e+00,  5.8618e+00],\n",
      "        [ 8.3273e+00,  2.2861e+01,  5.9417e+00,  4.5867e+00, -8.6057e-01,\n",
      "          4.6767e-01, -5.5814e+00,  2.7008e+00,  5.5566e+00, -1.2963e+00],\n",
      "        [ 6.5105e+00,  1.0396e+01,  1.5333e+00,  9.1974e+00, -1.2533e+01,\n",
      "         -5.9950e+00, -9.0925e+00,  5.3603e+00,  9.2596e-01,  8.9151e+00],\n",
      "        [-1.3448e+00,  1.4160e+01, -3.9251e-01,  1.1068e+01, -1.1941e+01,\n",
      "          4.1885e+00, -1.2755e+01,  1.1375e+00,  4.4876e+00, -2.5309e+00],\n",
      "        [-2.0910e-02,  7.1224e+00, -1.8648e+00,  6.9049e+00, -7.3644e+00,\n",
      "         -8.4432e+00, -7.2797e+00, -1.0689e+01,  1.0118e+01,  8.2918e+00],\n",
      "        [-5.9524e+00,  1.5381e+01, -5.1827e+00,  1.1216e+01, -1.1935e+01,\n",
      "          3.8111e+00, -1.1889e+01, -5.8222e+00,  5.1292e+00, -1.1950e+00],\n",
      "        [ 3.0741e+00,  6.2451e+00, -1.4843e+01,  8.5791e+00, -1.2331e+01,\n",
      "         -6.2563e+00, -1.4550e+01,  7.6374e-01, -2.9410e+00,  9.4737e-01],\n",
      "        [-9.6433e-01,  1.1856e+01, -2.1460e+00,  7.4837e+00, -5.3113e+00,\n",
      "          6.4434e+00, -2.4769e+01, -6.4022e+00,  5.6151e+00, -3.4949e-01],\n",
      "        [ 4.5334e+00,  1.2757e+01,  3.2517e+00,  1.4420e+01, -1.7858e+01,\n",
      "         -1.4930e+00, -1.6957e+01, -1.7111e+00,  4.3772e+00,  5.1503e-01],\n",
      "        [ 5.5636e+00,  1.0455e+01, -2.3118e+00,  1.4103e+01, -1.9643e+01,\n",
      "          8.1362e-01, -1.2627e+01,  1.5108e+00,  2.1505e+00, -1.0258e+00],\n",
      "        [ 1.7004e+01,  1.0788e+01,  1.0859e+01,  1.2053e+01, -1.1350e+01,\n",
      "         -1.4089e+01, -1.6695e+01,  1.0260e+01,  5.7475e+00,  7.7414e+00],\n",
      "        [-4.0792e+00,  1.1948e+01, -2.8409e+00,  1.1287e+01, -4.9033e+00,\n",
      "         -9.2723e+00, -4.2669e+00,  8.0237e+00, -6.6854e-02,  2.9975e+00],\n",
      "        [-2.9292e+00,  8.5190e+00,  8.8474e-01,  8.4142e+00, -4.9318e+00,\n",
      "         -1.9509e+00, -1.9224e+01,  1.8102e+00,  6.8603e+00, -9.2254e-01],\n",
      "        [ 5.1781e+00,  1.9556e+01, -3.5521e+00,  1.7280e+01, -1.7311e+00,\n",
      "         -3.6414e+00, -1.5468e+01,  6.6664e+00,  9.0824e+00,  7.2131e+00],\n",
      "        [ 6.1628e+00,  1.4270e+01, -8.5276e+00,  7.3227e+00, -1.0694e+01,\n",
      "         -4.3128e+00, -1.0635e+01,  4.5849e+00,  2.8945e+00,  9.5826e+00],\n",
      "        [ 5.8789e+00, -4.7597e-01, -3.4200e+00,  7.4879e+00, -7.0667e+00,\n",
      "         -5.7030e+00, -1.3984e+01, -1.8884e+00,  9.1656e+00,  5.0976e+00],\n",
      "        [ 3.7618e+00,  2.3547e+01, -3.4180e-01,  1.0696e+01, -6.1304e+00,\n",
      "          4.1629e-01, -1.3966e+01,  2.8627e+00,  5.2352e+00,  3.8309e+00],\n",
      "        [-1.0740e+00,  1.4181e+01, -7.4652e+00,  9.4380e+00, -1.0779e+01,\n",
      "         -4.4312e+00, -1.3663e+01,  2.3071e+00,  4.0605e+00,  1.1501e+01],\n",
      "        [ 8.4703e+00,  1.3298e+01,  1.1895e+00,  9.9966e+00, -4.9283e+00,\n",
      "         -2.1353e+00, -1.5580e+01,  3.9758e+00,  7.8917e+00, -4.9013e+00],\n",
      "        [ 1.3220e+00,  5.9659e+00,  8.8072e+00,  1.1382e+01, -5.4908e+00,\n",
      "         -3.7617e+00, -1.2509e+01,  1.6302e+00,  2.9756e-01,  1.3014e+01],\n",
      "        [ 5.7933e+00,  9.9503e+00, -3.5959e+00,  8.4717e+00, -1.4028e+01,\n",
      "          3.4240e+00, -1.7716e+01, -4.2401e+00,  5.8114e+00,  7.8385e+00],\n",
      "        [-1.6460e+00,  7.6542e+00, -9.1470e+00,  8.7447e+00, -1.1755e+01,\n",
      "          6.6537e-01, -1.5601e+01,  3.3210e+00,  3.3652e+00,  3.1737e+00],\n",
      "        [ 6.5072e+00,  2.4765e+01, -2.1521e+00,  9.4189e+00, -1.2246e+01,\n",
      "         -2.6575e+00, -1.3568e+01, -8.0640e+00,  7.6426e+00,  1.1201e+00],\n",
      "        [-4.5313e+00,  4.8037e+00, -4.9487e+00,  1.7642e+01, -5.6682e+00,\n",
      "         -5.1015e+00, -1.5955e+01, -2.5951e-01,  5.5312e+00,  1.3628e+01],\n",
      "        [-7.0681e-01,  1.4221e+01,  2.0482e+00,  6.7972e+00, -1.4271e+01,\n",
      "         -3.4375e+00, -8.1188e+00,  2.8644e+00,  1.0563e+00,  9.2446e+00],\n",
      "        [-3.3958e-01,  9.9580e+00, -1.2774e+01,  1.4012e+01, -8.3605e+00,\n",
      "         -7.6463e+00, -1.3899e+01, -1.5214e+01,  7.9080e+00, -7.9479e+00],\n",
      "        [ 6.5130e+00,  6.7572e+00, -8.9659e+00,  1.7952e+01, -1.2763e+01,\n",
      "         -3.9656e+00, -1.5732e+01,  4.8910e+00,  6.4145e+00,  1.0895e+01],\n",
      "        [-4.5738e+00,  1.3204e+01, -3.2457e+00,  5.8317e+00, -7.2960e+00,\n",
      "         -5.3711e+00, -1.4109e+01,  1.1324e+01,  1.5403e+00, -1.2591e+00],\n",
      "        [-3.0860e-01,  1.3455e+01, -2.3819e+00,  8.4273e+00, -9.2483e+00,\n",
      "         -2.3050e+00, -2.8579e+01,  9.8449e+00, -1.9906e+00,  1.1598e+01],\n",
      "        [ 1.3743e+01,  1.5186e+01, -2.1097e+00,  1.1746e+01, -1.4385e+01,\n",
      "         -8.6699e+00, -2.1463e+01, -2.1164e+00, -3.3917e+00,  6.7177e+00],\n",
      "        [ 2.4546e+00,  1.4810e+01, -2.2543e+00,  9.7937e+00,  5.4866e+00,\n",
      "         -4.0623e-01, -1.4811e+01, -3.4243e+00, -4.9088e-01,  3.0173e+00],\n",
      "        [-3.9211e+00,  1.7737e+01, -4.5324e+00,  1.1481e+01, -1.1865e+01,\n",
      "         -3.4042e+00, -1.5277e+01,  1.8949e+00,  2.5331e+00,  4.7170e+00],\n",
      "        [-6.3210e+00,  9.1610e+00, -3.7144e+00,  1.6855e+01, -1.0198e+01,\n",
      "          2.9097e+00, -1.9646e+01, -5.2721e+00,  3.7554e+00,  1.1439e+01],\n",
      "        [-1.7213e+00,  1.4224e+01,  6.4338e+00,  1.7415e+01, -8.3898e+00,\n",
      "         -5.8338e+00, -1.2869e+01,  1.0893e+01, -6.9176e-01,  2.2146e+00],\n",
      "        [ 2.3754e+00,  1.1297e+01,  1.4160e+00,  1.0938e+01, -6.0994e+00,\n",
      "          4.8036e+00, -1.4597e+01,  1.7066e+01,  2.6633e+00,  9.7969e+00],\n",
      "        [-1.7198e-01,  1.2201e+01,  6.5993e+00,  3.7973e+00, -1.7752e+01,\n",
      "         -2.4998e+00, -1.3387e+01,  7.7498e+00,  9.6752e+00,  3.4090e+00],\n",
      "        [-1.7270e+00,  1.0049e+01,  4.3021e+00,  1.0012e+01, -1.6718e+01,\n",
      "         -1.6270e+00, -1.2434e+01,  5.0648e-01,  6.5847e+00,  8.7103e+00],\n",
      "        [-3.9118e+00,  6.5003e+00, -1.4821e-01,  1.3538e+01, -9.5462e+00,\n",
      "          5.7484e+00, -1.5109e+01,  1.2891e+00,  5.4181e+00,  5.5239e+00],\n",
      "        [ 3.4923e+00,  7.0976e+00,  7.2264e+00,  1.7651e+01, -1.6620e+01,\n",
      "         -7.9887e+00, -1.5537e+01, -3.7094e-01,  8.2754e-02,  1.0746e+01],\n",
      "        [-3.3089e+00,  1.2866e+01,  3.8452e-01,  5.8648e+00, -1.6589e+01,\n",
      "         -1.8134e+00, -1.4402e+01, -5.2727e+00,  3.7298e-02, -3.6011e+00],\n",
      "        [-3.0780e+00,  1.5458e+00, -7.6187e+00,  9.2200e+00, -7.7033e+00,\n",
      "          6.7173e+00, -1.1830e+01, -1.1704e+00, -8.1303e+00,  1.0303e+01],\n",
      "        [-1.8077e+00,  7.7820e+00, -9.7886e+00,  8.2668e+00, -6.5495e+00,\n",
      "         -7.4815e+00, -1.6830e+01,  2.5089e+00,  1.1533e+01,  5.6518e+00],\n",
      "        [-5.3633e+00,  9.5052e+00,  8.5362e-01,  1.2828e+01, -1.0198e+01,\n",
      "         -2.2072e+00, -1.5676e+01, -2.7391e+00, -1.8419e-01,  5.6966e-01],\n",
      "        [-5.4520e-01,  6.3207e+00,  3.8277e+00,  1.3973e+01, -1.5152e+00,\n",
      "         -6.8689e+00, -1.3365e+01,  9.8421e+00,  1.4740e+01,  1.2942e+01],\n",
      "        [ 2.2689e+00,  1.1150e+01, -2.4279e-01,  1.6572e+01, -1.4735e+01,\n",
      "         -1.1412e+00, -2.0295e+01,  1.5139e+00,  9.9467e+00,  1.7261e+01],\n",
      "        [ 3.0609e+00,  5.3752e+00, -8.6619e+00,  1.2141e+01, -3.2329e+00,\n",
      "         -3.4438e+00, -1.6206e+01, -2.8097e+00,  1.1789e+01,  7.3719e+00],\n",
      "        [ 6.8270e+00,  1.3962e+01,  4.9136e+00,  1.3942e+01, -1.1461e+01,\n",
      "         -3.5601e+00, -1.1735e+01,  4.3909e+00, -1.3329e+00,  1.1354e+00],\n",
      "        [-1.8271e+00,  1.5915e+01,  5.7507e-01,  1.3434e+01, -1.6011e+01,\n",
      "          1.7460e+00, -1.7432e+01,  4.7779e-01,  8.6917e+00,  1.7422e+00],\n",
      "        [ 3.0596e-01,  4.9232e+00,  1.0353e+01,  9.6420e+00, -1.3524e+01,\n",
      "         -3.2902e+00, -1.6701e+01, -1.4056e+01,  1.3223e+01,  6.2856e+00],\n",
      "        [-1.1687e+00,  8.1795e+00, -7.2345e+00,  1.2604e+01, -1.5303e+01,\n",
      "         -2.0368e-01, -8.9404e+00, -6.4585e-01,  3.4268e+00, -1.2273e+00],\n",
      "        [ 6.0485e+00,  5.3784e+00,  5.1973e+00,  6.2174e-01, -8.9005e+00,\n",
      "         -6.4512e+00, -1.4387e+01,  1.4352e+00,  8.5693e+00,  1.1865e+01],\n",
      "        [-1.5121e+00,  1.4100e+01, -2.6796e+00,  1.1292e+01, -5.7271e+00,\n",
      "         -5.6281e+00, -9.2404e+00, -1.2552e+00,  4.6918e+00,  5.9914e+00],\n",
      "        [-4.3710e+00,  1.1921e+01,  2.5640e+00,  1.5142e+01, -8.0444e+00,\n",
      "         -1.6518e+00, -1.1106e+01,  8.8188e-01,  8.7795e-01,  9.4238e+00],\n",
      "        [-5.4893e+00,  7.3020e+00, -6.0077e-01,  7.7944e+00, -7.3081e+00,\n",
      "          5.6441e+00, -1.0525e+01,  5.9321e-01,  2.0875e+00,  1.4748e+00],\n",
      "        [-2.7407e+00,  1.1175e+01,  1.1906e+00,  5.5345e+00, -7.1447e+00,\n",
      "          1.4269e-02, -1.1201e+01, -5.2478e-01,  2.4413e+00, -4.6463e-01],\n",
      "        [-7.2694e+00,  2.0491e+01, -9.9162e+00,  1.2565e+01,  2.0384e+00,\n",
      "         -1.2033e+01, -1.3293e+01,  6.0146e+00,  1.3610e+01, -7.0099e+00],\n",
      "        [ 8.9040e+00,  5.4497e+00,  2.4110e+00,  9.1147e+00, -9.8004e+00,\n",
      "         -8.8865e+00, -1.3764e+01, -5.1630e+00,  8.6840e+00,  2.6515e+00],\n",
      "        [-6.7236e-01,  1.4924e+01, -1.1572e+00,  1.1562e+01, -1.5265e+01,\n",
      "         -4.4374e+00, -1.6309e+01,  2.6363e+00,  1.2643e+01,  7.4282e+00],\n",
      "        [ 8.8667e+00,  4.1538e+00,  1.9286e+00,  1.0439e+01, -4.4296e+00,\n",
      "         -4.3775e+00, -1.5762e+01,  1.0427e+01,  3.7846e-01,  8.7300e+00],\n",
      "        [ 3.1190e+00,  1.1164e+01, -1.0738e+00,  1.0045e+01, -3.2690e+00,\n"
     ]
    },
    {
     "name": "stdout",
     "output_type": "stream",
     "text": [
      "          3.5082e+00, -1.5746e+01, -4.7840e+00,  9.5252e+00, -7.5188e+00]])\n"
     ]
    }
   ],
   "source": [
    "## Your solution\n",
    "np.random.seed(7)\n",
    "\n",
    "def activation(x):\n",
    "    return 1 / (1 + torch.exp(-x)) # or np.exp(-x)\n",
    "\n",
    "# Flatten the input image\n",
    "inputs = images.view(images.shape[0], -1)# or images.view(64, 784)\n",
    "\n",
    "# Set network layer sizes\n",
    "n_input = inputs.shape[1] # 784\n",
    "n_hidden = 256\n",
    "n_output = 10\n",
    "\n",
    "# Create parameters\n",
    "W1 = torch.randn(n_input, n_hidden) # weights for the hidden layer- 784X256\n",
    "W2 = torch.randn(n_hidden, n_output) # weights for the output layer- 256X10\n",
    "\n",
    "B1 = torch.randn(1, n_hidden) # biases for the hidden layer- 1X256\n",
    "B2 = torch.randn(1, n_output) # biases for the output layer- 1X10\n",
    "\n",
    "# output of hidden layer- 64X256 ie 1X256 values for 64 images in the batch\n",
    "# torch.mm(inputs, W1)- 64X256\n",
    "# even though B1 is of shape 1X256, it broadcasts to 64X256 when made to add with a 64X256 matrix\n",
    "h = activation(torch.mm(inputs, W1) + B1) \n",
    "\n",
    "# torch.mm(h, W2)- 64X10\n",
    "# B2 broadcasts from 1X10 to 64X10 on addition with a 64X10 matrix\n",
    "out = torch.mm(h, W2) + B2 # network output- 64X10 ie 10 output values for each of 64 images\n",
    "\n",
    "print(out.shape)\n",
    "print(out)"
   ]
  },
  {
   "cell_type": "markdown",
   "metadata": {},
   "source": [
    "### 5. Softmax from SCRATCH"
   ]
  },
  {
   "cell_type": "code",
   "execution_count": 21,
   "metadata": {},
   "outputs": [
    {
     "name": "stdout",
     "output_type": "stream",
     "text": [
      "torch.Size([64, 10])\n",
      "tensor([1.0000, 1.0000, 1.0000, 1.0000, 1.0000, 1.0000, 1.0000, 1.0000, 1.0000,\n",
      "        1.0000, 1.0000, 1.0000, 1.0000, 1.0000, 1.0000, 1.0000, 1.0000, 1.0000,\n",
      "        1.0000, 1.0000, 1.0000, 1.0000, 1.0000, 1.0000, 1.0000, 1.0000, 1.0000,\n",
      "        1.0000, 1.0000, 1.0000, 1.0000, 1.0000, 1.0000, 1.0000, 1.0000, 1.0000,\n",
      "        1.0000, 1.0000, 1.0000, 1.0000, 1.0000, 1.0000, 1.0000, 1.0000, 1.0000,\n",
      "        1.0000, 1.0000, 1.0000, 1.0000, 1.0000, 1.0000, 1.0000, 1.0000, 1.0000,\n",
      "        1.0000, 1.0000, 1.0000, 1.0000, 1.0000, 1.0000, 1.0000, 1.0000, 1.0000,\n",
      "        1.0000])\n"
     ]
    }
   ],
   "source": [
    "def softmax(x):\n",
    "    num = torch.exp(x)\n",
    "    den = torch.sum(torch.exp(x), dim=1).view(-1, 1) # change shape from (64, ) to (64, 1).\n",
    "    return num/den\n",
    "\n",
    "# Here, out should be the output of the network in the previous excercise with shape (64,10)\n",
    "probabilities = softmax(out)\n",
    "\n",
    "# Does it have the right shape? Should be (64, 10)\n",
    "print(probabilities.shape)\n",
    "# Does it sum to 1?\n",
    "print(probabilities.sum(dim=1))"
   ]
  },
  {
   "cell_type": "markdown",
   "metadata": {},
   "source": [
    "<img src=\"../img/softmax-formula.png\" width=\"360px\">"
   ]
  },
  {
   "cell_type": "markdown",
   "metadata": {},
   "source": [
    "The softmax function is calculated by:\n",
    "\n",
    "1. Find the exponential of the quantity whose softmax score we need to know( `Numerator` )\n",
    "2. Find the exponential of all the quantities in the group over which we need to find the softmax score( the value of each of the 10 output nodes corresponding to 10 class labels in our case ) and add( $\\Sigma_j$ ) it ( `Denominator` )\n",
    "\n",
    "ie for each value in the group, calculate its exponential and divide it by the sum of exponentials of all values in its group\n",
    "\n",
    "In our case, we are calculating softmax for the output of all 64 images together. \n",
    "\n",
    "Let's start out by viewing how we calculate softmax for a single image."
   ]
  },
  {
   "cell_type": "code",
   "execution_count": 30,
   "metadata": {},
   "outputs": [
    {
     "name": "stdout",
     "output_type": "stream",
     "text": [
      "torch.Size([10])\n",
      "tensor([  1.2275,  17.8675,  -3.3610,   9.6572,  -4.4323,   2.3538, -17.0929,\n",
      "         11.1017,   7.5253,   6.0052])\n"
     ]
    }
   ],
   "source": [
    "# from our NN output of 64 images, get output of the first image\n",
    "# out.shape == [64, 10]\n",
    "single_image_output = out[0] # or out[0, :] as we require all the 10 column values in the first image\n",
    "\n",
    "print(single_image_output.shape)\n",
    "print(single_image_output)"
   ]
  },
  {
   "cell_type": "code",
   "execution_count": 31,
   "metadata": {},
   "outputs": [
    {
     "name": "stdout",
     "output_type": "stream",
     "text": [
      "torch.Size([10])\n",
      "tensor([3.4127e+00, 5.7512e+07, 3.4701e-02, 1.5635e+04, 1.1887e-02, 1.0525e+01,\n",
      "        3.7727e-08, 6.6287e+04, 1.8543e+03, 4.0552e+02])\n"
     ]
    }
   ],
   "source": [
    "# now we can find the softmax scores of the values in the output\n",
    "\n",
    "# 1. Numerator\n",
    "# instead of finding the exponential of each of the values in the output, we can find exponential of all values in the\n",
    "# output using vectorised operations\n",
    "numerator = torch.exp(single_image_output)\n",
    "\n",
    "print(numerator.shape)\n",
    "print(numerator)"
   ]
  },
  {
   "cell_type": "code",
   "execution_count": 33,
   "metadata": {},
   "outputs": [
    {
     "name": "stdout",
     "output_type": "stream",
     "text": [
      "torch.Size([])\n",
      "tensor(57596524.)\n"
     ]
    }
   ],
   "source": [
    "# 2. Denominator\n",
    "# we need to find the sum of exponentials of all values in the output\n",
    "exponentials = torch.exp(single_image_output) # exponential of all values in the output as a tensor\n",
    "denominator = torch.sum(exponentials) # add all the exponential values to get the sum\n",
    "\n",
    "print(denominator.shape)\n",
    "print(denominator)"
   ]
  },
  {
   "cell_type": "code",
   "execution_count": 46,
   "metadata": {},
   "outputs": [
    {
     "name": "stdout",
     "output_type": "stream",
     "text": [
      "Broadcasted denominator: tensor([57596524., 57596524., 57596524., 57596524., 57596524., 57596524.,\n",
      "        57596524., 57596524., 57596524., 57596524.]) of shape torch.Size([10])\n",
      "\n",
      "Softmax: tensor([5.9251e-08, 9.9854e-01, 6.0249e-10, 2.7145e-04, 2.0639e-10, 1.8274e-07,\n",
      "        6.5501e-16, 1.1509e-03, 3.2195e-05, 7.0407e-06])\n",
      "Softmax using denominator of same shape as numerator: tensor([5.9251e-08, 9.9854e-01, 6.0249e-10, 2.7145e-04, 2.0639e-10, 1.8274e-07,\n",
      "        6.5501e-16, 1.1509e-03, 3.2195e-05, 7.0407e-06])\n",
      "\n",
      "Both tensors are of same value\n"
     ]
    }
   ],
   "source": [
    "# Find softmax\n",
    "\n",
    "softmax = numerator / denominator\n",
    "\n",
    "# By dividing the numerator tensor of size 10( 1 dimension ) with denominator tensor of size 1 ( 0 dimension or scalar )\n",
    "# the denominator gets broadcasted to a suitable shape, here to size 10 to make the division happen\n",
    "\n",
    "# ie by running numerator / denominator actually denominator gets modified to\n",
    "broadcasted_denominator = torch.Tensor(10).fill_(denominator)\n",
    "\n",
    "print(f'Broadcasted denominator: {broadcasted_denominator} of shape {broadcasted_denominator.shape}\\n')\n",
    "\n",
    "softmax_broadcasted = numerator / broadcasted_denominator\n",
    "\n",
    "print(f'Softmax: {softmax}')\n",
    "print(f'Softmax using denominator of same shape as numerator: {softmax_broadcasted}\\n')\n",
    "\n",
    "\n",
    "equality_check = torch.all(torch.eq(softmax, softmax_broadcasted))\n",
    "if equality_check == 1:\n",
    "    print('Both tensors are of same value')\n",
    "else:\n",
    "    print('The tensors differ')"
   ]
  },
  {
   "cell_type": "markdown",
   "metadata": {},
   "source": [
    "**The takeaway is that given 10 values to softmax, we use all these 10 values to calculate new 10 values**"
   ]
  },
  {
   "cell_type": "markdown",
   "metadata": {},
   "source": [
    "Now let's get on to calculating softmax over the batch of 64 images\n",
    "<img src=\"../img/softmax-formula.png\" width=\"360px\">"
   ]
  },
  {
   "cell_type": "code",
   "execution_count": 47,
   "metadata": {},
   "outputs": [
    {
     "name": "stdout",
     "output_type": "stream",
     "text": [
      "torch.Size([64, 10])\n"
     ]
    }
   ],
   "source": [
    "print(out.shape) # we have 10 class labels each for the 64 images"
   ]
  },
  {
   "cell_type": "code",
   "execution_count": 49,
   "metadata": {},
   "outputs": [
    {
     "name": "stdout",
     "output_type": "stream",
     "text": [
      "torch.Size([64, 10])\n"
     ]
    }
   ],
   "source": [
    "# 1. Numerator\n",
    "# Find the exponential of all values we have\n",
    "numerator = torch.exp(out)\n",
    "print(num.shape)"
   ]
  },
  {
   "cell_type": "code",
   "execution_count": 56,
   "metadata": {},
   "outputs": [
    {
     "name": "stdout",
     "output_type": "stream",
     "text": [
      "torch.Size([64])\n"
     ]
    }
   ],
   "source": [
    "# 2. Denominator\n",
    "# find exponentials\n",
    "expos = torch.exp(out)\n",
    "# we need to add the 10 exponentials of each image and \n",
    "# get a new tensor with a sum for each image ie a 1D tensor of 64 values\n",
    "denominator = torch.sum(expos, dim=1) # dim=1 adds up all values in a row, ie for each image\n",
    "print(denominator.shape)"
   ]
  },
  {
   "cell_type": "markdown",
   "metadata": {},
   "source": [
    "expos is a `[64, 10]` tensor. `dim=1` in the `torch.sum` function tells it to sum over the values in the second dimension ( first dimenstion is specified by dim=0 ). This results in a `[64]` tensor ie a 1D tensor. \n",
    "\n",
    "If we had given `dim=0` as the argument, the returned tensor would had a shape of `[10]`, as the values in the first dimension would be added up.\n",
    "\n",
    "Incase you are wondering what would happen, if we omit the `dim` argument, it would just sum up all the values in the tensor."
   ]
  },
  {
   "cell_type": "markdown",
   "metadata": {},
   "source": [
    "**torch.Size([64])** ~ **numpy (64, )** it is considered to be **(1, 64)** during broadcasting.\n",
    "\n",
    "So if we divide (64, 10) the numerator with (64, ), python will try to broadcast to make the tensors of same size.\n",
    "(64, ) to (1, 64) to ?\n",
    "\n",
    "(64, 10) and (1, 64) can't be broadcasted to equal size and python outputs error.\n",
    "\n",
    "Now if we reshape (64, ) to (64, 1), the broadcasting goes like this,\n",
    "(64, 1) to (64, 10)\n",
    "\n",
    "Now, (64, 10) the numerator and (64, 10) the broadcasted denominator can be divided"
   ]
  },
  {
   "cell_type": "markdown",
   "metadata": {},
   "source": [
    "<hr>"
   ]
  },
  {
   "cell_type": "markdown",
   "metadata": {},
   "source": [
    "### 6. Creating ready-made NN( inheriting torch.nn.Module class )"
   ]
  },
  {
   "cell_type": "code",
   "execution_count": 115,
   "metadata": {},
   "outputs": [
    {
     "data": {
      "text/plain": [
       "Network3L(\n",
       "  (fc1): Linear(in_features=784, out_features=128, bias=True)\n",
       "  (fc2): Linear(in_features=128, out_features=64, bias=True)\n",
       "  (fc3): Linear(in_features=64, out_features=10, bias=True)\n",
       ")"
      ]
     },
     "execution_count": 115,
     "metadata": {},
     "output_type": "execute_result"
    }
   ],
   "source": [
    "## Your solution here\n",
    "from torch import nn\n",
    "import torch.nn.functional as f\n",
    "\n",
    "# 3 layer NN\n",
    "class Network3L(nn.Module):\n",
    "    def __init__(self):\n",
    "        super().__init__()\n",
    "\n",
    "        # first fc hidden layer\n",
    "        self.fc1 = nn.Linear(784, 128)\n",
    "\n",
    "        # second fc hidden layer\n",
    "        self.fc2 = nn.Linear(128, 64)\n",
    "\n",
    "        # fc output layer\n",
    "        self.fc3 = nn.Linear(64, 10)\n",
    "    \n",
    "    def forward(self, x):\n",
    "        h1 = F.relu(self.fc1(x)) # output of first hidden layer\n",
    "        h2 = F.relu(self.fc2(h1)) # output of second hidden layer\n",
    "        out = F.sigmoid(self.fc3(h2)) # neural network output\n",
    "\n",
    "        return out\n",
    "    \n",
    "model = Network3L()\n",
    "model"
   ]
  },
  {
   "cell_type": "code",
   "execution_count": 24,
   "metadata": {},
   "outputs": [
    {
     "name": "stdout",
     "output_type": "stream",
     "text": [
      "torch.Size([128, 784]) torch.Size([128])\n"
     ]
    }
   ],
   "source": [
    "print(model.fc1.weight.shape, model.fc1.bias.shape)"
   ]
  },
  {
   "cell_type": "markdown",
   "metadata": {},
   "source": [
    "<hr>"
   ]
  },
  {
   "cell_type": "markdown",
   "metadata": {},
   "source": [
    "### 7. Creating ready-made NN( using ***nn.Sequential*** )\n",
    "\n",
    "PyTorch provides a convenient way to build networks like this where a tensor is passed sequentially through operations, `nn.Sequential` ([documentation](https://pytorch.org/docs/master/nn.html#torch.nn.Sequential)). Using this to build the equivalent network:"
   ]
  },
  {
   "cell_type": "code",
   "execution_count": 27,
   "metadata": {},
   "outputs": [
    {
     "name": "stdout",
     "output_type": "stream",
     "text": [
      "Sequential(\n",
      "  (0): Linear(in_features=784, out_features=128, bias=True)\n",
      "  (1): ReLU()\n",
      "  (2): Linear(in_features=128, out_features=64, bias=True)\n",
      "  (3): ReLU()\n",
      "  (4): Linear(in_features=64, out_features=10, bias=True)\n",
      "  (5): Softmax()\n",
      ")\n"
     ]
    }
   ],
   "source": [
    "# Hyperparameters for our network\n",
    "input_size = 784\n",
    "hidden_sizes = [128, 64]\n",
    "output_size = 10\n",
    "\n",
    "# Build a feed-forward network\n",
    "model = nn.Sequential(nn.Linear(input_size, hidden_sizes[0]),\n",
    "                      nn.ReLU(),\n",
    "                      nn.Linear(hidden_sizes[0], hidden_sizes[1]),\n",
    "                      nn.ReLU(),\n",
    "                      nn.Linear(hidden_sizes[1], output_size),\n",
    "                      nn.Softmax(dim=1))\n",
    "print(model)\n",
    "\n",
    "# Forward pass through the network and display output\n",
    "images, labels = next(iter(trainloader)) # get first batch of images and their labels\n",
    "images.resize_(images.shape[0], 1, 784) # resize images in-place using resize_\n",
    "ps = model.forward(images[0,:]) # forward pass through our NN, the batch of images"
   ]
  },
  {
   "cell_type": "code",
   "execution_count": 60,
   "metadata": {
    "scrolled": true
   },
   "outputs": [
    {
     "data": {
      "image/png": "[encoded data removed]",
      "text/plain": [
       "<Figure size 432x648 with 2 Axes>"
      ]
     },
     "metadata": {},
     "output_type": "display_data"
    }
   ],
   "source": [
    "import matplotlib.pyplot as plt\n",
    "\n",
    "fig, ax = plt.subplots(1, 2, figsize=(6, 9))\n",
    "\n",
    "ax[0].imshow(images[0].view(28, 28))\n",
    "ax[0].axis('off')\n",
    "\n",
    "ax[1].barh(np.arange(10), ps.data.numpy().squeeze())\n",
    "ax[1].set_aspect(0.1)\n",
    "ax[1].set_xlim(0, 1.1)\n",
    "ax[1].set_yticks(np.arange(10))\n",
    "ax[1].set_yticklabels(np.arange(10))\n",
    "ax[1].set_title('Class Probability')\n",
    "\n",
    "plt.tight_layout()\n",
    "#helper.view_classify(images[0].view(1, 28, 28), ps)"
   ]
  },
  {
   "cell_type": "markdown",
   "metadata": {},
   "source": [
    "<hr>"
   ]
  },
  {
   "cell_type": "markdown",
   "metadata": {},
   "source": [
    "### 8. Losses in PyTorch"
   ]
  },
  {
   "cell_type": "markdown",
   "metadata": {},
   "source": [
    "Through the `nn` module, PyTorch provides losses such as the cross-entropy loss (`nn.CrossEntropyLoss`). With a classification problem such as MNIST digit classification, we're using the softmax function to predict class probabilities. With a softmax output, we use cross-entropy as the loss. To actually calculate the loss, you first define the criterion( the type of loss to use ) then pass in the output of your network and the correct labels.\n",
    "\n",
    "Something really important to note here. Looking at [the documentation for `nn.CrossEntropyLoss`](https://pytorch.org/docs/stable/nn.html#torch.nn.CrossEntropyLoss),\n",
    "\n",
    "> This criterion combines `nn.LogSoftmax()` and `nn.NLLLoss()` in one single class.\n",
    ">\n",
    "> The input is expected to contain scores for each class.\n",
    "\n",
    "This means we need to pass in the raw output of our network into the loss, not the output of the softmax function. This raw output is usually called the *logits* or *scores*. We use the logits because softmax gives you probabilities which will often be very close to zero or one but floating-point numbers can't accurately represent values near zero or one ([read more here](https://docs.python.org/3/tutorial/floatingpoint.html)). It's usually best to avoid doing calculations with probabilities, typically we use log-probabilities."
   ]
  },
  {
   "cell_type": "markdown",
   "metadata": {},
   "source": [
    "It's more convenient to build the model with a log-softmax output using `nn.LogSoftmax` or `F.log_softmax` ([documentation](https://pytorch.org/docs/stable/nn.html#torch.nn.LogSoftmax)). Then you can get the actual probabilities by taking the exponential `torch.exp(output)`. With a log-softmax output, you want to use the negative log likelihood loss, `nn.NLLLoss` ([documentation](https://pytorch.org/docs/stable/nn.html#torch.nn.NLLLoss)).\n"
   ]
  },
  {
   "cell_type": "markdown",
   "metadata": {},
   "source": [
    "### 9. Autograd"
   ]
  },
  {
   "cell_type": "markdown",
   "metadata": {},
   "source": [
    "Torch provides a module, `autograd`, for automatically calculating the gradients of tensors. We can use it to calculate the gradients of all our parameters with respect to the loss. Autograd works by keeping track of operations performed on tensors, then going backwards through those operations, calculating gradients along the way. To make sure PyTorch keeps track of operations on a tensor and calculates the gradients, you need to set `requires_grad = True` on a tensor. You can do this at creation with the `requires_grad` keyword, or at any time with `x.requires_grad_(True)`.\n",
    "\n",
    "You can turn off gradients for a block of code with the `torch.no_grad()` content:\n",
    "```python\n",
    "x = torch.zeros(1, requires_grad=True)\n",
    ">>> with torch.no_grad():\n",
    "...     y = x * 2\n",
    ">>> y.requires_grad\n",
    "False\n",
    "```\n",
    "This can be used for example while validating the model, as it speeds up our code\n",
    "\n",
    "Also, you can turn on or off gradients altogether with `torch.set_grad_enabled(True|False)`.\n",
    "\n",
    "The gradients are computed with respect to some variable `z` with `z.backward()`. This does a backward pass through the operations that created `z`."
   ]
  },
  {
   "cell_type": "markdown",
   "metadata": {},
   "source": [
    "### 10. Training a NN"
   ]
  },
  {
   "cell_type": "code",
   "execution_count": 137,
   "metadata": {},
   "outputs": [
    {
     "name": "stderr",
     "output_type": "stream",
     "text": [
      "100%|████████████████████████████████████████████████████████████████████████████████| 938/938 [00:15<00:00, 59.79it/s]\n"
     ]
    },
    {
     "name": "stdout",
     "output_type": "stream",
     "text": [
      "Training loss: 1.7905099846279697\n"
     ]
    },
    {
     "name": "stderr",
     "output_type": "stream",
     "text": [
      "100%|████████████████████████████████████████████████████████████████████████████████| 938/938 [00:15<00:00, 62.09it/s]\n"
     ]
    },
    {
     "name": "stdout",
     "output_type": "stream",
     "text": [
      "Training loss: 0.7698619087049956\n"
     ]
    },
    {
     "name": "stderr",
     "output_type": "stream",
     "text": [
      "100%|████████████████████████████████████████████████████████████████████████████████| 938/938 [00:15<00:00, 58.91it/s]\n"
     ]
    },
    {
     "name": "stdout",
     "output_type": "stream",
     "text": [
      "Training loss: 0.5029714950112137\n"
     ]
    },
    {
     "name": "stderr",
     "output_type": "stream",
     "text": [
      "100%|████████████████████████████████████████████████████████████████████████████████| 938/938 [00:16<00:00, 57.03it/s]\n"
     ]
    },
    {
     "name": "stdout",
     "output_type": "stream",
     "text": [
      "Training loss: 0.41770175499702566\n"
     ]
    },
    {
     "name": "stderr",
     "output_type": "stream",
     "text": [
      "100%|████████████████████████████████████████████████████████████████████████████████| 938/938 [00:18<00:00, 51.39it/s]\n"
     ]
    },
    {
     "name": "stdout",
     "output_type": "stream",
     "text": [
      "Training loss: 0.37675641253114\n"
     ]
    }
   ],
   "source": [
    "# show progress of for loop\n",
    "from tqdm import tqdm \n",
    "from torch import optim\n",
    "\n",
    "# define the model\n",
    "model = nn.Sequential(nn.Linear(784, 128),\n",
    "                      nn.ReLU(),\n",
    "                      nn.Linear(128, 64),\n",
    "                      nn.ReLU(),\n",
    "                      nn.Linear(64, 10),\n",
    "                      nn.LogSoftmax(dim=1))\n",
    "\n",
    "# set Negative log likelihood loss as loss function\n",
    "# LogSoftmax => NLLLoss\n",
    "criterion = nn.NLLLoss()\n",
    "# set Stochastic Gradient Descent as the optimizer\n",
    "optimizer = optim.SGD(model.parameters(), lr=0.003)\n",
    "\n",
    "epochs = 5\n",
    "# loop over the entire data 5 times\n",
    "for e in range(epochs):\n",
    "    running_loss = 0\n",
    "    for images, labels in tqdm(trainloader):\n",
    "        # Flatten MNIST images into a 784 long vector\n",
    "        images = images.view(images.shape[0], -1)\n",
    "    \n",
    "        # TODO: Training pass\n",
    "        optimizer.zero_grad()\n",
    "        \n",
    "        logps = model(images) # 1. forward pass\n",
    "        loss = criterion(logps, labels) # 2. calculate loss\n",
    "        loss.backward() # 3. Find gradients by back-propogating\n",
    "        optimizer.step() # 4. Update weights using gradients\n",
    "        \n",
    "        running_loss += loss.item()\n",
    "    else: # executed after for loop completes its execution normally - w/o encountering a break statement\n",
    "        print(f\"Training loss: {running_loss/len(trainloader)}\")"
   ]
  },
  {
   "cell_type": "markdown",
   "metadata": {},
   "source": [
    "### 11. Validating our NN"
   ]
  },
  {
   "cell_type": "code",
   "execution_count": 1,
   "metadata": {
    "scrolled": true
   },
   "outputs": [
    {
     "ename": "NameError",
     "evalue": "name 'nn' is not defined",
     "output_type": "error",
     "traceback": [
      "\u001b[1;31m---------------------------------------------------------------------------\u001b[0m",
      "\u001b[1;31mNameError\u001b[0m                                 Traceback (most recent call last)",
      "\u001b[1;32m<ipython-input-1-fa8405f60a9f>\u001b[0m in \u001b[0;36m<module>\u001b[1;34m()\u001b[0m\n\u001b[0;32m      5\u001b[0m \u001b[0msteps\u001b[0m \u001b[1;33m=\u001b[0m \u001b[1;36m0\u001b[0m\u001b[1;33m\u001b[0m\u001b[0m\n\u001b[0;32m      6\u001b[0m \u001b[1;33m\u001b[0m\u001b[0m\n\u001b[1;32m----> 7\u001b[1;33m model = nn.Sequential(nn.Linear(784, 256),\n\u001b[0m\u001b[0;32m      8\u001b[0m                       \u001b[0mnn\u001b[0m\u001b[1;33m.\u001b[0m\u001b[0mReLU\u001b[0m\u001b[1;33m(\u001b[0m\u001b[1;33m)\u001b[0m\u001b[1;33m,\u001b[0m\u001b[1;33m\u001b[0m\u001b[0m\n\u001b[0;32m      9\u001b[0m                       \u001b[0mnn\u001b[0m\u001b[1;33m.\u001b[0m\u001b[0mLinear\u001b[0m\u001b[1;33m(\u001b[0m\u001b[1;36m256\u001b[0m\u001b[1;33m,\u001b[0m \u001b[1;36m64\u001b[0m\u001b[1;33m)\u001b[0m\u001b[1;33m,\u001b[0m\u001b[1;33m\u001b[0m\u001b[0m\n",
      "\u001b[1;31mNameError\u001b[0m: name 'nn' is not defined"
     ]
    }
   ],
   "source": [
    "from tqdm import tqdm \n",
    "from time import time\n",
    "\n",
    "epochs = 30\n",
    "steps = 0\n",
    "\n",
    "model = nn.Sequential(nn.Linear(784, 256),\n",
    "                      nn.ReLU(),\n",
    "                      nn.Linear(256, 64),\n",
    "                      nn.ReLU(),\n",
    "                      nn.Linear(64, 10),\n",
    "                      nn.LogSoftmax(dim=1))\n",
    "\n",
    "criterion = nn.NLLLoss()\n",
    "optimizer = optim.SGD(model.parameters(), lr=0.01)\n",
    "\n",
    "train_losses, test_losses = [], []\n",
    "for e in range(epochs):\n",
    "    running_loss = 0\n",
    "    start = time()\n",
    "    for images, labels in trainloader:\n",
    "        images = images.view(images.shape[0], -1)\n",
    "        \n",
    "        optimizer.zero_grad()\n",
    "        \n",
    "        log_ps = model(images)\n",
    "        loss = criterion(log_ps, labels)\n",
    "        loss.backward()\n",
    "        optimizer.step()\n",
    "        \n",
    "        running_loss += loss.item()\n",
    "        \n",
    "    else:\n",
    "        test_loss = 0\n",
    "        accuracy = 0\n",
    "        ## Implement the validation pass and print out the validation accuracy\n",
    "        with torch.no_grad():\n",
    "            for images_val, labels_val in testloader:\n",
    "                images_val = images_val.view(images_val.shape[0], -1)\n",
    "                log_ps_val = model(images_val)            \n",
    "                test_loss += criterion(log_ps_val, labels_val)\n",
    "\n",
    "                ps = torch.exp(log_ps_val)\n",
    "                top_ps, top_classes = ps.topk(1, dim=1)\n",
    "                equals = top_classes == labels_val.view(*top_classes.shape)\n",
    "                accuracy += torch.mean(equals.type(torch.FloatTensor))\n",
    "        \n",
    "        train_losses.append(running_loss/len(trainloader))\n",
    "        test_losses.append(test_loss/len(testloader))\n",
    "        \n",
    "        end = time()\n",
    "        running_time = end-start\n",
    "        \n",
    "        print(f'Epoch {e+1} took {running_time:.1f}s',\n",
    "              f'Training loss: {train_losses[-1]:.2f}',\n",
    "              f'Testing loss: {test_losses[-1]:.2f}',\n",
    "              f'Testing accuracy: {(accuracy/len(testloader))*100}%')"
   ]
  },
  {
   "cell_type": "code",
   "execution_count": 183,
   "metadata": {},
   "outputs": [
    {
     "name": "stdout",
     "output_type": "stream",
     "text": [
      "True\n"
     ]
    }
   ],
   "source": [
    "# Finding accuracy alternatively\n",
    "a = labels_val == top_classes.view(*labels_val.shape)\n",
    "mean1 = torch.mean(a.type(torch.FloatTensor))\n",
    "\n",
    "b = labels_val.numpy().reshape(-1, 1)\n",
    "c = top_classes.numpy()\n",
    "\n",
    "mean2 = np.mean(b==c)\n",
    "\n",
    "print(mean1.item()==mean2)"
   ]
  },
  {
   "cell_type": "code",
   "execution_count": 184,
   "metadata": {},
   "outputs": [
    {
     "name": "stdout",
     "output_type": "stream",
     "text": [
      "Lowest training loss on epoch 29: 0.12\n",
      "Lowest validation loss on epoch 28: 0.13\n"
     ]
    }
   ],
   "source": [
    "import numpy as np\n",
    "\n",
    "train_loss_min = min(train_losses)\n",
    "val_loss_min = min(test_losses)\n",
    "\n",
    "train_index = train_losses.index(train_loss_min)\n",
    "val_index = test_losses.index(val_loss_min)\n",
    "\n",
    "print(f'Lowest training loss on epoch {train_index}: {train_loss_min:.2f}')\n",
    "print(f'Lowest validation loss on epoch {val_index}: {val_loss_min:.2f}')"
   ]
  },
  {
   "cell_type": "code",
   "execution_count": 185,
   "metadata": {},
   "outputs": [
    {
     "data": {
      "image/png": "[encoded data removed]",
      "text/plain": [
       "<Figure size 432x288 with 1 Axes>"
      ]
     },
     "metadata": {},
     "output_type": "display_data"
    }
   ],
   "source": [
    "from matplotlib import pyplot as plt\n",
    "plt.style.use('ggplot')\n",
    "\n",
    "fig, ax = plt.subplots()\n",
    "\n",
    "ax.plot(train_losses, color='red', marker='o', label='Training loss')\n",
    "ax.plot(test_losses, color='black', marker='+', label='Validation loss')\n",
    "\n",
    "ax.set_xlabel('Epoch')\n",
    "ax.set_ylabel('Loss')\n",
    "ax.set_title('Training w/o regularization')\n",
    "ax.legend()\n",
    "\n",
    "plt.show();"
   ]
  },
  {
   "cell_type": "markdown",
   "metadata": {},
   "source": [
    "### 12. Dropout( Regularization )"
   ]
  },
  {
   "cell_type": "markdown",
   "metadata": {},
   "source": [
    "Use `nn.Dropout(p=0.2)` to drop nodes with a probability of 0.2"
   ]
  },
  {
   "cell_type": "markdown",
   "metadata": {},
   "source": [
    "During training we want to use dropout to prevent overfitting, but during inference we want to use the entire network. So, we need to turn off dropout during validation, testing, and whenever we're using the network to make predictions. To do this, you use `model.eval()`. This sets the model to evaluation mode where the dropout probability is 0. You can turn dropout back on by setting the model to train mode with `model.train()`. In general, the pattern for the validation loop will look like this, where you turn off gradients, set the model to evaluation mode, calculate the validation loss and metric, then set the model back to train mode.\n",
    "\n",
    "```python\n",
    "# turn off gradients\n",
    "with torch.no_grad():\n",
    "    \n",
    "    # set model to evaluation mode\n",
    "    model.eval()\n",
    "    \n",
    "    # validation pass here\n",
    "    for images, labels in testloader:\n",
    "        ...\n",
    "\n",
    "# set model back to train mode\n",
    "model.train()\n",
    "```"
   ]
  },
  {
   "cell_type": "code",
   "execution_count": 119,
   "metadata": {
    "scrolled": true
   },
   "outputs": [
    {
     "name": "stdout",
     "output_type": "stream",
     "text": [
      "Epoch 1 took 27.0s Training loss: 0.59 Testing loss: 0.29 Testing accuracy: 90.625%\n",
      "Epoch 2 took 20.7s Training loss: 0.27 Testing loss: 0.18 Testing accuracy: 94.88455963134766%\n",
      "Epoch 3 took 20.6s Training loss: 0.21 Testing loss: 0.15 Testing accuracy: 95.3125%\n",
      "Epoch 4 took 20.2s Training loss: 0.17 Testing loss: 0.16 Testing accuracy: 95.11345672607422%\n",
      "Epoch 5 took 21.4s Training loss: 0.15 Testing loss: 0.10 Testing accuracy: 96.84514617919922%\n",
      "Epoch 6 took 20.9s Training loss: 0.13 Testing loss: 0.10 Testing accuracy: 96.90485382080078%\n",
      "Epoch 7 took 21.6s Training loss: 0.12 Testing loss: 0.10 Testing accuracy: 96.86504364013672%\n",
      "Epoch 8 took 25.3s Training loss: 0.11 Testing loss: 0.09 Testing accuracy: 97.17356872558594%\n",
      "Epoch 9 took 21.1s Training loss: 0.10 Testing loss: 0.09 Testing accuracy: 97.2332763671875%\n",
      "Epoch 10 took 24.0s Training loss: 0.09 Testing loss: 0.08 Testing accuracy: 97.50199127197266%\n",
      "Epoch 11 took 21.5s Training loss: 0.09 Testing loss: 0.07 Testing accuracy: 97.73089599609375%\n",
      "Epoch 12 took 25.5s Training loss: 0.08 Testing loss: 0.08 Testing accuracy: 97.70103454589844%\n",
      "Epoch 13 took 24.1s Training loss: 0.08 Testing loss: 0.09 Testing accuracy: 97.22332763671875%\n",
      "Epoch 14 took 22.7s Training loss: 0.07 Testing loss: 0.10 Testing accuracy: 96.83518981933594%\n",
      "Epoch 15 took 22.7s Training loss: 0.07 Testing loss: 0.07 Testing accuracy: 97.84037017822266%\n",
      "Epoch 16 took 20.5s Training loss: 0.07 Testing loss: 0.07 Testing accuracy: 97.8204574584961%\n",
      "Epoch 17 took 20.1s Training loss: 0.06 Testing loss: 0.07 Testing accuracy: 97.76074981689453%\n",
      "Epoch 18 took 20.3s Training loss: 0.06 Testing loss: 0.08 Testing accuracy: 97.60151672363281%\n",
      "Epoch 19 took 20.7s Training loss: 0.06 Testing loss: 0.06 Testing accuracy: 98.02945709228516%\n",
      "Epoch 20 took 20.9s Training loss: 0.06 Testing loss: 0.07 Testing accuracy: 97.99960327148438%\n",
      "Epoch 21 took 22.5s Training loss: 0.05 Testing loss: 0.06 Testing accuracy: 98.0792236328125%\n",
      "Epoch 22 took 20.8s Training loss: 0.05 Testing loss: 0.06 Testing accuracy: 98.10907745361328%\n",
      "Epoch 23 took 22.1s Training loss: 0.05 Testing loss: 0.08 Testing accuracy: 97.56170654296875%\n",
      "Epoch 24 took 22.8s Training loss: 0.05 Testing loss: 0.07 Testing accuracy: 97.84037017822266%\n",
      "Epoch 25 took 20.3s Training loss: 0.05 Testing loss: 0.07 Testing accuracy: 98.04936218261719%\n",
      "Epoch 26 took 21.7s Training loss: 0.05 Testing loss: 0.07 Testing accuracy: 97.93988800048828%\n",
      "Epoch 27 took 23.8s Training loss: 0.04 Testing loss: 0.07 Testing accuracy: 98.03941345214844%\n",
      "Epoch 28 took 22.9s Training loss: 0.04 Testing loss: 0.07 Testing accuracy: 98.04936218261719%\n",
      "Epoch 29 took 25.7s Training loss: 0.04 Testing loss: 0.06 Testing accuracy: 98.25836181640625%\n",
      "Epoch 30 took 26.1s Training loss: 0.04 Testing loss: 0.06 Testing accuracy: 98.14888000488281%\n"
     ]
    }
   ],
   "source": [
    "from tqdm import tqdm \n",
    "from time import time\n",
    "\n",
    "epochs = 30\n",
    "steps = 0\n",
    "\n",
    "model = nn.Sequential(nn.Linear(784, 256),\n",
    "                      nn.ReLU(),\n",
    "                      nn.Dropout(p=0.2),\n",
    "                      nn.Linear(256, 64),\n",
    "                      nn.ReLU(),\n",
    "                      nn.Dropout(p=0.2),\n",
    "                      nn.Linear(64, 10),\n",
    "                      nn.LogSoftmax(dim=1))\n",
    "\n",
    "criterion = nn.NLLLoss()\n",
    "optimizer = optim.SGD(model.parameters(), lr=0.05)\n",
    "\n",
    "train_losses_dropout, test_losses_dropout = [], []\n",
    "for e in range(epochs):\n",
    "    running_loss = 0\n",
    "    start = time()\n",
    "    for images, labels in trainloader:\n",
    "        images = images.view(images.shape[0], -1)\n",
    "        \n",
    "        optimizer.zero_grad()\n",
    "        \n",
    "        log_ps = model(images)\n",
    "        loss = criterion(log_ps, labels)\n",
    "        loss.backward()\n",
    "        optimizer.step()\n",
    "        \n",
    "        running_loss += loss.item()\n",
    "        \n",
    "    else:\n",
    "        test_loss = 0\n",
    "        accuracy = 0\n",
    "        ## Implement the validation pass and print out the validation accuracy\n",
    "        with torch.no_grad():\n",
    "            model.eval()\n",
    "            \n",
    "            for images_val, labels_val in testloader:\n",
    "                images_val = images_val.view(images_val.shape[0], -1)\n",
    "                log_ps_val = model(images_val)            \n",
    "                test_loss += criterion(log_ps_val, labels_val)\n",
    "\n",
    "                ps = torch.exp(log_ps_val)\n",
    "                top_ps, top_classes = ps.topk(1, dim=1)\n",
    "                equals = top_classes == labels_val.view(*top_classes.shape)\n",
    "                accuracy += torch.mean(equals.type(torch.FloatTensor))\n",
    "        \n",
    "        model.train()\n",
    "        \n",
    "        train_losses_dropout.append(running_loss/len(trainloader))\n",
    "        test_losses_dropout.append(test_loss/len(testloader))\n",
    "        \n",
    "        end = time()\n",
    "        running_time = end-start\n",
    "        \n",
    "        print(f'Epoch {e+1} took {running_time:.1f}s',\n",
    "              f'Training loss: {train_losses_dropout[-1]:.2f}',\n",
    "              f'Testing loss: {test_losses_dropout[-1]:.2f}',\n",
    "              f'Testing accuracy: {(accuracy/len(testloader))*100}%')"
   ]
  },
  {
   "cell_type": "code",
   "execution_count": 180,
   "metadata": {},
   "outputs": [
    {
     "data": {
      "image/png": "[encoded data removed]",
      "text/plain": [
       "<Figure size 432x288 with 1 Axes>"
      ]
     },
     "metadata": {},
     "output_type": "display_data"
    }
   ],
   "source": [
    "from matplotlib import pyplot as plt\n",
    "plt.style.use('ggplot')\n",
    "\n",
    "fig, ax = plt.subplots()\n",
    "\n",
    "ax.plot(train_losses_dropout, color='red', marker='o', label='Training loss')\n",
    "ax.plot(test_losses_dropout, color='black', marker='+', label='Validation loss')\n",
    "\n",
    "ax.set_xlabel('Epoch')\n",
    "ax.set_ylabel('Loss')\n",
    "ax.set_title('Training with dropout regularization')\n",
    "ax.legend()\n",
    "\n",
    "plt.show();"
   ]
  },
  {
   "cell_type": "markdown",
   "metadata": {},
   "source": [
    "<hr>"
   ]
  },
  {
   "cell_type": "markdown",
   "metadata": {},
   "source": [
    "### 13. Saving and Loading Models"
   ]
  },
  {
   "cell_type": "code",
   "execution_count": 206,
   "metadata": {},
   "outputs": [],
   "source": [
    "class Network(nn.Module):\n",
    "    def __init__(self, input_size, output_size, hidden_layers, drop_p=0.5):\n",
    "        ''' Builds a feedforward network with arbitrary hidden layers.\n",
    "        \n",
    "            Arguments\n",
    "            ---------\n",
    "            input_size: integer, size of the input layer\n",
    "            output_size: integer, size of the output layer\n",
    "            hidden_layers: list of integers, the sizes of the hidden layers\n",
    "        \n",
    "        '''\n",
    "        super().__init__()\n",
    "        # Input to a hidden layer\n",
    "        self.hidden_layers = nn.ModuleList([nn.Linear(input_size, hidden_layers[0])])\n",
    "        \n",
    "        # Add a variable number of more hidden layers\n",
    "        layer_sizes = zip(hidden_layers[:-1], hidden_layers[1:])\n",
    "        self.hidden_layers.extend([nn.Linear(h1, h2) for h1, h2 in layer_sizes])\n",
    "        \n",
    "        self.output = nn.Linear(hidden_layers[-1], output_size)\n",
    "        \n",
    "        self.dropout = nn.Dropout(p=drop_p)\n",
    "        \n",
    "    def forward(self, x):\n",
    "        ''' Forward pass through the network, returns the output logits '''\n",
    "        \n",
    "        for each in self.hidden_layers:\n",
    "            x = F.relu(each(x))\n",
    "            x = self.dropout(x)\n",
    "        x = self.output(x)\n",
    "        \n",
    "        return F.log_softmax(x, dim=1)"
   ]
  },
  {
   "cell_type": "code",
   "execution_count": 207,
   "metadata": {},
   "outputs": [],
   "source": [
    "model = Network(784, 10, [128, 64])"
   ]
  },
  {
   "cell_type": "markdown",
   "metadata": {},
   "source": [
    "The parameters for PyTorch networks are stored in a model's `state_dict`. We can see the state dict contains the weight and bias matrices for each of our layers."
   ]
  },
  {
   "cell_type": "code",
   "execution_count": 208,
   "metadata": {},
   "outputs": [
    {
     "name": "stdout",
     "output_type": "stream",
     "text": [
      "Our model: \n",
      "\n",
      " Network(\n",
      "  (hidden_layers): ModuleList(\n",
      "    (0): Linear(in_features=784, out_features=128, bias=True)\n",
      "    (1): Linear(in_features=128, out_features=64, bias=True)\n",
      "  )\n",
      "  (output): Linear(in_features=64, out_features=10, bias=True)\n",
      "  (dropout): Dropout(p=0.5)\n",
      ") \n",
      "\n",
      "The state dict keys: \n",
      "\n",
      " odict_keys(['hidden_layers.0.weight', 'hidden_layers.0.bias', 'hidden_layers.1.weight', 'hidden_layers.1.bias', 'output.weight', 'output.bias'])\n"
     ]
    }
   ],
   "source": [
    "print(\"Our model: \\n\\n\", model, '\\n')\n",
    "print(\"The state dict keys: \\n\\n\", model.state_dict().keys())"
   ]
  },
  {
   "cell_type": "markdown",
   "metadata": {},
   "source": [
    "We can save the **state_dict** with `torch.save()` and load a saved **state_dict** with `torch.load()`"
   ]
  },
  {
   "cell_type": "code",
   "execution_count": 209,
   "metadata": {},
   "outputs": [],
   "source": [
    "torch.save(model.state_dict(),'checkpoint.pth')"
   ]
  },
  {
   "cell_type": "code",
   "execution_count": 210,
   "metadata": {},
   "outputs": [
    {
     "name": "stdout",
     "output_type": "stream",
     "text": [
      "odict_keys(['hidden_layers.0.weight', 'hidden_layers.0.bias', 'hidden_layers.1.weight', 'hidden_layers.1.bias', 'output.weight', 'output.bias'])\n"
     ]
    }
   ],
   "source": [
    "state_dict = torch.load('checkpoint.pth')\n",
    "print(state_dict.keys())"
   ]
  },
  {
   "cell_type": "markdown",
   "metadata": {},
   "source": [
    "And to load the state dict in to the network, you do `model.load_state_dict(state_dict)`."
   ]
  },
  {
   "cell_type": "code",
   "execution_count": 211,
   "metadata": {},
   "outputs": [],
   "source": [
    "model.load_state_dict(state_dict)"
   ]
  },
  {
   "cell_type": "markdown",
   "metadata": {},
   "source": [
    "Loading the state dict works only if the model architecture is exactly the same as the checkpoint architecture. If I create a model with a different architecture, this fails."
   ]
  },
  {
   "cell_type": "code",
   "execution_count": 212,
   "metadata": {},
   "outputs": [
    {
     "ename": "RuntimeError",
     "evalue": "Error(s) in loading state_dict for Network:\n\tsize mismatch for hidden_layers.0.weight: copying a param with shape torch.Size([128, 784]) from checkpoint, the shape in current model is torch.Size([256, 784]).\n\tsize mismatch for hidden_layers.0.bias: copying a param with shape torch.Size([128]) from checkpoint, the shape in current model is torch.Size([256]).\n\tsize mismatch for hidden_layers.1.weight: copying a param with shape torch.Size([64, 128]) from checkpoint, the shape in current model is torch.Size([64, 256]).",
     "output_type": "error",
     "traceback": [
      "\u001b[1;31m---------------------------------------------------------------------------\u001b[0m",
      "\u001b[1;31mRuntimeError\u001b[0m                              Traceback (most recent call last)",
      "\u001b[1;32m<ipython-input-212-0500fcd7a0a1>\u001b[0m in \u001b[0;36m<module>\u001b[1;34m()\u001b[0m\n\u001b[0;32m      1\u001b[0m \u001b[0mmodel\u001b[0m \u001b[1;33m=\u001b[0m \u001b[0mNetwork\u001b[0m\u001b[1;33m(\u001b[0m\u001b[1;36m784\u001b[0m\u001b[1;33m,\u001b[0m \u001b[1;36m10\u001b[0m\u001b[1;33m,\u001b[0m \u001b[1;33m[\u001b[0m\u001b[1;36m256\u001b[0m\u001b[1;33m,\u001b[0m \u001b[1;36m64\u001b[0m\u001b[1;33m]\u001b[0m\u001b[1;33m)\u001b[0m\u001b[1;33m\u001b[0m\u001b[0m\n\u001b[1;32m----> 2\u001b[1;33m \u001b[0mmodel\u001b[0m\u001b[1;33m.\u001b[0m\u001b[0mload_state_dict\u001b[0m\u001b[1;33m(\u001b[0m\u001b[0mstate_dict\u001b[0m\u001b[1;33m)\u001b[0m\u001b[1;33m\u001b[0m\u001b[0m\n\u001b[0m",
      "\u001b[1;32m~\\Anaconda3\\lib\\site-packages\\torch\\nn\\modules\\module.py\u001b[0m in \u001b[0;36mload_state_dict\u001b[1;34m(self, state_dict, strict)\u001b[0m\n\u001b[0;32m    767\u001b[0m         \u001b[1;32mif\u001b[0m \u001b[0mlen\u001b[0m\u001b[1;33m(\u001b[0m\u001b[0merror_msgs\u001b[0m\u001b[1;33m)\u001b[0m \u001b[1;33m>\u001b[0m \u001b[1;36m0\u001b[0m\u001b[1;33m:\u001b[0m\u001b[1;33m\u001b[0m\u001b[0m\n\u001b[0;32m    768\u001b[0m             raise RuntimeError('Error(s) in loading state_dict for {}:\\n\\t{}'.format(\n\u001b[1;32m--> 769\u001b[1;33m                                self.__class__.__name__, \"\\n\\t\".join(error_msgs)))\n\u001b[0m\u001b[0;32m    770\u001b[0m \u001b[1;33m\u001b[0m\u001b[0m\n\u001b[0;32m    771\u001b[0m     \u001b[1;32mdef\u001b[0m \u001b[0m_named_members\u001b[0m\u001b[1;33m(\u001b[0m\u001b[0mself\u001b[0m\u001b[1;33m,\u001b[0m \u001b[0mget_members_fn\u001b[0m\u001b[1;33m,\u001b[0m \u001b[0mprefix\u001b[0m\u001b[1;33m=\u001b[0m\u001b[1;34m''\u001b[0m\u001b[1;33m,\u001b[0m \u001b[0mrecurse\u001b[0m\u001b[1;33m=\u001b[0m\u001b[1;32mTrue\u001b[0m\u001b[1;33m)\u001b[0m\u001b[1;33m:\u001b[0m\u001b[1;33m\u001b[0m\u001b[0m\n",
      "\u001b[1;31mRuntimeError\u001b[0m: Error(s) in loading state_dict for Network:\n\tsize mismatch for hidden_layers.0.weight: copying a param with shape torch.Size([128, 784]) from checkpoint, the shape in current model is torch.Size([256, 784]).\n\tsize mismatch for hidden_layers.0.bias: copying a param with shape torch.Size([128]) from checkpoint, the shape in current model is torch.Size([256]).\n\tsize mismatch for hidden_layers.1.weight: copying a param with shape torch.Size([64, 128]) from checkpoint, the shape in current model is torch.Size([64, 256])."
     ]
    }
   ],
   "source": [
    "model = Network(784, 10, [256, 64])\n",
    "model.load_state_dict(state_dict)"
   ]
  },
  {
   "cell_type": "markdown",
   "metadata": {},
   "source": [
    "This means we need to rebuild the model exactly as it was when trained. Information about the model architecture needs to be saved in the checkpoint, along with the state dict. To do this, you build a dictionary with all the information you need to compeletely rebuild the model."
   ]
  },
  {
   "cell_type": "code",
   "execution_count": 215,
   "metadata": {},
   "outputs": [
    {
     "data": {
      "text/plain": [
       "Network(\n",
       "  (hidden_layers): ModuleList(\n",
       "    (0): Linear(in_features=784, out_features=256, bias=True)\n",
       "    (1): Linear(in_features=256, out_features=64, bias=True)\n",
       "  )\n",
       "  (output): Linear(in_features=64, out_features=10, bias=True)\n",
       "  (dropout): Dropout(p=0.5)\n",
       ")"
      ]
     },
     "execution_count": 215,
     "metadata": {},
     "output_type": "execute_result"
    }
   ],
   "source": [
    "model"
   ]
  },
  {
   "cell_type": "code",
   "execution_count": 216,
   "metadata": {},
   "outputs": [
    {
     "data": {
      "text/plain": [
       "ModuleList(\n",
       "  (0): Linear(in_features=784, out_features=256, bias=True)\n",
       "  (1): Linear(in_features=256, out_features=64, bias=True)\n",
       ")"
      ]
     },
     "execution_count": 216,
     "metadata": {},
     "output_type": "execute_result"
    }
   ],
   "source": [
    "model.hidden_layers"
   ]
  },
  {
   "cell_type": "code",
   "execution_count": 217,
   "metadata": {},
   "outputs": [],
   "source": [
    "checkpoint = {'input_size': 784,\n",
    "              'output_size': 10,\n",
    "              'hidden_layers': [each.out_features for each in model.hidden_layers],\n",
    "              'state_dict': model.state_dict()}\n",
    "\n",
    "torch.save(checkpoint, 'checkpoint.pth')"
   ]
  },
  {
   "cell_type": "code",
   "execution_count": 218,
   "metadata": {},
   "outputs": [],
   "source": [
    "def load_checkpoint(filepath):\n",
    "    checkpoint = torch.load(filepath)\n",
    "    model = Network(checkpoint['input_size'], checkpoint['output_size'], checkpoint['hidden_layers'])\n",
    "    model.load_state_dict(checkpoint['state_dict'])\n",
    "    \n",
    "    return model"
   ]
  },
  {
   "cell_type": "code",
   "execution_count": 219,
   "metadata": {},
   "outputs": [
    {
     "data": {
      "text/plain": [
       "Network(\n",
       "  (hidden_layers): ModuleList(\n",
       "    (0): Linear(in_features=784, out_features=256, bias=True)\n",
       "    (1): Linear(in_features=256, out_features=64, bias=True)\n",
       "  )\n",
       "  (output): Linear(in_features=64, out_features=10, bias=True)\n",
       "  (dropout): Dropout(p=0.5)\n",
       ")"
      ]
     },
     "execution_count": 219,
     "metadata": {},
     "output_type": "execute_result"
    }
   ],
   "source": [
    "model = load_checkpoint('checkpoint.pth')\n",
    "model"
   ]
  },
  {
   "cell_type": "markdown",
   "metadata": {},
   "source": [
    "<hr>"
   ]
  },
  {
   "cell_type": "markdown",
   "metadata": {},
   "source": [
    "### 14. Loading our own Image data "
   ]
  },
  {
   "cell_type": "markdown",
   "metadata": {},
   "source": [
    "The easiest way to load image data is with `datasets.ImageFolder` from `torchvision` ([documentation](http://pytorch.org/docs/master/torchvision/datasets.html#imagefolder)). In general you'll use `ImageFolder` like so:\n",
    "\n",
    "```python\n",
    "dataset = datasets.ImageFolder('path/to/data', transform=transform)\n",
    "```\n",
    "\n",
    "where `'path/to/data'` is the file path to the data directory and `transform` is a list of processing steps built with the [`transforms`](http://pytorch.org/docs/master/torchvision/transforms.html) module from `torchvision`. ImageFolder expects the files and directories to be constructed like so:\n",
    "```\n",
    "root/dog/xxx.png\n",
    "root/dog/xxy.png\n",
    "root/dog/xxz.png\n",
    "\n",
    "root/cat/123.png\n",
    "root/cat/nsdf3.png\n",
    "root/cat/asd932_.png\n",
    "```\n",
    "\n",
    "where each class has it's own directory (`cat` and `dog`) for the images. The images are then labeled with the class taken from the directory name. So here, the image `123.png` would be loaded with the class label `cat`. You can download the dataset already structured like this [from here](https://s3.amazonaws.com/content.udacity-data.com/nd089/Cat_Dog_data.zip). I've also split it into a training set and test set.\n",
    "\n",
    "#### Transforms\n",
    "\n",
    "When you load in the data with `ImageFolder`, you'll need to define some transforms. For example, the images are different sizes but we'll need them to all be the same size for training. You can either resize them with `transforms.Resize()` or crop with `transforms.CenterCrop()`, `transforms.RandomResizedCrop()`, etc. We'll also need to convert the images to PyTorch tensors with `transforms.ToTensor()`. Typically you'll combine these transforms into a pipeline with `transforms.Compose()`, which accepts a list of transforms and runs them in sequence. It looks something like this to scale, then crop, then convert to a tensor:\n",
    "\n",
    "```python\n",
    "transform = transforms.Compose([transforms.Resize(255),\n",
    "                                 transforms.CenterCrop(224),\n",
    "                                 transforms.ToTensor()])\n",
    "\n",
    "```\n",
    "\n",
    "There are plenty of transforms available, I'll cover more in a bit and you can read through the [documentation](http://pytorch.org/docs/master/torchvision/transforms.html). \n",
    "\n",
    "#### Data Loaders\n",
    "\n",
    "With the `ImageFolder` loaded, you have to pass it to a [`DataLoader`](http://pytorch.org/docs/master/data.html#torch.utils.data.DataLoader). The `DataLoader` takes a dataset (such as you would get from `ImageFolder`) and returns batches of images and the corresponding labels. You can set various parameters like the batch size and if the data is shuffled after each epoch.\n",
    "\n",
    "```python\n",
    "dataloader = torch.utils.data.DataLoader(dataset, batch_size=32, shuffle=True)\n",
    "```\n",
    "\n",
    "Here `dataloader` is a [generator](https://jeffknupp.com/blog/2013/04/07/improve-your-python-yield-and-generators-explained/). To get data out of it, you need to loop through it or convert it to an iterator and call `next()`.\n",
    "\n",
    "```python\n",
    "# Looping through it, get a batch on each loop \n",
    "for images, labels in dataloader:\n",
    "    pass\n",
    "\n",
    "# Get one batch\n",
    "images, labels = next(iter(dataloader))\n",
    "```"
   ]
  },
  {
   "cell_type": "code",
   "execution_count": 10,
   "metadata": {},
   "outputs": [],
   "source": [
    "import torch\n",
    "from torchvision import datasets, transforms\n",
    "\n",
    "data_dir = '../../data/Cat_Dog_data'\n",
    "\n",
    "# TODO: compose transforms here\n",
    "transform = transforms.Compose([transforms.Resize(255),\n",
    "                                transforms.CenterCrop(224),\n",
    "                                transforms.ToTensor()])\n",
    "\n",
    "# TODO: create the ImageFolder\n",
    "dataset = datasets.ImageFolder(data_dir, transform=transform)\n",
    "\n",
    "# TODO: use the ImageFolder dataset to create the DataLoader\n",
    "dataloader = torch.utils.data.DataLoader(dataset, shuffle=True, batch_size=64)"
   ]
  },
  {
   "cell_type": "code",
   "execution_count": 11,
   "metadata": {},
   "outputs": [
    {
     "data": {
      "image/png": "[encoded data removed]",
      "text/plain": [
       "<Figure size 432x288 with 1 Axes>"
      ]
     },
     "metadata": {},
     "output_type": "display_data"
    }
   ],
   "source": [
    "import matplotlib.pyplot as plt\n",
    "\n",
    "data_iter = iter(dataloader)\n",
    "\n",
    "images, labels = next(data_iter)\n",
    "img = images[0].numpy().transpose((1, 2, 0))\n",
    "\n",
    "fig, axes = plt.subplots()\n",
    "\n",
    "axes.imshow(img)\n",
    "axes.axis('off');"
   ]
  },
  {
   "cell_type": "markdown",
   "metadata": {},
   "source": [
    "#### Data Augmentation\n",
    "\n",
    "A common strategy for training neural networks is to introduce randomness in the input data itself. For example, you can randomly rotate, mirror, scale, and/or crop your images during training. This will help your network generalize as it's seeing the same images but in different locations, with different sizes, in different orientations, etc.\n",
    "\n",
    "To randomly rotate, scale and crop, then flip your images you would define your transforms like this:\n",
    "\n",
    "```python\n",
    "train_transforms = transforms.Compose([transforms.RandomRotation(30),\n",
    "                                       transforms.RandomResizedCrop(224),\n",
    "                                       transforms.RandomHorizontalFlip(),\n",
    "                                       transforms.ToTensor(),\n",
    "                                       transforms.Normalize([0.5, 0.5, 0.5], \n",
    "                                                            [0.5, 0.5, 0.5])])\n",
    "```\n",
    "\n",
    "You'll also typically want to normalize images with `transforms.Normalize`. You pass in a list of means and list of standard deviations, then the color channels are normalized like so\n",
    "\n",
    "```input[channel] = (input[channel] - mean[channel]) / std[channel]```\n",
    "\n",
    "Subtracting `mean` centers the data around zero and dividing by `std` squishes the values to be between -1 and 1. Normalizing helps keep the network work weights near zero which in turn makes backpropagation more stable. Without normalization, networks will tend to fail to learn.\n",
    "\n",
    "You can find a list of all [the available transforms here](http://pytorch.org/docs/0.3.0/torchvision/transforms.html). **When you're testing however, you'll want to use images that aren't altered (except you'll need to normalize the same way). So, for validation/test images, you'll typically just resize and crop.**"
   ]
  },
  {
   "cell_type": "code",
   "execution_count": 13,
   "metadata": {},
   "outputs": [],
   "source": [
    "data_dir = '../../data/Cat_Dog_data'\n",
    "\n",
    "train_transforms = transforms.Compose([transforms.RandomRotation(30),\n",
    "                                       transforms.RandomResizedCrop(64),\n",
    "                                       transforms.RandomHorizontalFlip(),\n",
    "                                       transforms.ToTensor(),\n",
    "                                       transforms.Normalize([0.5, 0.5, 0.5], \n",
    "                                                            [0.5, 0.5, 0.5])])\n",
    "\n",
    "test_transforms = transforms.Compose([transforms.Compose([transforms.Resize(127),\n",
    "                                      transforms.CenterCrop(64),\n",
    "                                      transforms.ToTensor()]),\n",
    "                                      transforms.Normalize([0.5, 0.5, 0.5], \n",
    "                                                            [0.5, 0.5, 0.5])])\n",
    "\n",
    "\n",
    "# Pass transforms in here, then run the next cell to see how the transforms look\n",
    "train_data = datasets.ImageFolder(data_dir + '/train', transform=train_transforms)\n",
    "test_data = datasets.ImageFolder(data_dir + '/test', transform=test_transforms)\n",
    "\n",
    "trainloader = torch.utils.data.DataLoader(train_data, batch_size=32, shuffle=True)\n",
    "testloader = torch.utils.data.DataLoader(test_data, batch_size=32, shuffle=True)"
   ]
  },
  {
   "cell_type": "markdown",
   "metadata": {},
   "source": [
    "### 15. Problem: Inconsistency of `transforms.Normalize` across plaforms"
   ]
  },
  {
   "cell_type": "markdown",
   "metadata": {},
   "source": [
    "#### Problem Statement\n",
    "* The problem we are trying to investigate is that `torchvision.transforms.Normalize` shows different behaviour across platforms\n",
    "\n",
    "* When the transform `Normalize((0.5, 0.5, 0.5), (0.5, 0.5, 0.5))` is used on images with a single color channel(eg: grayscale images) it runs fine or shows error like `RuntimeError: output with shape [1, 28, 28] doesn't match the broadcast shape [3, 28, 28]` depending on the platform you use"
   ]
  },
  {
   "cell_type": "markdown",
   "metadata": {},
   "source": [
    "This is the code snippet we are focusing on"
   ]
  },
  {
   "cell_type": "code",
   "execution_count": 114,
   "metadata": {
    "scrolled": true
   },
   "outputs": [
    {
     "ename": "RuntimeError",
     "evalue": "output with shape [1, 28, 28] doesn't match the broadcast shape [3, 28, 28]",
     "output_type": "error",
     "traceback": [
      "\u001b[1;31m---------------------------------------------------------------------------\u001b[0m",
      "\u001b[1;31mRuntimeError\u001b[0m                              Traceback (most recent call last)",
      "\u001b[1;32m<ipython-input-114-63425dec3586>\u001b[0m in \u001b[0;36m<module>\u001b[1;34m()\u001b[0m\n\u001b[0;32m     10\u001b[0m \u001b[0mdataloader\u001b[0m \u001b[1;33m=\u001b[0m \u001b[0mtorch\u001b[0m\u001b[1;33m.\u001b[0m\u001b[0mutils\u001b[0m\u001b[1;33m.\u001b[0m\u001b[0mdata\u001b[0m\u001b[1;33m.\u001b[0m\u001b[0mDataLoader\u001b[0m\u001b[1;33m(\u001b[0m\u001b[0mdataset\u001b[0m\u001b[1;33m,\u001b[0m \u001b[0mbatch_size\u001b[0m\u001b[1;33m=\u001b[0m\u001b[1;36m64\u001b[0m\u001b[1;33m,\u001b[0m \u001b[0mshuffle\u001b[0m\u001b[1;33m=\u001b[0m\u001b[1;32mTrue\u001b[0m\u001b[1;33m)\u001b[0m\u001b[1;33m\u001b[0m\u001b[0m\n\u001b[0;32m     11\u001b[0m \u001b[1;33m\u001b[0m\u001b[0m\n\u001b[1;32m---> 12\u001b[1;33m \u001b[0mimg\u001b[0m\u001b[1;33m,\u001b[0m \u001b[0mlabel\u001b[0m \u001b[1;33m=\u001b[0m \u001b[0mnext\u001b[0m\u001b[1;33m(\u001b[0m\u001b[0miter\u001b[0m\u001b[1;33m(\u001b[0m\u001b[0mdataloader\u001b[0m\u001b[1;33m)\u001b[0m\u001b[1;33m)\u001b[0m\u001b[1;33m\u001b[0m\u001b[0m\n\u001b[0m\u001b[0;32m     13\u001b[0m \u001b[0mimg\u001b[0m\u001b[1;33m.\u001b[0m\u001b[0mshape\u001b[0m\u001b[1;33m\u001b[0m\u001b[0m\n",
      "\u001b[1;32m~\\Anaconda3\\lib\\site-packages\\torch\\utils\\data\\dataloader.py\u001b[0m in \u001b[0;36m__next__\u001b[1;34m(self)\u001b[0m\n\u001b[0;32m    613\u001b[0m         \u001b[1;32mif\u001b[0m \u001b[0mself\u001b[0m\u001b[1;33m.\u001b[0m\u001b[0mnum_workers\u001b[0m \u001b[1;33m==\u001b[0m \u001b[1;36m0\u001b[0m\u001b[1;33m:\u001b[0m  \u001b[1;31m# same-process loading\u001b[0m\u001b[1;33m\u001b[0m\u001b[0m\n\u001b[0;32m    614\u001b[0m             \u001b[0mindices\u001b[0m \u001b[1;33m=\u001b[0m \u001b[0mnext\u001b[0m\u001b[1;33m(\u001b[0m\u001b[0mself\u001b[0m\u001b[1;33m.\u001b[0m\u001b[0msample_iter\u001b[0m\u001b[1;33m)\u001b[0m  \u001b[1;31m# may raise StopIteration\u001b[0m\u001b[1;33m\u001b[0m\u001b[0m\n\u001b[1;32m--> 615\u001b[1;33m             \u001b[0mbatch\u001b[0m \u001b[1;33m=\u001b[0m \u001b[0mself\u001b[0m\u001b[1;33m.\u001b[0m\u001b[0mcollate_fn\u001b[0m\u001b[1;33m(\u001b[0m\u001b[1;33m[\u001b[0m\u001b[0mself\u001b[0m\u001b[1;33m.\u001b[0m\u001b[0mdataset\u001b[0m\u001b[1;33m[\u001b[0m\u001b[0mi\u001b[0m\u001b[1;33m]\u001b[0m \u001b[1;32mfor\u001b[0m \u001b[0mi\u001b[0m \u001b[1;32min\u001b[0m \u001b[0mindices\u001b[0m\u001b[1;33m]\u001b[0m\u001b[1;33m)\u001b[0m\u001b[1;33m\u001b[0m\u001b[0m\n\u001b[0m\u001b[0;32m    616\u001b[0m             \u001b[1;32mif\u001b[0m \u001b[0mself\u001b[0m\u001b[1;33m.\u001b[0m\u001b[0mpin_memory\u001b[0m\u001b[1;33m:\u001b[0m\u001b[1;33m\u001b[0m\u001b[0m\n\u001b[0;32m    617\u001b[0m                 \u001b[0mbatch\u001b[0m \u001b[1;33m=\u001b[0m \u001b[0mpin_memory_batch\u001b[0m\u001b[1;33m(\u001b[0m\u001b[0mbatch\u001b[0m\u001b[1;33m)\u001b[0m\u001b[1;33m\u001b[0m\u001b[0m\n",
      "\u001b[1;32m~\\Anaconda3\\lib\\site-packages\\torch\\utils\\data\\dataloader.py\u001b[0m in \u001b[0;36m<listcomp>\u001b[1;34m(.0)\u001b[0m\n\u001b[0;32m    613\u001b[0m         \u001b[1;32mif\u001b[0m \u001b[0mself\u001b[0m\u001b[1;33m.\u001b[0m\u001b[0mnum_workers\u001b[0m \u001b[1;33m==\u001b[0m \u001b[1;36m0\u001b[0m\u001b[1;33m:\u001b[0m  \u001b[1;31m# same-process loading\u001b[0m\u001b[1;33m\u001b[0m\u001b[0m\n\u001b[0;32m    614\u001b[0m             \u001b[0mindices\u001b[0m \u001b[1;33m=\u001b[0m \u001b[0mnext\u001b[0m\u001b[1;33m(\u001b[0m\u001b[0mself\u001b[0m\u001b[1;33m.\u001b[0m\u001b[0msample_iter\u001b[0m\u001b[1;33m)\u001b[0m  \u001b[1;31m# may raise StopIteration\u001b[0m\u001b[1;33m\u001b[0m\u001b[0m\n\u001b[1;32m--> 615\u001b[1;33m             \u001b[0mbatch\u001b[0m \u001b[1;33m=\u001b[0m \u001b[0mself\u001b[0m\u001b[1;33m.\u001b[0m\u001b[0mcollate_fn\u001b[0m\u001b[1;33m(\u001b[0m\u001b[1;33m[\u001b[0m\u001b[0mself\u001b[0m\u001b[1;33m.\u001b[0m\u001b[0mdataset\u001b[0m\u001b[1;33m[\u001b[0m\u001b[0mi\u001b[0m\u001b[1;33m]\u001b[0m \u001b[1;32mfor\u001b[0m \u001b[0mi\u001b[0m \u001b[1;32min\u001b[0m \u001b[0mindices\u001b[0m\u001b[1;33m]\u001b[0m\u001b[1;33m)\u001b[0m\u001b[1;33m\u001b[0m\u001b[0m\n\u001b[0m\u001b[0;32m    616\u001b[0m             \u001b[1;32mif\u001b[0m \u001b[0mself\u001b[0m\u001b[1;33m.\u001b[0m\u001b[0mpin_memory\u001b[0m\u001b[1;33m:\u001b[0m\u001b[1;33m\u001b[0m\u001b[0m\n\u001b[0;32m    617\u001b[0m                 \u001b[0mbatch\u001b[0m \u001b[1;33m=\u001b[0m \u001b[0mpin_memory_batch\u001b[0m\u001b[1;33m(\u001b[0m\u001b[0mbatch\u001b[0m\u001b[1;33m)\u001b[0m\u001b[1;33m\u001b[0m\u001b[0m\n",
      "\u001b[1;32m~\\Anaconda3\\lib\\site-packages\\torchvision\\datasets\\mnist.py\u001b[0m in \u001b[0;36m__getitem__\u001b[1;34m(self, index)\u001b[0m\n\u001b[0;32m     93\u001b[0m \u001b[1;33m\u001b[0m\u001b[0m\n\u001b[0;32m     94\u001b[0m         \u001b[1;32mif\u001b[0m \u001b[0mself\u001b[0m\u001b[1;33m.\u001b[0m\u001b[0mtransform\u001b[0m \u001b[1;32mis\u001b[0m \u001b[1;32mnot\u001b[0m \u001b[1;32mNone\u001b[0m\u001b[1;33m:\u001b[0m\u001b[1;33m\u001b[0m\u001b[0m\n\u001b[1;32m---> 95\u001b[1;33m             \u001b[0mimg\u001b[0m \u001b[1;33m=\u001b[0m \u001b[0mself\u001b[0m\u001b[1;33m.\u001b[0m\u001b[0mtransform\u001b[0m\u001b[1;33m(\u001b[0m\u001b[0mimg\u001b[0m\u001b[1;33m)\u001b[0m\u001b[1;33m\u001b[0m\u001b[0m\n\u001b[0m\u001b[0;32m     96\u001b[0m \u001b[1;33m\u001b[0m\u001b[0m\n\u001b[0;32m     97\u001b[0m         \u001b[1;32mif\u001b[0m \u001b[0mself\u001b[0m\u001b[1;33m.\u001b[0m\u001b[0mtarget_transform\u001b[0m \u001b[1;32mis\u001b[0m \u001b[1;32mnot\u001b[0m \u001b[1;32mNone\u001b[0m\u001b[1;33m:\u001b[0m\u001b[1;33m\u001b[0m\u001b[0m\n",
      "\u001b[1;32m~\\Anaconda3\\lib\\site-packages\\torchvision\\transforms\\transforms.py\u001b[0m in \u001b[0;36m__call__\u001b[1;34m(self, img)\u001b[0m\n\u001b[0;32m     58\u001b[0m     \u001b[1;32mdef\u001b[0m \u001b[0m__call__\u001b[0m\u001b[1;33m(\u001b[0m\u001b[0mself\u001b[0m\u001b[1;33m,\u001b[0m \u001b[0mimg\u001b[0m\u001b[1;33m)\u001b[0m\u001b[1;33m:\u001b[0m\u001b[1;33m\u001b[0m\u001b[0m\n\u001b[0;32m     59\u001b[0m         \u001b[1;32mfor\u001b[0m \u001b[0mt\u001b[0m \u001b[1;32min\u001b[0m \u001b[0mself\u001b[0m\u001b[1;33m.\u001b[0m\u001b[0mtransforms\u001b[0m\u001b[1;33m:\u001b[0m\u001b[1;33m\u001b[0m\u001b[0m\n\u001b[1;32m---> 60\u001b[1;33m             \u001b[0mimg\u001b[0m \u001b[1;33m=\u001b[0m \u001b[0mt\u001b[0m\u001b[1;33m(\u001b[0m\u001b[0mimg\u001b[0m\u001b[1;33m)\u001b[0m\u001b[1;33m\u001b[0m\u001b[0m\n\u001b[0m\u001b[0;32m     61\u001b[0m         \u001b[1;32mreturn\u001b[0m \u001b[0mimg\u001b[0m\u001b[1;33m\u001b[0m\u001b[0m\n\u001b[0;32m     62\u001b[0m \u001b[1;33m\u001b[0m\u001b[0m\n",
      "\u001b[1;32m~\\Anaconda3\\lib\\site-packages\\torchvision\\transforms\\transforms.py\u001b[0m in \u001b[0;36m__call__\u001b[1;34m(self, tensor)\u001b[0m\n\u001b[0;32m    161\u001b[0m             \u001b[0mTensor\u001b[0m\u001b[1;33m:\u001b[0m \u001b[0mNormalized\u001b[0m \u001b[0mTensor\u001b[0m \u001b[0mimage\u001b[0m\u001b[1;33m.\u001b[0m\u001b[1;33m\u001b[0m\u001b[0m\n\u001b[0;32m    162\u001b[0m         \"\"\"\n\u001b[1;32m--> 163\u001b[1;33m         \u001b[1;32mreturn\u001b[0m \u001b[0mF\u001b[0m\u001b[1;33m.\u001b[0m\u001b[0mnormalize\u001b[0m\u001b[1;33m(\u001b[0m\u001b[0mtensor\u001b[0m\u001b[1;33m,\u001b[0m \u001b[0mself\u001b[0m\u001b[1;33m.\u001b[0m\u001b[0mmean\u001b[0m\u001b[1;33m,\u001b[0m \u001b[0mself\u001b[0m\u001b[1;33m.\u001b[0m\u001b[0mstd\u001b[0m\u001b[1;33m,\u001b[0m \u001b[0mself\u001b[0m\u001b[1;33m.\u001b[0m\u001b[0minplace\u001b[0m\u001b[1;33m)\u001b[0m\u001b[1;33m\u001b[0m\u001b[0m\n\u001b[0m\u001b[0;32m    164\u001b[0m \u001b[1;33m\u001b[0m\u001b[0m\n\u001b[0;32m    165\u001b[0m     \u001b[1;32mdef\u001b[0m \u001b[0m__repr__\u001b[0m\u001b[1;33m(\u001b[0m\u001b[0mself\u001b[0m\u001b[1;33m)\u001b[0m\u001b[1;33m:\u001b[0m\u001b[1;33m\u001b[0m\u001b[0m\n",
      "\u001b[1;32m~\\Anaconda3\\lib\\site-packages\\torchvision\\transforms\\functional.py\u001b[0m in \u001b[0;36mnormalize\u001b[1;34m(tensor, mean, std, inplace)\u001b[0m\n\u001b[0;32m    206\u001b[0m     \u001b[0mmean\u001b[0m \u001b[1;33m=\u001b[0m \u001b[0mtorch\u001b[0m\u001b[1;33m.\u001b[0m\u001b[0mtensor\u001b[0m\u001b[1;33m(\u001b[0m\u001b[0mmean\u001b[0m\u001b[1;33m,\u001b[0m \u001b[0mdtype\u001b[0m\u001b[1;33m=\u001b[0m\u001b[0mtorch\u001b[0m\u001b[1;33m.\u001b[0m\u001b[0mfloat32\u001b[0m\u001b[1;33m)\u001b[0m\u001b[1;33m\u001b[0m\u001b[0m\n\u001b[0;32m    207\u001b[0m     \u001b[0mstd\u001b[0m \u001b[1;33m=\u001b[0m \u001b[0mtorch\u001b[0m\u001b[1;33m.\u001b[0m\u001b[0mtensor\u001b[0m\u001b[1;33m(\u001b[0m\u001b[0mstd\u001b[0m\u001b[1;33m,\u001b[0m \u001b[0mdtype\u001b[0m\u001b[1;33m=\u001b[0m\u001b[0mtorch\u001b[0m\u001b[1;33m.\u001b[0m\u001b[0mfloat32\u001b[0m\u001b[1;33m)\u001b[0m\u001b[1;33m\u001b[0m\u001b[0m\n\u001b[1;32m--> 208\u001b[1;33m     \u001b[0mtensor\u001b[0m\u001b[1;33m.\u001b[0m\u001b[0msub_\u001b[0m\u001b[1;33m(\u001b[0m\u001b[0mmean\u001b[0m\u001b[1;33m[\u001b[0m\u001b[1;33m:\u001b[0m\u001b[1;33m,\u001b[0m \u001b[1;32mNone\u001b[0m\u001b[1;33m,\u001b[0m \u001b[1;32mNone\u001b[0m\u001b[1;33m]\u001b[0m\u001b[1;33m)\u001b[0m\u001b[1;33m.\u001b[0m\u001b[0mdiv_\u001b[0m\u001b[1;33m(\u001b[0m\u001b[0mstd\u001b[0m\u001b[1;33m[\u001b[0m\u001b[1;33m:\u001b[0m\u001b[1;33m,\u001b[0m \u001b[1;32mNone\u001b[0m\u001b[1;33m,\u001b[0m \u001b[1;32mNone\u001b[0m\u001b[1;33m]\u001b[0m\u001b[1;33m)\u001b[0m\u001b[1;33m\u001b[0m\u001b[0m\n\u001b[0m\u001b[0;32m    209\u001b[0m     \u001b[1;32mreturn\u001b[0m \u001b[0mtensor\u001b[0m\u001b[1;33m\u001b[0m\u001b[0m\n\u001b[0;32m    210\u001b[0m \u001b[1;33m\u001b[0m\u001b[0m\n",
      "\u001b[1;31mRuntimeError\u001b[0m: output with shape [1, 28, 28] doesn't match the broadcast shape [3, 28, 28]"
     ]
    }
   ],
   "source": [
    "import torch\n",
    "from torchvision import datasets, transforms\n",
    "\n",
    "transform = transforms.Compose([transforms.ToTensor(),\n",
    "                            transforms.Normalize((0.5, 0.5, 0.5), (0.5, 0.5, 0.5))\n",
    "                              ])\n",
    "\n",
    "# Download and load the test data\n",
    "dataset = datasets.FashionMNIST('~/.pytorch/F_MNIST_data/', download=True, train=False, transform=transform)\n",
    "dataloader = torch.utils.data.DataLoader(dataset, batch_size=64, shuffle=True)\n",
    "\n",
    "img, label = next(iter(dataloader))\n",
    "img.shape"
   ]
  },
  {
   "cell_type": "markdown",
   "metadata": {},
   "source": [
    "**TL;DR: The discrepancy is caused by differences in torchvision versions installed**"
   ]
  },
  {
   "cell_type": "markdown",
   "metadata": {},
   "source": [
    "#### Resources"
   ]
  },
  {
   "cell_type": "markdown",
   "metadata": {},
   "source": [
    "* Three platforms are taken into consideration:\n",
    "    1. **Udacity workspace** (torch 0.4.0 torchvision 0.2.1)\n",
    "        <p style=\"font-size:20;font-weight:bolder;text-align:center\">Udacity Workspace</p>\n",
    "        <img src=\"../../Screenshots/normalize_udacity_workspace.png\">\n",
    "        \n",
    "    2. **Local machine** (torch 1.0.1 torchvision 0.2.2)\n",
    "        <p style=\"font-size:20;font-weight:bolder;text-align:center\">Local Machine</p>\n",
    "        <img src=\"../../Screenshots/normalize_local_machine.png\">\n",
    "    \n",
    "\t3. **Google Colab** (torch 1.1.0 torchvision 0.3.0)\n",
    "        <p style=\"font-size:20;font-weight:bolder;text-align:center\">Google Colaboratory</p>\n",
    "        <img src=\"../../Screenshots/normalize_colab.png\">\n",
    "    \n",
    "    \n",
    "* Dataset used - **Fashion MNIST**"
   ]
  },
  {
   "cell_type": "markdown",
   "metadata": {},
   "source": [
    "#### Get a sample image"
   ]
  },
  {
   "cell_type": "code",
   "execution_count": 109,
   "metadata": {},
   "outputs": [
    {
     "name": "stdout",
     "output_type": "stream",
     "text": [
      "torch.Size([1, 28, 28]) <class 'torch.Tensor'>\n"
     ]
    }
   ],
   "source": [
    "transform = transforms.Compose([transforms.ToTensor()])\n",
    "dataset = datasets.FashionMNIST('~/.pytorch/F_MNIST_data/', download=True, train=False, transform=transform)\n",
    "\n",
    "img, label = dataset[0]\n",
    "print(img.shape, type(img))"
   ]
  },
  {
   "cell_type": "markdown",
   "metadata": {},
   "source": [
    "#### Investigate source code"
   ]
  },
  {
   "cell_type": "raw",
   "metadata": {},
   "source": [
    "Use this code to get source code:\n",
    ">>> import inspect\n",
    ">>> print(inspect.getsource(transforms.transforms.Normalize)) # Normalize - is a class hence starts with capital letter\n",
    ">>> print(inspect.getsource(transforms.functional.normalize)) # normalize - is a function thus uses lowercase"
   ]
  },
  {
   "cell_type": "markdown",
   "metadata": {},
   "source": [
    "Nb: For more Python conventions on naming, see [PEP-8 Style Guide](https://www.python.org/dev/peps/pep-0008/#naming-conventions)"
   ]
  },
  {
   "cell_type": "markdown",
   "metadata": {},
   "source": [
    "Let's take a deep dive into the source code for `Normalize` class in `torchvision.transforms.transforms`:"
   ]
  },
  {
   "cell_type": "markdown",
   "metadata": {},
   "source": [
    "##### 1) `transforms.transforms.Normalize`"
   ]
  },
  {
   "cell_type": "markdown",
   "metadata": {},
   "source": [
    "NB: Some of the comments and parts irrevelant for our discussion has been removed for brevity and for keeping the focus on the problem at hand"
   ]
  },
  {
   "cell_type": "code",
   "execution_count": 61,
   "metadata": {},
   "outputs": [],
   "source": [
    "class Normalize(object):\n",
    "    \"\"\"\n",
    "    Args:\n",
    "        mean (sequence): Sequence of means for each channel.\n",
    "        std (sequence): Sequence of standard deviations for each channel.\n",
    "    \"\"\"\n",
    "\n",
    "    def __init__(self, mean, std, inplace=False):\n",
    "        self.mean = mean\n",
    "        self.std = std\n",
    "        self.inplace = inplace\n",
    "\n",
    "    def __call__(self, tensor):\n",
    "        \"\"\"\n",
    "        Args:\n",
    "            tensor (Tensor): Tensor image of size (C, H, W) to be normalized.\n",
    "        Returns:\n",
    "            Tensor: Normalized Tensor image.\n",
    "        \"\"\"\n",
    "        return F.normalize(tensor, self.mean, self.std, self.inplace)"
   ]
  },
  {
   "cell_type": "markdown",
   "metadata": {},
   "source": [
    "* **Confused how `__init__` and `__call__` differs? See [this](https://stackoverflow.com/a/54881816/9734484) answer @ stack overflow**\n",
    "\n",
    "\n",
    "* **the arguments are named self.---- because they are called inside python classes**"
   ]
  },
  {
   "cell_type": "markdown",
   "metadata": {},
   "source": [
    "* `tensor` in argument to `__call__` is the tensor on which we call `Normalize`\n",
    "* The class calls `F.normalize(tensor, self.mean, self.std, self.inplace)` internally\n",
    "\n",
    "**Here F doesn't refer to the torch.nn.functional class**, instead to `torchvision.transforms.functional`\n",
    "\n",
    "\n",
    "    Inputs:\n",
    "        tensor - Tensor image of size (C, H, W) to be normalized C- Channel, H - Height, W- Width\n",
    "\t\tmean - Sequence of means for each channel\n",
    "        std - Sequence of standard deviations for each channel\n",
    "        inplace - if the operation should update the original tensor or return a new tensor\n",
    "        "
   ]
  },
  {
   "cell_type": "markdown",
   "metadata": {},
   "source": [
    "##### 2) `normalize` function in `transforms.functional`"
   ]
  },
  {
   "cell_type": "markdown",
   "metadata": {},
   "source": [
    "I'll just refresh on what `normalize` does, it computes \n",
    "<p style=\"font-size:20px;text-align:center\">$\\frac{x - mean}{std}$</p>\n",
    "\n",
    "> for all x ( values ) in the tensor\n",
    "\n",
    "Here, `mean` and `std` denote the mean and standard deviation to be applied\n"
   ]
  },
  {
   "cell_type": "markdown",
   "metadata": {},
   "source": [
    "* Now, this `normalize` function has been coded in two different ways between versions"
   ]
  },
  {
   "cell_type": "markdown",
   "metadata": {},
   "source": [
    "**A) Colab and Local Machine**"
   ]
  },
  {
   "cell_type": "code",
   "execution_count": 74,
   "metadata": {},
   "outputs": [],
   "source": [
    "def normalize1(tensor, mean, std, inplace=False):\n",
    "    \"\"\"Normalize a tensor image with mean and standard deviation.\n",
    "    Args:\n",
    "        tensor (Tensor): Tensor image of size (C, H, W) to be normalized.\n",
    "        mean (sequence): Sequence of means for each channel.\n",
    "        std (sequence): Sequence of standard deviations for each channel.\n",
    "\n",
    "    Returns:\n",
    "        Tensor: Normalized Tensor image.\n",
    "    \"\"\"\n",
    "    mean = torch.as_tensor(mean, dtype=torch.float32, device=tensor.device) # create mean tensor\n",
    "    std = torch.as_tensor(std, dtype=torch.float32, device=tensor.device) # create standard deviation tensor\n",
    "    tensor.sub_(mean[:, None, None]).div_(std[:, None, None]) # sub mean from the tensor and divide by std (inplace operation)\n",
    "    return tensor"
   ]
  },
  {
   "cell_type": "markdown",
   "metadata": {},
   "source": [
    "Let's see what's happening"
   ]
  },
  {
   "cell_type": "code",
   "execution_count": 71,
   "metadata": {},
   "outputs": [
    {
     "name": "stdout",
     "output_type": "stream",
     "text": [
      "Image tensor shapetorch.Size([1, 28, 28])\n",
      "\n",
      "mean tensor: tensor([0.5000, 0.5000, 0.5000]) \n",
      "shape of mean: torch.Size([3])\n"
     ]
    }
   ],
   "source": [
    "print(f\"Image tensor shape{img.shape}\\n\") # sample image(tensor) to work on \n",
    "\n",
    "mean = (0.5, 0.5, 0.5)\n",
    "std = (0.5, 0.5, 0.5)\n",
    "\n",
    "mean = torch.as_tensor(mean, dtype=torch.float32, device=tensor.device) # tensor.device - cpu or gpu\n",
    "std = torch.as_tensor(std, dtype=torch.float32, device=tensor.device)\n",
    "\n",
    "print(f\"mean tensor: {mean} \\nshape of mean: {mean.shape}\")"
   ]
  },
  {
   "cell_type": "code",
   "execution_count": 72,
   "metadata": {},
   "outputs": [
    {
     "name": "stdout",
     "output_type": "stream",
     "text": [
      "torch.Size([3, 1, 1])\n",
      "tensor([[[0.5000]],\n",
      "\n",
      "        [[0.5000]],\n",
      "\n",
      "        [[0.5000]]])\n"
     ]
    }
   ],
   "source": [
    "print(mean[:, None, None].shape)\n",
    "print(mean[:, None, None])"
   ]
  },
  {
   "cell_type": "markdown",
   "metadata": {},
   "source": [
    "*The below code is the part that causes the error( for some )*"
   ]
  },
  {
   "cell_type": "code",
   "execution_count": 85,
   "metadata": {},
   "outputs": [
    {
     "ename": "RuntimeError",
     "evalue": "output with shape [1, 28, 28] doesn't match the broadcast shape [3, 28, 28]",
     "output_type": "error",
     "traceback": [
      "\u001b[1;31m---------------------------------------------------------------------------\u001b[0m",
      "\u001b[1;31mRuntimeError\u001b[0m                              Traceback (most recent call last)",
      "\u001b[1;32m<ipython-input-85-fdeda226a016>\u001b[0m in \u001b[0;36m<module>\u001b[1;34m()\u001b[0m\n\u001b[0;32m      1\u001b[0m \u001b[0mtensor0\u001b[0m \u001b[1;33m=\u001b[0m \u001b[0mimg\u001b[0m\u001b[1;33m.\u001b[0m\u001b[0mclone\u001b[0m\u001b[1;33m(\u001b[0m\u001b[1;33m)\u001b[0m \u001b[1;31m# create a new image clone as we are going to do inplace operation\u001b[0m\u001b[1;33m\u001b[0m\u001b[0m\n\u001b[0;32m      2\u001b[0m \u001b[1;33m\u001b[0m\u001b[0m\n\u001b[1;32m----> 3\u001b[1;33m \u001b[0mtensor0\u001b[0m\u001b[1;33m.\u001b[0m\u001b[0msub_\u001b[0m\u001b[1;33m(\u001b[0m\u001b[0mmean\u001b[0m\u001b[1;33m[\u001b[0m\u001b[1;33m:\u001b[0m\u001b[1;33m,\u001b[0m \u001b[1;32mNone\u001b[0m\u001b[1;33m,\u001b[0m \u001b[1;32mNone\u001b[0m\u001b[1;33m]\u001b[0m\u001b[1;33m)\u001b[0m\u001b[1;33m\u001b[0m\u001b[0m\n\u001b[0m",
      "\u001b[1;31mRuntimeError\u001b[0m: output with shape [1, 28, 28] doesn't match the broadcast shape [3, 28, 28]"
     ]
    }
   ],
   "source": [
    "tensor0 = img.clone() # create a new image clone as we are going to do inplace operation\n",
    "\n",
    "tensor0.sub_(mean[:, None, None]) "
   ]
  },
  {
   "cell_type": "markdown",
   "metadata": {},
   "source": [
    "\t\tHere, `sub_` throws error as mean[:, None, None] is of shape [3, 1, 1] which gets broadcasted to [3, 28, 28] as shape of tensor is [1, 28, 28] but still can't match the dims.\n",
    "\t\t\n",
    "\t\tNb: Inplace operations in pytorch are always postfixed with a _ , like .add_() or .mul_()\n",
    "\t\t"
   ]
  },
  {
   "cell_type": "markdown",
   "metadata": {},
   "source": [
    "**B) Udacity workspace**"
   ]
  },
  {
   "cell_type": "code",
   "execution_count": 75,
   "metadata": {},
   "outputs": [],
   "source": [
    "def normalize2(tensor, mean, std):\n",
    "    \"\"\"Normalize a tensor image with mean and standard deviation.\n",
    "    Args:\n",
    "        tensor (Tensor): Tensor image of size (C, H, W) to be normalized.\n",
    "        mean (sequence): Sequence of means for each channel.\n",
    "        std (sequence): Sequence of standard deviations for each channely.\n",
    "\n",
    "    Returns:\n",
    "        Tensor: Normalized Tensor image.\n",
    "    \"\"\"\n",
    "    for t, m, s in zip(tensor, mean, std):\n",
    "        t.sub_(m).div_(s)\n",
    "    return tensor"
   ]
  },
  {
   "cell_type": "markdown",
   "metadata": {},
   "source": [
    "\t\t\t\n",
    "\t\tHere, `sub_` runs to completion w/o any error due to the use of the `zip` function. \n",
    "\t\tLet's see how the zip function works "
   ]
  },
  {
   "cell_type": "code",
   "execution_count": 77,
   "metadata": {},
   "outputs": [
    {
     "name": "stdout",
     "output_type": "stream",
     "text": [
      "apple red A\n",
      "banana yellow B\n",
      "orange orange C\n"
     ]
    }
   ],
   "source": [
    "fruits = ['apple', 'banana', 'orange']\n",
    "colors = ['red', 'yellow', 'orange']\n",
    "vitamins = ['A', 'B', 'C']\n",
    "\n",
    "for fruit, color, vitamin in zip(fruits, colors, vitamins):\n",
    "    print(fruit, color, vitamin)"
   ]
  },
  {
   "cell_type": "markdown",
   "metadata": {},
   "source": [
    "Now, if the arguments to `zip` are of different lengths"
   ]
  },
  {
   "cell_type": "code",
   "execution_count": 80,
   "metadata": {},
   "outputs": [
    {
     "name": "stdout",
     "output_type": "stream",
     "text": [
      "apple red A\n",
      "banana yellow B\n"
     ]
    }
   ],
   "source": [
    "fruits = ['apple', 'banana']\n",
    "colors = ['red', 'yellow', 'orange']\n",
    "vitamins = ['A', 'B', 'C']\n",
    "\n",
    "for fruit, color, vitamin in zip(fruits, colors, vitamins):\n",
    "    print(fruit, color, vitamin)"
   ]
  },
  {
   "cell_type": "markdown",
   "metadata": {},
   "source": [
    "**the code runs to completion without errors but iterates only upto the smallest arguments( in terms of length ) length**"
   ]
  },
  {
   "cell_type": "markdown",
   "metadata": {},
   "source": [
    "Taking inspiration from the examples above"
   ]
  },
  {
   "cell_type": "code",
   "execution_count": 108,
   "metadata": {},
   "outputs": [
    {
     "name": "stdout",
     "output_type": "stream",
     "text": [
      "Shapes:\n",
      "\ttensor1: torch.Size([1, 28, 28]), Mean: torch.Size([3]) , Standard Dev: torch.Size([3])\n",
      "\n",
      "Few values in tensor: tensor([-2.4980, -2.4941, -2.4902, -2.4627, -2.5098])\n",
      "\n",
      "torch.Size([28, 28]) torch.Size([]) torch.Size([])\n"
     ]
    }
   ],
   "source": [
    "tensor1 = img.clone()\n",
    "\n",
    "print(f\"Shapes:\\n\\ttensor1: {tensor1.shape}, Mean: {mean.shape} , Standard Dev: {std.shape}\\n\")\n",
    "print(f\"Few values in tensor: {tensor[0][0][:5]}\\n\")\n",
    "\n",
    "for t, m, s in zip(tensor1, mean, std):\n",
    "        t.sub_(m).div_(s)\n",
    "        \n"
   ]
  },
  {
   "cell_type": "markdown",
   "metadata": {},
   "source": [
    "Here, `m` and `s` are scalars and can be broadcasted to a tensor of **[28, 28]**"
   ]
  },
  {
   "cell_type": "markdown",
   "metadata": {},
   "source": [
    "<p style=\"font-size:20px\">AND THIS IS WHY THE `Normalize` RAN FINE ON UDACITY'S WORKSPACE BUT NOT ON COLAB OR MY LOCAL MACHINE FOR THAT MATTER</p>"
   ]
  },
  {
   "cell_type": "markdown",
   "metadata": {},
   "source": [
    "<hr>"
   ]
  },
  {
   "cell_type": "markdown",
   "metadata": {},
   "source": [
    "### 16. Transfer Learning :)"
   ]
  },
  {
   "cell_type": "markdown",
   "metadata": {},
   "source": []
  }
 ],
 "metadata": {
  "kernelspec": {
   "display_name": "Python 3",
   "language": "python",
   "name": "python3"
  },
  "language_info": {
   "codemirror_mode": {
    "name": "ipython",
    "version": 3
   },
   "file_extension": ".py",
   "mimetype": "text/x-python",
   "name": "python",
   "nbconvert_exporter": "python",
   "pygments_lexer": "ipython3",
   "version": "3.6.5"
  }
 },
 "nbformat": 4,
 "nbformat_minor": 2
}
