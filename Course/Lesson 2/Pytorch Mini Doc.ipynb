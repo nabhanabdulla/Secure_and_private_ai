{
 "cells": [
  {
   "cell_type": "markdown",
   "metadata": {},
   "source": [
    "Packages\n",
    "1. `torch`\n",
    "    1. Functions\n",
    "    2. Errors\n",
    "\n",
    "\n",
    "\n",
    "\n",
    "CSS:\n",
    "    1. function -\n",
    "    <p style=\"background-color:#EEE;padding:10px;font-family:verdana;border-left:5px solid red\">\n",
    "            <span style=\"font-weight:bold\" id=\"name\">\n",
    "                torch.cat\n",
    "            </span> \n",
    "            <span style=\"font-style:italic\" id=\"args\">\n",
    "                (tensors, dim=0, out=None) → Tensor\n",
    "            </span>\n",
    "    </p>\n",
    "    \n",
    "    2. Text\n",
    "    <p style=\"font-size:16px\">\n",
    "    \n",
    "    </p>\n",
    "    \n",
    "    <span style=\"font-size:16px\">\n",
    "    \n",
    "    </span>"
   ]
  },
  {
   "cell_type": "code",
   "execution_count": 1,
   "metadata": {},
   "outputs": [],
   "source": [
    "import torch"
   ]
  },
  {
   "cell_type": "markdown",
   "metadata": {},
   "source": [
    "### 1. torch"
   ]
  },
  {
   "cell_type": "markdown",
   "metadata": {},
   "source": [
    "#### i. Functions"
   ]
  },
  {
   "cell_type": "markdown",
   "metadata": {},
   "source": [
    "<p style=\"background-color:#EEE;padding:10px;font-family:verdana;border-left:5px solid red\">\n",
    "    <span style=\"font-weight:bold\" id=\"name\">\n",
    "        torch.cat\n",
    "    </span> \n",
    "    <span style=\"font-style:italic\" id=\"args\">\n",
    "        (tensors, dim=0, out=None) → Tensor\n",
    "    </span>\n",
    "</p>"
   ]
  },
  {
   "cell_type": "markdown",
   "metadata": {},
   "source": [
    "<p style=\"font-size:16px\">\n",
    "    Concatenates the given **sequence** of seq tensors in the given dimension. All tensors must either have the same shape (except in the concatenating dimension) or be empty\n",
    "</p>"
   ]
  },
  {
   "cell_type": "markdown",
   "metadata": {},
   "source": [
    "<p style=\"background-color:#EEE;padding:10px;font-family:verdana;border-left:5px solid red\">\n",
    "        <span style=\"font-weight:bold\" id=\"name\">\n",
    "            torch.nonzero\n",
    "        </span> \n",
    "        <span style=\"font-style:italic\" id=\"args\">\n",
    "            (input, out=None) → LongTensor\n",
    "        </span>\n",
    "</p>\n",
    "\n"
   ]
  },
  {
   "cell_type": "markdown",
   "metadata": {},
   "source": [
    "<p style=\"font-size:16px\">\n",
    "    Returns a tensor containing the indices of all non-zero elements of input. Each row in the result contains the indices of a non-zero element in input. The result is sorted lexicographically, with the last index changing the fastest (C-style)\n",
    "</p>\n"
   ]
  },
  {
   "cell_type": "markdown",
   "metadata": {},
   "source": [
    "* <p style=\"font-size:16px\">\n",
    "      If input has n dimensions, then the resulting indices tensor out is of size $(z \\times n)$, where z is the total number of non-zero elements in the input tensor i.e, if the tensor is of shape\n",
    "  </p>"
   ]
  },
  {
   "cell_type": "code",
   "execution_count": 17,
   "metadata": {},
   "outputs": [
    {
     "name": "stdout",
     "output_type": "stream",
     "text": [
      "No. of dimensions: 1\n",
      "tensor([[0],\n",
      "        [1],\n",
      "        [2],\n",
      "        [4]])\n",
      "torch.Size([4, 1])\n"
     ]
    }
   ],
   "source": [
    "tensor_1d = torch.tensor([1, 1, 1, 0, 1])\n",
    "print(f\"No. of dimensions: {len(tensor_1d.shape)}\")\n",
    "\n",
    "tensor_nonzero = torch.nonzero(tensor_1d)\n",
    "print(tensor_nonzero)\n",
    "print(tensor_nonzero.shape)"
   ]
  },
  {
   "cell_type": "markdown",
   "metadata": {},
   "source": []
  },
  {
   "cell_type": "markdown",
   "metadata": {},
   "source": []
  },
  {
   "cell_type": "markdown",
   "metadata": {},
   "source": []
  },
  {
   "cell_type": "markdown",
   "metadata": {},
   "source": [
    "#### ii. Errors"
   ]
  },
  {
   "cell_type": "markdown",
   "metadata": {},
   "source": [
    "`torch.mean`\n",
    "\n",
    "1) <span style=\"color:red\">RuntimeError</span>: Can only calculate the mean of floating types. Got Byte instead.\n"
   ]
  },
  {
   "cell_type": "code",
   "execution_count": 13,
   "metadata": {},
   "outputs": [
    {
     "name": "stdout",
     "output_type": "stream",
     "text": [
      "tensor([0, 0, 0, 0, 0, 0, 1, 0, 0, 1], dtype=torch.uint8)\n"
     ]
    },
    {
     "ename": "RuntimeError",
     "evalue": "Can only calculate the mean of floating types. Got Byte instead.",
     "output_type": "error",
     "traceback": [
      "\u001b[1;31m---------------------------------------------------------------------------\u001b[0m",
      "\u001b[1;31mRuntimeError\u001b[0m                              Traceback (most recent call last)",
      "\u001b[1;32m<ipython-input-13-d7851701f682>\u001b[0m in \u001b[0;36m<module>\u001b[1;34m()\u001b[0m\n\u001b[0;32m      2\u001b[0m \u001b[0mprint\u001b[0m\u001b[1;33m(\u001b[0m\u001b[0mdb\u001b[0m\u001b[1;33m)\u001b[0m\u001b[1;33m\u001b[0m\u001b[0m\n\u001b[0;32m      3\u001b[0m \u001b[1;33m\u001b[0m\u001b[0m\n\u001b[1;32m----> 4\u001b[1;33m \u001b[0mtorch\u001b[0m\u001b[1;33m.\u001b[0m\u001b[0mmean\u001b[0m\u001b[1;33m(\u001b[0m\u001b[0mdb\u001b[0m\u001b[1;33m)\u001b[0m\u001b[1;33m\u001b[0m\u001b[0m\n\u001b[0m",
      "\u001b[1;31mRuntimeError\u001b[0m: Can only calculate the mean of floating types. Got Byte instead."
     ]
    }
   ],
   "source": [
    "db = torch.randn(10) > 0.5\n",
    "print(db)\n",
    "\n",
    "torch.mean(db)"
   ]
  },
  {
   "cell_type": "markdown",
   "metadata": {},
   "source": [
    "`db` is of type Byte as the operation was boolean"
   ]
  },
  {
   "cell_type": "markdown",
   "metadata": {},
   "source": [
    "**Solution**: \n",
    "<span style=\"font-size:16px\">\n",
    "    Change elements to float\n",
    "</span>"
   ]
  },
  {
   "cell_type": "code",
   "execution_count": 14,
   "metadata": {},
   "outputs": [
    {
     "name": "stdout",
     "output_type": "stream",
     "text": [
      "tensor([0, 1, 0, 0, 0, 0, 0, 0, 1, 0], dtype=torch.uint8)\n"
     ]
    },
    {
     "data": {
      "text/plain": [
       "tensor(0.2000)"
      ]
     },
     "execution_count": 14,
     "metadata": {},
     "output_type": "execute_result"
    }
   ],
   "source": [
    "db = torch.randn(10) > 0.5\n",
    "print(db)\n",
    "\n",
    "torch.mean(db.float())"
   ]
  },
  {
   "cell_type": "markdown",
   "metadata": {},
   "source": []
  }
 ],
 "metadata": {
  "kernelspec": {
   "display_name": "Python 3",
   "language": "python",
   "name": "python3"
  },
  "language_info": {
   "codemirror_mode": {
    "name": "ipython",
    "version": 3
   },
   "file_extension": ".py",
   "mimetype": "text/x-python",
   "name": "python",
   "nbconvert_exporter": "python",
   "pygments_lexer": "ipython3",
   "version": "3.6.5"
  }
 },
 "nbformat": 4,
 "nbformat_minor": 2
}
