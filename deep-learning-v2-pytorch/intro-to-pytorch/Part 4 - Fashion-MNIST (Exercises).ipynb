{
 "cells": [
  {
   "cell_type": "markdown",
   "metadata": {},
   "source": [
    "# Classifying Fashion-MNIST\n",
    "\n",
    "Now it's your turn to build and train a neural network. You'll be using the [Fashion-MNIST dataset](https://github.com/zalandoresearch/fashion-mnist), a drop-in replacement for the MNIST dataset. MNIST is actually quite trivial with neural networks where you can easily achieve better than 97% accuracy. Fashion-MNIST is a set of 28x28 greyscale images of clothes. It's more complex than MNIST, so it's a better representation of the actual performance of your network, and a better representation of datasets you'll use in the real world.\n",
    "\n",
    "<img src='assets/fashion-mnist-sprite.png' width=500px>\n",
    "\n",
    "In this notebook, you'll build your own neural network. For the most part, you could just copy and paste the code from Part 3, but you wouldn't be learning. It's important for you to write the code yourself and get it to work. Feel free to consult the previous notebooks though as you work through this.\n",
    "\n",
    "First off, let's load the dataset through torchvision."
   ]
  },
  {
   "cell_type": "code",
   "execution_count": 1,
   "metadata": {
    "scrolled": true
   },
   "outputs": [
    {
     "name": "stdout",
     "output_type": "stream",
     "text": [
      "Downloading http://fashion-mnist.s3-website.eu-central-1.amazonaws.com/train-images-idx3-ubyte.gz to C:\\Users\\nabhu/.pytorch/F_MNIST_data/FashionMNIST\\raw\\train-images-idx3-ubyte.gz\n"
     ]
    },
    {
     "name": "stderr",
     "output_type": "stream",
     "text": [
      "100%|████████████████████████████████████████████████████████████████▊| 26329088/26421880 [00:18<00:00, 1768083.77it/s]"
     ]
    },
    {
     "name": "stdout",
     "output_type": "stream",
     "text": [
      "Extracting C:\\Users\\nabhu/.pytorch/F_MNIST_data/FashionMNIST\\raw\\train-images-idx3-ubyte.gz\n",
      "Downloading http://fashion-mnist.s3-website.eu-central-1.amazonaws.com/train-labels-idx1-ubyte.gz to C:\\Users\\nabhu/.pytorch/F_MNIST_data/FashionMNIST\\raw\\train-labels-idx1-ubyte.gz\n"
     ]
    },
    {
     "name": "stderr",
     "output_type": "stream",
     "text": [
      "\n",
      "0it [00:00, ?it/s]\n",
      "  0%|                                                                                        | 0/29515 [00:00<?, ?it/s]\n",
      " 56%|████████████████████████████████████████▌                                | 16384/29515 [00:00<00:00, 82762.94it/s]"
     ]
    },
    {
     "name": "stdout",
     "output_type": "stream",
     "text": [
      "Extracting C:\\Users\\nabhu/.pytorch/F_MNIST_data/FashionMNIST\\raw\\train-labels-idx1-ubyte.gz\n",
      "Downloading http://fashion-mnist.s3-website.eu-central-1.amazonaws.com/t10k-images-idx3-ubyte.gz to C:\\Users\\nabhu/.pytorch/F_MNIST_data/FashionMNIST\\raw\\t10k-images-idx3-ubyte.gz\n"
     ]
    },
    {
     "name": "stderr",
     "output_type": "stream",
     "text": [
      "\n",
      "\n",
      "0it [00:00, ?it/s]\n",
      "\n",
      "  0%|                                                                                      | 0/4422102 [00:00<?, ?it/s]\n",
      "\n",
      "  0%|▎                                                                      | 16384/4422102 [00:00<00:49, 89683.54it/s]\n",
      "\n",
      "  1%|▊                                                                     | 49152/4422102 [00:01<00:41, 104970.19it/s]\n",
      "\n",
      "  2%|█▋                                                                   | 106496/4422102 [00:01<00:32, 130792.62it/s]\n",
      "\n",
      "  4%|██▋                                                                  | 172032/4422102 [00:01<00:26, 160812.03it/s]\n",
      "\n",
      "  5%|███▋                                                                 | 237568/4422102 [00:01<00:22, 189140.36it/s]\n",
      "\n",
      "  9%|█████▉                                                               | 376832/4422102 [00:01<00:16, 252564.84it/s]\n",
      "\n",
      " 10%|██████▊                                                              | 434176/4422102 [00:01<00:13, 301488.88it/s]\n",
      "\n",
      " 14%|█████████▌                                                           | 614400/4422102 [00:01<00:09, 399679.27it/s]\n",
      "\n",
      " 17%|███████████▌                                                         | 737280/4422102 [00:02<00:07, 500688.54it/s]\n",
      "\n",
      " 21%|██████████████▎                                                      | 917504/4422102 [00:02<00:05, 628629.21it/s]\n",
      "\n",
      " 24%|███████████████▉                                                    | 1040384/4422102 [00:02<00:04, 731293.57it/s]\n",
      "\n",
      " 27%|██████████████████▍                                                 | 1196032/4422102 [00:02<00:03, 863692.21it/s]\n",
      "\n",
      " 31%|████████████████████▊                                               | 1351680/4422102 [00:02<00:03, 988087.25it/s]\n",
      "\n",
      " 34%|███████████████████████                                            | 1523712/4422102 [00:02<00:02, 1097834.07it/s]\n",
      "\n",
      " 39%|█████████████████████████▊                                         | 1703936/4422102 [00:02<00:02, 1203989.59it/s]\n",
      "\n",
      " 43%|████████████████████████████▌                                      | 1884160/4422102 [00:02<00:01, 1325396.09it/s]\n",
      "\n",
      " 46%|███████████████████████████████                                    | 2048000/4422102 [00:02<00:01, 1399834.33it/s]\n",
      "\n",
      " 50%|█████████████████████████████████▊                                 | 2228224/4422102 [00:02<00:01, 1485541.09it/s]\n",
      "\n",
      " 54%|████████████████████████████████████▏                              | 2392064/4422102 [00:03<00:01, 1462836.10it/s]\n",
      "\n",
      " 58%|██████████████████████████████████████▌                            | 2547712/4422102 [00:03<00:01, 1378750.87it/s]\n",
      "\n",
      " 61%|████████████████████████████████████████▉                          | 2703360/4422102 [00:03<00:01, 1411983.31it/s]\n",
      "\n",
      " 65%|███████████████████████████████████████████▎                       | 2859008/4422102 [00:03<00:01, 1441025.10it/s]\n",
      "\n",
      " 69%|██████████████████████████████████████████████                     | 3039232/4422102 [00:03<00:00, 1517882.98it/s]\n",
      "\n",
      " 73%|████████████████████████████████████████████████▋                  | 3211264/4422102 [00:03<00:00, 1555636.95it/s]\n",
      "\n",
      " 76%|███████████████████████████████████████████████████▏               | 3375104/4422102 [00:03<00:00, 1576878.15it/s]\n",
      "\n",
      " 80%|█████████████████████████████████████████████████████▊             | 3555328/4422102 [00:03<00:00, 1638328.99it/s]\n",
      "\n",
      " 84%|████████████████████████████████████████████████████████▍          | 3727360/4422102 [00:03<00:00, 1643039.64it/s]\n",
      "\n",
      " 88%|███████████████████████████████████████████████████████████▏       | 3907584/4422102 [00:04<00:00, 1669014.16it/s]\n",
      "\n",
      " 92%|█████████████████████████████████████████████████████████████▊     | 4079616/4422102 [00:04<00:00, 1683720.23it/s]\n",
      "\n",
      " 97%|████████████████████████████████████████████████████████████████▋  | 4268032/4422102 [00:04<00:00, 1720339.40it/s]\n",
      "\n",
      "4423680it [00:04, 992065.92it/s]                                                                                       "
     ]
    },
    {
     "name": "stdout",
     "output_type": "stream",
     "text": [
      "Extracting C:\\Users\\nabhu/.pytorch/F_MNIST_data/FashionMNIST\\raw\\t10k-images-idx3-ubyte.gz\n",
      "Downloading http://fashion-mnist.s3-website.eu-central-1.amazonaws.com/t10k-labels-idx1-ubyte.gz to C:\\Users\\nabhu/.pytorch/F_MNIST_data/FashionMNIST\\raw\\t10k-labels-idx1-ubyte.gz\n"
     ]
    },
    {
     "name": "stderr",
     "output_type": "stream",
     "text": [
      "\n",
      "\n",
      "0it [00:00, ?it/s]\n",
      "\n",
      "  0%|                                                                                         | 0/5148 [00:00<?, ?it/s]\n",
      "\n",
      "8192it [00:00, 15753.88it/s]                                                                                           "
     ]
    },
    {
     "name": "stdout",
     "output_type": "stream",
     "text": [
      "Extracting C:\\Users\\nabhu/.pytorch/F_MNIST_data/FashionMNIST\\raw\\t10k-labels-idx1-ubyte.gz\n",
      "Processing...\n",
      "Done!\n"
     ]
    },
    {
     "name": "stderr",
     "output_type": "stream",
     "text": [
      "26427392it [00:29, 1768083.77it/s]                                                                                     \n",
      "32768it [00:20, 82762.94it/s]                                                                                          "
     ]
    }
   ],
   "source": [
    "import torch\n",
    "from torchvision import datasets, transforms\n",
    "import helper\n",
    "\n",
    "# Define a transform to normalize the data\n",
    "transform = transforms.Compose([transforms.ToTensor(),\n",
    "                                transforms.Normalize((0.5,), (0.5,))])\n",
    "# Download and load the training data\n",
    "trainset = datasets.FashionMNIST('~/.pytorch/F_MNIST_data/', download=True, train=True, transform=transform)\n",
    "trainloader = torch.utils.data.DataLoader(trainset, batch_size=64, shuffle=True)\n",
    "\n",
    "# Download and load the test data\n",
    "testset = datasets.FashionMNIST('~/.pytorch/F_MNIST_data/', download=True, train=False, transform=transform)\n",
    "testloader = torch.utils.data.DataLoader(testset, batch_size=64, shuffle=True)"
   ]
  },
  {
   "cell_type": "markdown",
   "metadata": {},
   "source": [
    "Here we can see one of the images."
   ]
  },
  {
   "cell_type": "code",
   "execution_count": 3,
   "metadata": {},
   "outputs": [
    {
     "data": {
      "image/png": "[encoded data removed]",
      "text/plain": [
       "<Figure size 432x288 with 1 Axes>"
      ]
     },
     "metadata": {},
     "output_type": "display_data"
    }
   ],
   "source": [
    "image, label = next(iter(trainloader))\n",
    "helper.imshow(image[0]);"
   ]
  },
  {
   "cell_type": "markdown",
   "metadata": {},
   "source": [
    "## Building the network\n",
    "\n",
    "Here you should define your network. As with MNIST, each image is 28x28 which is a total of 784 pixels, and there are 10 classes. You should include at least one hidden layer. We suggest you use ReLU activations for the layers and to return the logits or log-softmax from the forward pass. It's up to you how many layers you add and the size of those layers."
   ]
  },
  {
   "cell_type": "code",
   "execution_count": 5,
   "metadata": {},
   "outputs": [],
   "source": [
    "# TODO: Define your network architecture here\n",
    "# import necessary modules\n",
    "from torch import nn\n",
    "from collections import OrderedDict\n",
    "\n",
    "# create model\n",
    "model = nn.Sequential(OrderedDict([\n",
    "                    ('fc1', nn.Linear(784, 64)),\n",
    "                    ('relu1', nn.ReLU()),\n",
    "                    ('fc2', nn.Linear(64, 10)),\n",
    "                    ('logsoftmax1', nn.LogSoftmax(dim=1))\n",
    "]))"
   ]
  },
  {
   "cell_type": "markdown",
   "metadata": {},
   "source": [
    "# Train the network\n",
    "\n",
    "Now you should create your network and train it. First you'll want to define [the criterion](http://pytorch.org/docs/master/nn.html#loss-functions) ( something like `nn.CrossEntropyLoss`) and [the optimizer](http://pytorch.org/docs/master/optim.html) (typically `optim.SGD` or `optim.Adam`).\n",
    "\n",
    "Then write the training code. Remember the training pass is a fairly straightforward process:\n",
    "\n",
    "* Make a forward pass through the network to get the logits \n",
    "* Use the logits to calculate the loss\n",
    "* Perform a backward pass through the network with `loss.backward()` to calculate the gradients\n",
    "* Take a step with the optimizer to update the weights\n",
    "\n",
    "By adjusting the hyperparameters (hidden units, learning rate, etc), you should be able to get the training loss below 0.4."
   ]
  },
  {
   "cell_type": "code",
   "execution_count": 6,
   "metadata": {},
   "outputs": [],
   "source": [
    "# TODO: Create the network, define the criterion and optimizer\n",
    "\n",
    "from torch import optim\n",
    "\n",
    "# define a loss function\n",
    "criterion = nn.NLLLoss()\n",
    "# define an optimizer\n",
    "optimizer = optim.SGD(model.parameters(), lr=0.05)"
   ]
  },
  {
   "cell_type": "code",
   "execution_count": 13,
   "metadata": {},
   "outputs": [
    {
     "name": "stderr",
     "output_type": "stream",
     "text": [
      "\n",
      "\n",
      "\n",
      "\n",
      " 12%|█████████▋                                                                      | 114/938 [00:20<00:13, 59.83it/s]"
     ]
    },
    {
     "name": "stdout",
     "output_type": "stream",
     "text": [
      "Loss over the dataset is : 0.3738079440555593\n",
      "Loss over the dataset is : 0.3540607327019482\n",
      "Loss over the dataset is : 0.33897770736326793\n",
      "Loss over the dataset is : 0.32603391529972364\n",
      "Loss over the dataset is : 0.31351051466074836\n"
     ]
    }
   ],
   "source": [
    "# TODO: Train the network here\n",
    "from tqdm import tqdm \n",
    "\n",
    "epochs = 5\n",
    "\n",
    "for e in range(epochs):\n",
    "    running_loss = 0\n",
    "    for images, labels in trainloader:\n",
    "        images = images.view(images.shape[0], -1)\n",
    "        \n",
    "        optimizer.zero_grad()\n",
    "        \n",
    "        output = model(images) # 1. Forward pass\n",
    "        loss = criterion(output, labels) # 2. Calculate loss\n",
    "        loss.backward() # 3. Backpropogate and find gradients\n",
    "        optimizer.step() # 4. Update model weights using gradients\n",
    "        \n",
    "        running_loss += loss.item()\n",
    "    else:\n",
    "        print(f'Loss over the dataset is : {running_loss/len(trainloader)}')"
   ]
  },
  {
   "cell_type": "code",
   "execution_count": 21,
   "metadata": {},
   "outputs": [
    {
     "data": {
      "image/png": "[encoded data removed]",
      "text/plain": [
       "<Figure size 432x648 with 2 Axes>"
      ]
     },
     "metadata": {
      "image/png": {
       "height": 201,
       "width": 422
      }
     },
     "output_type": "display_data"
    }
   ],
   "source": [
    "%matplotlib inline\n",
    "%config InlineBackend.figure_format = 'retina'\n",
    "\n",
    "import helper\n",
    "\n",
    "# Test out your network!\n",
    "\n",
    "dataiter = iter(testloader)\n",
    "images, labels = dataiter.next()\n",
    "img = images[0]\n",
    "# Convert 2D image to 1D vector\n",
    "img = img.resize_(1, 784)\n",
    "\n",
    "# TODO: Calculate the class probabilities (softmax) for img\n",
    "logps = model(img)\n",
    "ps = torch.exp(logps)\n",
    "\n",
    "# Plot the image and probabilities\n",
    "helper.view_classify(img.resize_(1, 28, 28), ps, version='Fashion')"
   ]
  },
  {
   "cell_type": "markdown",
   "metadata": {},
   "source": []
  }
 ],
 "metadata": {
  "kernelspec": {
   "display_name": "Python 3",
   "language": "python",
   "name": "python3"
  },
  "language_info": {
   "codemirror_mode": {
    "name": "ipython",
    "version": 3
   },
   "file_extension": ".py",
   "mimetype": "text/x-python",
   "name": "python",
   "nbconvert_exporter": "python",
   "pygments_lexer": "ipython3",
   "version": "3.6.5"
  }
 },
 "nbformat": 4,
 "nbformat_minor": 2
}
