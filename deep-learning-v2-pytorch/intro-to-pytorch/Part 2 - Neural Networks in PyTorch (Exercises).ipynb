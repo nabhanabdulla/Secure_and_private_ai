{
 "cells": [
  {
   "cell_type": "markdown",
   "metadata": {},
   "source": [
    "# Neural networks with PyTorch\n",
    "\n",
    "Deep learning networks tend to be massive with dozens or hundreds of layers, that's where the term \"deep\" comes from. You can build one of these deep networks using only weight matrices as we did in the previous notebook, but in general it's very cumbersome and difficult to implement. PyTorch has a nice module `nn` that provides a nice way to efficiently build large neural networks."
   ]
  },
  {
   "cell_type": "code",
   "execution_count": 1,
   "metadata": {},
   "outputs": [],
   "source": [
    "# Import necessary packages\n",
    "\n",
    "%matplotlib inline\n",
    "%config InlineBackend.figure_format = 'retina'\n",
    "\n",
    "import numpy as np\n",
    "import torch\n",
    "\n",
    "import helper\n",
    "\n",
    "import matplotlib.pyplot as plt"
   ]
  },
  {
   "cell_type": "markdown",
   "metadata": {},
   "source": [
    "\n",
    "Now we're going to build a larger network that can solve a (formerly) difficult problem, identifying text in an image. Here we'll use the MNIST dataset which consists of greyscale handwritten digits. Each image is 28x28 pixels, you can see a sample below\n",
    "\n",
    "<img src='assets/mnist.png'>\n",
    "\n",
    "Our goal is to build a neural network that can take one of these images and predict the digit in the image.\n",
    "\n",
    "First up, we need to get our dataset. This is provided through the `torchvision` package. The code below will download the MNIST dataset, then create training and test datasets for us. Don't worry too much about the details here, you'll learn more about this later."
   ]
  },
  {
   "cell_type": "code",
   "execution_count": 2,
   "metadata": {},
   "outputs": [
    {
     "name": "stdout",
     "output_type": "stream",
     "text": [
      "Downloading http://yann.lecun.com/exdb/mnist/train-images-idx3-ubyte.gz to C:\\Users\\nabhu/.pytorch/MNIST_data/MNIST\\raw\\train-images-idx3-ubyte.gz\n"
     ]
    },
    {
     "name": "stderr",
     "output_type": "stream",
     "text": [
      "9920512it [00:08, 1132083.41it/s]                                                                                      \n"
     ]
    },
    {
     "name": "stdout",
     "output_type": "stream",
     "text": [
      "Extracting C:\\Users\\nabhu/.pytorch/MNIST_data/MNIST\\raw\\train-images-idx3-ubyte.gz\n",
      "Downloading http://yann.lecun.com/exdb/mnist/train-labels-idx1-ubyte.gz to C:\\Users\\nabhu/.pytorch/MNIST_data/MNIST\\raw\\train-labels-idx1-ubyte.gz\n"
     ]
    },
    {
     "name": "stderr",
     "output_type": "stream",
     "text": [
      "32768it [00:00, 34050.72it/s]                                                                                          \n"
     ]
    },
    {
     "name": "stdout",
     "output_type": "stream",
     "text": [
      "Extracting C:\\Users\\nabhu/.pytorch/MNIST_data/MNIST\\raw\\train-labels-idx1-ubyte.gz\n",
      "Downloading http://yann.lecun.com/exdb/mnist/t10k-images-idx3-ubyte.gz to C:\\Users\\nabhu/.pytorch/MNIST_data/MNIST\\raw\\t10k-images-idx3-ubyte.gz\n"
     ]
    },
    {
     "name": "stderr",
     "output_type": "stream",
     "text": [
      "1654784it [00:02, 601392.65it/s]                                                                                       \n"
     ]
    },
    {
     "name": "stdout",
     "output_type": "stream",
     "text": [
      "Extracting C:\\Users\\nabhu/.pytorch/MNIST_data/MNIST\\raw\\t10k-images-idx3-ubyte.gz\n",
      "Downloading http://yann.lecun.com/exdb/mnist/t10k-labels-idx1-ubyte.gz to C:\\Users\\nabhu/.pytorch/MNIST_data/MNIST\\raw\\t10k-labels-idx1-ubyte.gz\n"
     ]
    },
    {
     "name": "stderr",
     "output_type": "stream",
     "text": [
      "8192it [00:00, 11191.20it/s]                                                                                           \n"
     ]
    },
    {
     "name": "stdout",
     "output_type": "stream",
     "text": [
      "Extracting C:\\Users\\nabhu/.pytorch/MNIST_data/MNIST\\raw\\t10k-labels-idx1-ubyte.gz\n",
      "Processing...\n",
      "Done!\n"
     ]
    }
   ],
   "source": [
    "### Run this cell\n",
    "\n",
    "from torchvision import datasets, transforms\n",
    "\n",
    "# Define a transform to normalize the data\n",
    "transform = transforms.Compose([transforms.ToTensor(),\n",
    "                              transforms.Normalize((0.5,), (0.5,)),\n",
    "                              ])\n",
    "\n",
    "# Download and load the training data\n",
    "trainset = datasets.MNIST('~/.pytorch/MNIST_data/', download=True, train=True, transform=transform)\n",
    "trainloader = torch.utils.data.DataLoader(trainset, batch_size=64, shuffle=True)"
   ]
  },
  {
   "cell_type": "markdown",
   "metadata": {},
   "source": [
    "We have the training data loaded into `trainloader` and we make that an iterator with `iter(trainloader)`. Later, we'll use this to loop through the dataset for training, like\n",
    "\n",
    "```python\n",
    "for image, label in trainloader:\n",
    "    ## do things with images and labels\n",
    "```\n",
    "\n",
    "You'll notice I created the `trainloader` with a batch size of 64, and `shuffle=True`. The batch size is the number of images we get in one iteration from the data loader and pass through our network, often called a *batch*. And `shuffle=True` tells it to shuffle the dataset every time we start going through the data loader again. But here I'm just grabbing the first batch so we can check out the data. We can see below that `images` is just a tensor with size `(64, 1, 28, 28)`. So, 64 images per batch, 1 color channel, and 28x28 images."
   ]
  },
  {
   "cell_type": "code",
   "execution_count": 12,
   "metadata": {},
   "outputs": [
    {
     "name": "stdout",
     "output_type": "stream",
     "text": [
      "<class 'torch.Tensor'>\n",
      "torch.Size([64, 1, 28, 28])\n",
      "torch.Size([64])\n"
     ]
    }
   ],
   "source": [
    "dataiter = iter(trainloader)\n",
    "images, labels = dataiter.next()\n",
    "print(type(images))\n",
    "print(images.shape)\n",
    "print(labels.shape)"
   ]
  },
  {
   "cell_type": "markdown",
   "metadata": {},
   "source": [
    "This is what one of the images looks like. "
   ]
  },
  {
   "cell_type": "code",
   "execution_count": 6,
   "metadata": {},
   "outputs": [
    {
     "data": {
      "image/png": "[encoded data removed]",
      "text/plain": [
       "<Figure size 432x288 with 1 Axes>"
      ]
     },
     "metadata": {
      "image/png": {
       "height": 250,
       "width": 254
      }
     },
     "output_type": "display_data"
    }
   ],
   "source": [
    "plt.imshow(images[1].numpy().squeeze(), cmap='Greys_r');"
   ]
  },
  {
   "cell_type": "markdown",
   "metadata": {},
   "source": [
    "First, let's try to build a simple network for this dataset using weight matrices and matrix multiplications. Then, we'll see how to do it using PyTorch's `nn` module which provides a much more convenient and powerful method for defining network architectures.\n",
    "\n",
    "The networks you've seen so far are called *fully-connected* or *dense* networks. Each unit in one layer is connected to each unit in the next layer. In fully-connected networks, the input to each layer must be a one-dimensional vector (which can be stacked into a 2D tensor as a batch of multiple examples). However, our images are 28x28 2D tensors, so we need to convert them into 1D vectors. Thinking about sizes, we need to convert the batch of images with shape `(64, 1, 28, 28)` to a have a shape of `(64, 784)`, 784 is 28 times 28. This is typically called *flattening*, we flattened the 2D images into 1D vectors.\n",
    "\n",
    "Previously you built a network with one output unit. Here we need 10 output units, one for each digit. We want our network to predict the digit shown in an image, so what we'll do is calculate probabilities that the image is of any one digit or class. This ends up being a discrete probability distribution over the classes (digits) that tells us the most likely class for the image. That means we need 10 output units for the 10 classes (digits). We'll see how to convert the network output into a probability distribution next.\n",
    "\n",
    "> **Exercise:** Flatten the batch of images `images`. Then build a multi-layer network with 784 input units, 256 hidden units, and 10 output units using random tensors for the weights and biases. For now, use a sigmoid activation for the hidden layer. Leave the output layer without an activation, we'll add one that gives us a probability distribution next."
   ]
  },
  {
   "cell_type": "code",
   "execution_count": 26,
   "metadata": {},
   "outputs": [
    {
     "name": "stdout",
     "output_type": "stream",
     "text": [
      "torch.Size([64, 10])\n",
      "tensor([[  4.8049, -17.5450,   8.0292,  -0.5384,   1.0456,  -1.6950,   1.5052,\n",
      "           5.3401,   2.6637,   6.2875],\n",
      "        [ -0.9971,  -6.0335,   9.3506,  -7.0787,   1.1546,  -2.1579,   1.2705,\n",
      "          -6.0347,  12.3930,   1.9906],\n",
      "        [ -0.9852, -12.0701,   3.8798,  -4.9693,  -1.1418,  -3.0353,  11.7530,\n",
      "           2.2126,   8.5901,   9.7690],\n",
      "        [  1.5092,  -5.0743,  11.1985,   5.6558,  -3.8095,  -4.3456,   4.7181,\n",
      "           0.8849,   5.9147,   6.8562],\n",
      "        [ -5.0392, -14.3768,  17.8044, -10.1304,  -3.6908,   0.2696, -11.0038,\n",
      "          -3.2378,  18.4866,   4.6669],\n",
      "        [  4.3474,  -7.2270,  13.5640,   5.8516,   1.1013,  -6.2237, -10.5100,\n",
      "           2.1638,   4.7852,   5.6313],\n",
      "        [  6.0528,  -5.4319,   6.2900,  -1.8040,   4.2818,  -2.3880,   1.7368,\n",
      "          -6.6503,   8.7606,   1.4778],\n",
      "        [ -4.9158,  -7.2971,   5.4358,  -5.9764,  12.1755,  -5.1882,  10.8011,\n",
      "           5.5066,   9.9299,  -0.7440],\n",
      "        [  1.1266, -12.6844,  13.6290,  -5.1047,   7.0687,  -1.4051,   7.2959,\n",
      "          -0.0892,  13.1996,   0.8452],\n",
      "        [ -8.4003, -10.9635,   1.9735, -11.4638,   2.9180,  -6.9003,  -2.8610,\n",
      "           3.5954,  10.2844,   4.8080],\n",
      "        [ 10.8822,  -4.1234,  12.3633,  -5.3838,  -0.2016,  -8.6433,   8.7476,\n",
      "          -2.5518,   9.1810,  11.8002],\n",
      "        [  8.3535,  -7.0896,   9.8238,   0.8613,   0.7055,  -5.0576,   2.5495,\n",
      "          -0.4568,   4.3030,  -3.1173],\n",
      "        [  5.8609,  -9.4247,   7.4215,   0.2271,   0.3442,  -2.3712,   5.9580,\n",
      "          -5.6065,   9.2694,   0.9682],\n",
      "        [ -5.3184, -15.4391,  14.6126,  -5.4205, -12.3542,  -6.4148,  -5.4014,\n",
      "          -0.6231,  11.9120,   2.5711],\n",
      "        [  0.7553,  -6.1611,  14.6907,   0.3839,   0.4513,  -6.2339,   2.1880,\n",
      "          -8.1390,  -3.7086,   9.2157],\n",
      "        [  1.6093,  -6.4845,  20.4718,  -0.1419,  -2.1363, -11.5659,   3.8305,\n",
      "           4.3421,  17.7924,   2.8871],\n",
      "        [  5.5545,  -9.9029,  19.7106,  -8.4048,   5.3316,  -3.8523,  -8.1311,\n",
      "          -6.1576,   0.7556,  12.3793],\n",
      "        [  1.7049,  -5.8797,  11.5378, -11.5245,   5.2552,  -1.8437,   1.2918,\n",
      "          -4.1291,   4.5224,  -3.8013],\n",
      "        [  3.2799,  -9.1471,  12.3742,  -3.2996,   1.6659,   1.3299,  12.0221,\n",
      "          -1.3282,   9.6971,   0.0430],\n",
      "        [-10.3883, -16.0480,   4.8826,  -2.0111,  -6.0221, -11.2639,  -0.0438,\n",
      "          -4.4233,   2.5479,  11.2853],\n",
      "        [  0.5548,  -6.8980,  19.2403,  -1.1886,  -0.2141,   0.9616,  -2.6290,\n",
      "         -12.7626,  11.6861,   0.3561],\n",
      "        [ -4.6133,  -7.5897,  -5.2844,  -0.1383,   2.2395,  -6.8389,  11.7861,\n",
      "          -6.7461,  10.7584,  -6.4928],\n",
      "        [  4.6029,  -6.8117,   3.5228,  -5.3943,   5.0153,  -8.2190,  -1.1635,\n",
      "          -4.0317,  17.0739,  -7.2043],\n",
      "        [  9.0997,  -4.6130,  12.3946,  -8.4642,   7.5835,  -8.5914,   8.3672,\n",
      "          -9.4690,  10.2320,  -2.5382],\n",
      "        [  2.3844, -11.3862,  14.9467,  -4.2693,  -4.7330,  -7.6333,  -0.4127,\n",
      "          -4.3706,  13.5134,   2.2412],\n",
      "        [  1.7308, -14.4545,   8.0227,  -1.1389,   7.3268,  -1.3006,   1.0137,\n",
      "          -6.2976,   5.5272,   1.4435],\n",
      "        [  1.7100,   1.3471,   8.5961,   5.4185,   7.1965, -10.5708,  -5.1041,\n",
      "          -3.6437,  13.1779,   2.4388],\n",
      "        [-10.2318,  -6.3362,   4.2907,  -9.4131,  -4.1392, -10.5572,  -0.7560,\n",
      "          -6.7086,  11.5198,   3.4086],\n",
      "        [ -1.0628,  -0.7581,  12.6064, -10.1214,   9.7151,   0.4293,   1.6884,\n",
      "           3.8009,  17.8762,  -7.4161],\n",
      "        [  5.8941,   1.5854,   3.7504,  -6.8639,   0.1002,  -1.9751,   4.3200,\n",
      "           2.9798,  12.8577,   0.3847],\n",
      "        [  5.0629,  -1.2614,  10.4886,  -2.1065,   7.5974, -12.9689,   6.8727,\n",
      "          -6.0902,   8.8175,   7.3347],\n",
      "        [ -2.4165, -10.9481,   5.0515,  -6.0881,   4.4347,  -6.8825,   2.5183,\n",
      "         -14.8714,  -1.0746,   1.4874],\n",
      "        [ -2.7041, -11.2438,  13.8973,  -1.2801,  -0.8748,  -1.4096,   2.3852,\n",
      "           1.3027,  22.7340,   5.4716],\n",
      "        [  7.6161,  -8.5129,   9.0643,   7.8059,   7.1506,   3.3562,   3.6603,\n",
      "           2.5765,  -2.2566,  -0.7822],\n",
      "        [  2.9458,  -7.6078,  17.0867,  -5.3282,   2.1707,  -2.4328,   7.1363,\n",
      "          -1.5377,  13.7683,  10.7775],\n",
      "        [ -1.2653,  -0.6943,   4.4709,  -6.1611,   8.8080,  -2.3961,   0.8865,\n",
      "          -8.8073,  10.4229,   0.1855],\n",
      "        [  0.0662, -14.2676,   7.3925,  -3.4303,   5.2135,  -6.0818,   0.7673,\n",
      "           2.6365,  14.1690,   8.6861],\n",
      "        [ -3.0000,  -5.8307,  12.7375,  -7.9133,   3.9906,  -5.6644,  -0.7257,\n",
      "           4.0960,  10.9283,   9.6615],\n",
      "        [ -2.4610, -12.9314,   8.6537,   0.2165,  -5.5933,  -7.0924,   9.2903,\n",
      "          -2.5255,   5.4481,   1.3166],\n",
      "        [  9.6609, -11.3205,  14.0007,   1.4675,   0.7618,  -7.0931,   5.7515,\n",
      "           6.3003,  15.0133,  -3.1763],\n",
      "        [ -5.6616,  -6.6439,   5.9166,   1.2505,   6.5885,  -8.9610,   0.3804,\n",
      "          -3.7548,   9.0655,   0.4717],\n",
      "        [  3.5784, -16.7209,   4.8687,  -2.7375,  -8.4163,   2.3350,   7.3165,\n",
      "          -1.8369,  13.1535,   3.8672],\n",
      "        [  4.2545, -16.0761,  16.5414,  -9.4410,   4.9214,  -9.9248,   2.3525,\n",
      "          -0.4523,  10.9497,   4.1719],\n",
      "        [  2.1708, -14.4377,  11.8829, -10.0749,  -9.0311,  -7.1175,   1.8705,\n",
      "          -1.1686,   7.9723,   5.4555],\n",
      "        [-15.5043,  -9.1786,  -0.4523, -17.8072,  -9.2534,  -4.9509,  -5.2239,\n",
      "           5.4356,  16.9201,   7.9290],\n",
      "        [ -1.1459, -15.0126,   6.9221,  -1.7109, -10.3417, -10.2782,   5.1779,\n",
      "           4.5179,   6.2129,   0.8321],\n",
      "        [  6.7426,  -5.0134,   9.7877, -11.4962,   7.3299,  -4.2564,  -6.9853,\n",
      "           1.1737,  10.5716,   4.0283],\n",
      "        [ -0.1312, -15.4718,  10.7953,  -0.3939,   2.6024,   6.8111,  -3.0544,\n",
      "          -4.0129,  11.2847,   0.7985],\n",
      "        [-16.2164,  -7.4275,  13.3002,  -3.5642,   0.4391,  -7.8689,  -3.3271,\n",
      "           4.3901,  10.5570,   4.2538],\n",
      "        [ 13.5326,  -8.1591,  10.5484,   1.6033,   2.9708, -11.9609,   3.2583,\n",
      "           1.8345,  15.0309,  -1.7936],\n",
      "        [ -2.1770,  -3.3727,   5.6681,  -0.5862,   9.2706,  -6.3599,   6.8426,\n",
      "           0.1408,   7.6029,  -0.9536],\n",
      "        [ -7.9755, -13.8404,  10.0717,  -4.1372,  -3.9123,  -9.6319,   3.9888,\n",
      "          -7.5793,  13.6207,   2.7599],\n",
      "        [ -0.9278,  -6.9551,   5.2093, -12.5715,  -8.0084,  -2.5118,   2.6178,\n",
      "           5.5506,   1.0280,   7.9715],\n",
      "        [-11.9301,  -4.5333,   3.9787,  -5.0938,   4.2794,  -7.1625,  -3.6442,\n",
      "          -2.0031,  12.0756,   5.0744],\n",
      "        [  0.7042,  -9.2293,  15.3811,  -8.0307, -11.6560,  -6.7166,   3.9738,\n",
      "          -0.9681,  21.3604,  -2.2960],\n",
      "        [  5.7576, -14.9278,  16.2282,   4.8821,  -4.9750,   1.4245,  -3.6763,\n",
      "         -12.1380,   8.8515,  11.4524],\n",
      "        [  5.6366, -10.3494,   8.6990,  -2.3545,   0.5951, -17.8381,  -7.8674,\n",
      "           3.0179,   6.5758,  -0.9311],\n",
      "        [ -4.4325,  -4.5802,   1.3472,  -9.5349,   8.0078, -11.2904,   8.2699,\n",
      "          14.6493,  15.7372,   8.5317],\n",
      "        [ -8.7466,  -7.5412,  17.1026,  -6.6268,   3.2798,  -6.6634,   7.1561,\n",
      "          -5.8000,  10.8550,  -0.7271],\n",
      "        [  5.7944, -13.9368,  10.3452,  -4.7346,  -9.6282,  -6.5843,  -4.4148,\n",
      "           3.8759,  18.1952,   6.3444],\n",
      "        [  2.8904,  -8.8509,  14.5660,   0.1591,   3.1251, -15.7083,   4.5637,\n",
      "          -5.1864,  17.4330,   4.0812],\n",
      "        [  5.7967, -10.9285,  11.5370,  -8.6034,   4.6834,   2.6214,   0.7807,\n",
      "          -1.9311,   6.5329,   2.8262],\n",
      "        [  2.2543,   0.9812,  18.2096,  -4.3799,   9.4941,  -7.1935,   1.0795,\n",
      "          -9.7443,   6.5421,   2.5814],\n",
      "        [  7.2400,  -6.1212,  11.7738,  -9.8028,  -2.3943,  -7.5076,   1.9855,\n",
      "          -4.1976,  -0.3683,   2.1666]])\n"
     ]
    }
   ],
   "source": [
    "## Your solution\n",
    "np.random.seed(7)\n",
    "\n",
    "def activation(x):\n",
    "    return 1 / (1 + torch.exp(-x)) # or np.exp(-x)\n",
    "\n",
    "# Flatten the input image\n",
    "inputs = images.view(images.shape[0], -1)# or images.view(64, 784)\n",
    "\n",
    "# Set network layer sizes\n",
    "n_input = inputs.shape[1] # 784\n",
    "n_hidden = 256\n",
    "n_output = 10\n",
    "\n",
    "# Create parameters\n",
    "W1 = torch.randn(n_input, n_hidden) # weights for the hidden layer- 784X256\n",
    "W2 = torch.randn(n_hidden, n_output) # weights for the output layer- 256X10\n",
    "\n",
    "B1 = torch.randn(1, n_hidden) # biases for the hidden layer- 1X256\n",
    "B2 = torch.randn(1, n_output) # biases for the output layer- 1X10\n",
    "\n",
    "# output of hidden layer- 64X256 ie 1X256 values for 64 images in the batch\n",
    "# torch.mm(features, W1)- 64X256\n",
    "# even though B1 is of shape 1X256 it broadcasts to 64X256 when made to add with a 64X256 matrix\n",
    "h = activation(torch.mm(inputs, W1) + B1) \n",
    "\n",
    "# torch.mm(h, W2)- 64X10\n",
    "# B2 broadcasts from 1X10 to 64X10 on addition with a 64X10 matrix\n",
    "out = torch.mm(h, W2) + B2 # network output- 64X10 ie 10 output values for each of 64 images\n",
    "\n",
    "print(out.shape)\n",
    "print(out)"
   ]
  },
  {
   "cell_type": "markdown",
   "metadata": {},
   "source": [
    "Now we have 10 outputs for our network. We want to pass in an image to our network and get out a probability distribution over the classes that tells us the likely class(es) the image belongs to. Something that looks like this:\n",
    "<img src='assets/image_distribution.png' width=500px>\n",
    "\n",
    "Here we see that the probability for each class is roughly the same. This is representing an untrained network, it hasn't seen any data yet so it just returns a uniform distribution with equal probabilities for each class.\n",
    "\n",
    "To calculate this probability distribution, we often use the [**softmax** function](https://en.wikipedia.org/wiki/Softmax_function). Mathematically this looks like\n",
    "\n",
    "$$\n",
    "\\Large \\sigma(x_i) = \\cfrac{e^{x_i}}{\\sum_k^K{e^{x_k}}}\n",
    "$$\n",
    "\n",
    "What this does is squish each input $x_i$ between 0 and 1 and normalizes the values to give you a proper probability distribution where the probabilites sum up to one.\n",
    "\n",
    "> **Exercise:** Implement a function `softmax` that performs the softmax calculation and returns probability distributions for each example in the batch. Note that you'll need to pay attention to the shapes when doing this. If you have a tensor `a` with shape `(64, 10)` and a tensor `b` with shape `(64,)`, doing `a/b` will give you an error because PyTorch will try to do the division across the columns (called broadcasting) but you'll get a size mismatch. The way to think about this is for each of the 64 examples, you only want to divide by one value, the sum in the denominator. So you need `b` to have a shape of `(64, 1)`. This way PyTorch will divide the 10 values in each row of `a` by the one value in each row of `b`. Pay attention to how you take the sum as well. You'll need to define the `dim` keyword in `torch.sum`. Setting `dim=0` takes the sum across the rows while `dim=1` takes the sum across the columns."
   ]
  },
  {
   "cell_type": "code",
   "execution_count": 25,
   "metadata": {},
   "outputs": [
    {
     "data": {
      "text/plain": [
       "torch.Size([64])"
      ]
     },
     "execution_count": 25,
     "metadata": {},
     "output_type": "execute_result"
    }
   ],
   "source": [
    "den = torch.sum(torch.exp(out), dim=1)\n",
    "den.shape "
   ]
  },
  {
   "cell_type": "markdown",
   "metadata": {
    "collapsed": true
   },
   "source": [
    "**torch.Size([64])** ~ **numpy (64, )** it is considered to be **(1, 64)** during broadcasting.\n",
    "\n",
    "So if we divide (64, 10) the numerator with (64, ), python will try to broadcast to make the tensors of same size.\n",
    "(64, ) to (1, 64) to ?\n",
    "\n",
    "(64, 10) and (1, 64) can't be broadcasted to equal size and python outputs error.\n",
    "\n",
    "Now if we reshape (64, ) to (64, 1), the broadcasting goes like this,\n",
    "(64, 1) to (64, 10)\n",
    "\n",
    "Now, (64, 10) the numerator and (64, 10) the broadcasted denominator can be divided"
   ]
  },
  {
   "cell_type": "code",
   "execution_count": 23,
   "metadata": {},
   "outputs": [
    {
     "name": "stdout",
     "output_type": "stream",
     "text": [
      "torch.Size([64, 10])\n",
      "tensor([1.0000, 1.0000, 1.0000, 1.0000, 1.0000, 1.0000, 1.0000, 1.0000, 1.0000,\n",
      "        1.0000, 1.0000, 1.0000, 1.0000, 1.0000, 1.0000, 1.0000, 1.0000, 1.0000,\n",
      "        1.0000, 1.0000, 1.0000, 1.0000, 1.0000, 1.0000, 1.0000, 1.0000, 1.0000,\n",
      "        1.0000, 1.0000, 1.0000, 1.0000, 1.0000, 1.0000, 1.0000, 1.0000, 1.0000,\n",
      "        1.0000, 1.0000, 1.0000, 1.0000, 1.0000, 1.0000, 1.0000, 1.0000, 1.0000,\n",
      "        1.0000, 1.0000, 1.0000, 1.0000, 1.0000, 1.0000, 1.0000, 1.0000, 1.0000,\n",
      "        1.0000, 1.0000, 1.0000, 1.0000, 1.0000, 1.0000, 1.0000, 1.0000, 1.0000,\n",
      "        1.0000])\n"
     ]
    }
   ],
   "source": [
    "def softmax(x):\n",
    "    ## TODO: Implement the softmax function here\n",
    "    den = torch.sum(torch.exp(x), dim=1).view(-1, 1) # change shape from (64, ) to (64, 1).\n",
    "    num = torch.exp(x)\n",
    "    return num/den\n",
    "\n",
    "# Here, out should be the output of the network in the previous excercise with shape (64,10)\n",
    "probabilities = softmax(out)\n",
    "\n",
    "# Does it have the right shape? Should be (64, 10)\n",
    "print(probabilities.shape)\n",
    "# Does it sum to 1?\n",
    "print(probabilities.sum(dim=1))"
   ]
  },
  {
   "cell_type": "markdown",
   "metadata": {},
   "source": [
    "## Building networks with PyTorch\n",
    "\n",
    "PyTorch provides a module `nn` that makes building networks much simpler. Here I'll show you how to build the same one as above with 784 inputs, 256 hidden units, 10 output units and a softmax output."
   ]
  },
  {
   "cell_type": "code",
   "execution_count": 30,
   "metadata": {},
   "outputs": [],
   "source": [
    "from torch import nn"
   ]
  },
  {
   "cell_type": "code",
   "execution_count": 31,
   "metadata": {},
   "outputs": [],
   "source": [
    "class Network(nn.Module):\n",
    "    def __init__(self):\n",
    "        super().__init__()\n",
    "        \n",
    "        # Inputs to hidden layer linear transformation\n",
    "        self.hidden = nn.Linear(784, 256)\n",
    "        # Output layer, 10 units - one for each digit\n",
    "        self.output = nn.Linear(256, 10)\n",
    "        \n",
    "        # Define sigmoid activation and softmax output \n",
    "        self.sigmoid = nn.Sigmoid()\n",
    "        self.softmax = nn.Softmax(dim=1)\n",
    "        \n",
    "    def forward(self, x):\n",
    "        # Pass the input tensor through each of our operations\n",
    "        x = self.hidden(x)\n",
    "        x = self.sigmoid(x)\n",
    "        x = self.output(x)\n",
    "        x = self.softmax(x)\n",
    "        \n",
    "        return x"
   ]
  },
  {
   "cell_type": "markdown",
   "metadata": {},
   "source": [
    "Let's go through this bit by bit.\n",
    "\n",
    "```python\n",
    "class Network(nn.Module):\n",
    "```\n",
    "\n",
    "Here we're inheriting from `nn.Module`. Combined with `super().__init__()` this creates a class that tracks the architecture and provides a lot of useful methods and attributes. It is mandatory to inherit from `nn.Module` when you're creating a class for your network. The name of the class itself can be anything.\n",
    "\n",
    "```python\n",
    "self.hidden = nn.Linear(784, 256)\n",
    "```\n",
    "\n",
    "This line creates a module for a linear transformation, $x\\mathbf{W} + b$, with 784 inputs and 256 outputs and assigns it to `self.hidden`. The module automatically creates the weight and bias tensors which we'll use in the `forward` method. You can access the weight and bias tensors once the network (`net`) is created with `net.hidden.weight` and `net.hidden.bias`.\n",
    "\n",
    "```python\n",
    "self.output = nn.Linear(256, 10)\n",
    "```\n",
    "\n",
    "Similarly, this creates another linear transformation with 256 inputs and 10 outputs.\n",
    "\n",
    "```python\n",
    "self.sigmoid = nn.Sigmoid()\n",
    "self.softmax = nn.Softmax(dim=1)\n",
    "```\n",
    "\n",
    "Here I defined operations for the sigmoid activation and softmax output. Setting `dim=1` in `nn.Softmax(dim=1)` calculates softmax across the columns.\n",
    "\n",
    "```python\n",
    "def forward(self, x):\n",
    "```\n",
    "\n",
    "PyTorch networks created with `nn.Module` must have a `forward` method defined. It takes in a tensor `x` and passes it through the operations you defined in the `__init__` method.\n",
    "\n",
    "```python\n",
    "x = self.hidden(x)\n",
    "x = self.sigmoid(x)\n",
    "x = self.output(x)\n",
    "x = self.softmax(x)\n",
    "```\n",
    "\n",
    "Here the input tensor `x` is passed through each operation and reassigned to `x`. We can see that the input tensor goes through the hidden layer, then a sigmoid function, then the output layer, and finally the softmax function. It doesn't matter what you name the variables here, as long as the inputs and outputs of the operations match the network architecture you want to build. The order in which you define things in the `__init__` method doesn't matter, but you'll need to sequence the operations correctly in the `forward` method.\n",
    "\n",
    "Now we can create a `Network` object."
   ]
  },
  {
   "cell_type": "code",
   "execution_count": 32,
   "metadata": {},
   "outputs": [
    {
     "data": {
      "text/plain": [
       "Network(\n",
       "  (hidden): Linear(in_features=784, out_features=256, bias=True)\n",
       "  (output): Linear(in_features=256, out_features=10, bias=True)\n",
       "  (sigmoid): Sigmoid()\n",
       "  (softmax): Softmax()\n",
       ")"
      ]
     },
     "execution_count": 32,
     "metadata": {},
     "output_type": "execute_result"
    }
   ],
   "source": [
    "# Create the network and look at it's text representation\n",
    "model = Network()\n",
    "model"
   ]
  },
  {
   "cell_type": "markdown",
   "metadata": {},
   "source": [
    "You can define the network somewhat more concisely and clearly using the `torch.nn.functional` module. This is the most common way you'll see networks defined as many operations are simple element-wise functions. We normally import this module as `F`, `import torch.nn.functional as F`."
   ]
  },
  {
   "cell_type": "code",
   "execution_count": 33,
   "metadata": {},
   "outputs": [],
   "source": [
    "import torch.nn.functional as F\n",
    "\n",
    "class Network(nn.Module):\n",
    "    def __init__(self):\n",
    "        super().__init__()\n",
    "        # Inputs to hidden layer linear transformation\n",
    "        self.hidden = nn.Linear(784, 256)\n",
    "        # Output layer, 10 units - one for each digit\n",
    "        self.output = nn.Linear(256, 10)\n",
    "        \n",
    "    def forward(self, x):\n",
    "        # Hidden layer with sigmoid activation\n",
    "        x = F.sigmoid(self.hidden(x))\n",
    "        # Output layer with softmax activation\n",
    "        x = F.softmax(self.output(x), dim=1)\n",
    "        \n",
    "        return x"
   ]
  },
  {
   "cell_type": "markdown",
   "metadata": {},
   "source": [
    "### Activation functions\n",
    "\n",
    "So far we've only been looking at the sigmoid activation function, but in general any function can be used as an activation function. The only requirement is that for a network to approximate a non-linear function, the activation functions must be non-linear. Here are a few more examples of common activation functions: Tanh (hyperbolic tangent), and ReLU (rectified linear unit).\n",
    "\n",
    "<img src=\"assets/activation.png\" width=700px>\n",
    "\n",
    "In practice, the ReLU function is used almost exclusively as the activation function for hidden layers."
   ]
  },
  {
   "cell_type": "markdown",
   "metadata": {},
   "source": [
    "### Your Turn to Build a Network\n",
    "\n",
    "<img src=\"assets/mlp_mnist.png\" width=600px>\n",
    "\n",
    "> **Exercise:** Create a network with 784 input units, a hidden layer with 128 units and a ReLU activation, then a hidden layer with 64 units and a ReLU activation, and finally an output layer with a softmax activation as shown above. You can use a ReLU activation with the `nn.ReLU` module or `F.relu` function.\n",
    "\n",
    "It's good practice to name your layers by their type of network, for instance 'fc' to represent a fully-connected layer. As you code your solution, use `fc1`, `fc2`, and `fc3` as your layer names."
   ]
  },
  {
   "cell_type": "code",
   "execution_count": 51,
   "metadata": {
    "scrolled": true
   },
   "outputs": [
    {
     "data": {
      "text/plain": [
       "Network3L(\n",
       "  (fc1): Linear(in_features=784, out_features=128, bias=True)\n",
       "  (fc2): Linear(in_features=128, out_features=64, bias=True)\n",
       "  (fc3): Linear(in_features=64, out_features=10, bias=True)\n",
       ")"
      ]
     },
     "execution_count": 51,
     "metadata": {},
     "output_type": "execute_result"
    }
   ],
   "source": [
    "## Your solution here\n",
    "from torch import nn\n",
    "import torch.nn.functional as f\n",
    "\n",
    "# 3 layer NN\n",
    "class Network3L(nn.Module):\n",
    "    def __init__(self):\n",
    "        super().__init__()\n",
    "\n",
    "        # first fc hidden layer\n",
    "        self.fc1 = nn.Linear(784, 128)\n",
    "\n",
    "        # second fc hidden layer\n",
    "        self.fc2 = nn.Linear(128, 64)\n",
    "\n",
    "        # fc output layer\n",
    "        self.fc3 = nn.Linear(64, 10)\n",
    "    \n",
    "    def forward(self, x):\n",
    "        h1 = F.relu(self.fc1(x)) # output of first hidden layer\n",
    "        h2 = F.relu(self.fc2(h1)) # output of second hidden layer\n",
    "        out = F.softmax(self.fc3(h2), dim=1) # neural network output\n",
    "        \n",
    "        return out\n",
    "        \n",
    "model = Network3L()\n",
    "model"
   ]
  },
  {
   "cell_type": "markdown",
   "metadata": {},
   "source": [
    "### Initializing weights and biases\n",
    "\n",
    "The weights and such are automatically initialized for you, but it's possible to customize how they are initialized. The weights and biases are tensors attached to the layer you defined, you can get them with `model.fc1.weight` for instance."
   ]
  },
  {
   "cell_type": "code",
   "execution_count": 43,
   "metadata": {},
   "outputs": [
    {
     "name": "stdout",
     "output_type": "stream",
     "text": [
      "Parameter containing:\n",
      "tensor([[-0.0206, -0.0241, -0.0037,  ..., -0.0026, -0.0104, -0.0163],\n",
      "        [-0.0263,  0.0296,  0.0050,  ...,  0.0218, -0.0035,  0.0097],\n",
      "        [ 0.0215,  0.0237,  0.0049,  ..., -0.0137,  0.0342,  0.0147],\n",
      "        ...,\n",
      "        [-0.0124, -0.0064, -0.0320,  ...,  0.0018, -0.0300,  0.0185],\n",
      "        [-0.0016,  0.0329, -0.0266,  ...,  0.0146,  0.0138, -0.0276],\n",
      "        [ 0.0320, -0.0329,  0.0119,  ...,  0.0064,  0.0066, -0.0318]],\n",
      "       requires_grad=True)\n",
      "Parameter containing:\n",
      "tensor([ 1.3384e-02,  1.0497e-02,  1.3808e-02,  2.1334e-02, -3.4807e-02,\n",
      "         2.9523e-02,  1.5688e-02,  8.8641e-03, -1.7938e-02,  6.4726e-03,\n",
      "        -2.6062e-02,  1.0124e-02,  7.2210e-03, -9.0899e-03,  3.3652e-02,\n",
      "         3.2658e-02, -2.3446e-02,  1.6679e-02, -3.3279e-02, -2.8874e-02,\n",
      "        -2.1722e-02, -3.0582e-02,  3.1064e-02,  3.9939e-03, -2.4315e-02,\n",
      "        -3.1979e-03,  1.7922e-02,  2.3204e-02, -3.4279e-02,  1.6212e-02,\n",
      "         5.0105e-03,  5.3178e-03,  1.4551e-02,  3.4124e-05,  3.2992e-02,\n",
      "         2.8217e-02,  2.6625e-02, -1.0736e-02,  2.9575e-02, -6.2433e-03,\n",
      "         2.8774e-02, -3.5180e-02, -2.2233e-02, -2.9804e-02,  2.3455e-02,\n",
      "        -3.4195e-03,  2.9598e-02,  2.4942e-02, -2.8417e-02,  3.1262e-02,\n",
      "         3.0763e-02, -8.2536e-03,  1.8689e-03,  3.3931e-02,  3.3646e-02,\n",
      "         2.1257e-02,  2.0621e-02, -3.5541e-02,  1.2017e-02, -2.8332e-02,\n",
      "        -2.9319e-02, -3.3149e-02,  2.8985e-02,  9.2841e-03,  3.5104e-02,\n",
      "         2.8714e-02,  5.4151e-03, -1.9296e-02, -2.8080e-02,  2.6764e-02,\n",
      "         3.4389e-02,  9.0363e-03,  1.0575e-02,  2.6021e-02,  4.2233e-03,\n",
      "         1.5491e-02,  1.9411e-02,  1.7616e-02, -7.9653e-03,  1.3283e-03,\n",
      "        -3.1124e-02, -6.9240e-03,  2.5940e-02, -1.0155e-02, -1.1215e-02,\n",
      "         3.3700e-02,  1.2765e-02, -5.6223e-03, -3.5425e-02,  1.1332e-02,\n",
      "         1.4675e-02,  2.3027e-02, -1.1433e-03,  9.8571e-04,  9.8431e-03,\n",
      "        -2.4815e-02, -1.8435e-02, -3.0754e-02,  3.5051e-02, -3.3303e-02,\n",
      "         5.9194e-03,  1.8489e-02, -2.4894e-02, -3.0195e-02, -1.6938e-02,\n",
      "         2.3770e-02, -1.1212e-02,  2.1821e-02, -1.5213e-02,  2.3293e-02,\n",
      "        -9.9438e-03,  1.8248e-02, -2.5348e-02,  2.8114e-02, -1.5872e-02,\n",
      "         3.1679e-02,  3.9287e-03, -2.6131e-02, -3.3057e-02,  3.5326e-02,\n",
      "        -3.4364e-02,  3.5299e-02,  9.1938e-03, -3.4255e-02,  2.2839e-02,\n",
      "        -2.9232e-03,  5.9776e-03, -9.1925e-03], requires_grad=True)\n",
      "torch.Size([128, 784]) torch.Size([128])\n"
     ]
    }
   ],
   "source": [
    "print(model.fc1.weight)\n",
    "print(model.fc1.bias)\n",
    "print(model.fc1.weight.shape, model.fc1.bias.shape)"
   ]
  },
  {
   "cell_type": "markdown",
   "metadata": {},
   "source": [
    "For custom initialization, we want to modify these tensors in place. These are actually autograd *Variables*, so we need to get back the actual tensors with `model.fc1.weight.data`. Once we have the tensors, we can fill them with zeros (for biases) or random normal values."
   ]
  },
  {
   "cell_type": "code",
   "execution_count": 44,
   "metadata": {},
   "outputs": [
    {
     "data": {
      "text/plain": [
       "Parameter containing:\n",
       "tensor([0., 0., 0., 0., 0., 0., 0., 0., 0., 0., 0., 0., 0., 0., 0., 0., 0., 0., 0., 0., 0., 0., 0., 0.,\n",
       "        0., 0., 0., 0., 0., 0., 0., 0., 0., 0., 0., 0., 0., 0., 0., 0., 0., 0., 0., 0., 0., 0., 0., 0.,\n",
       "        0., 0., 0., 0., 0., 0., 0., 0., 0., 0., 0., 0., 0., 0., 0., 0., 0., 0., 0., 0., 0., 0., 0., 0.,\n",
       "        0., 0., 0., 0., 0., 0., 0., 0., 0., 0., 0., 0., 0., 0., 0., 0., 0., 0., 0., 0., 0., 0., 0., 0.,\n",
       "        0., 0., 0., 0., 0., 0., 0., 0., 0., 0., 0., 0., 0., 0., 0., 0., 0., 0., 0., 0., 0., 0., 0., 0.,\n",
       "        0., 0., 0., 0., 0., 0., 0., 0.], requires_grad=True)"
      ]
     },
     "execution_count": 44,
     "metadata": {},
     "output_type": "execute_result"
    }
   ],
   "source": [
    "# Set biases to all zeros\n",
    "model.fc1.bias.data.fill_(0)\n",
    "model.fc1.bias"
   ]
  },
  {
   "cell_type": "code",
   "execution_count": 45,
   "metadata": {},
   "outputs": [
    {
     "data": {
      "text/plain": [
       "Parameter containing:\n",
       "tensor([[-0.0010,  0.0078, -0.0073,  ...,  0.0073,  0.0069, -0.0039],\n",
       "        [ 0.0003,  0.0056, -0.0027,  ...,  0.0041,  0.0029, -0.0020],\n",
       "        [ 0.0021,  0.0076,  0.0020,  ..., -0.0022, -0.0071, -0.0033],\n",
       "        ...,\n",
       "        [ 0.0282, -0.0127,  0.0082,  ..., -0.0173,  0.0103, -0.0077],\n",
       "        [ 0.0089, -0.0053,  0.0009,  ..., -0.0018, -0.0161,  0.0050],\n",
       "        [ 0.0065, -0.0054, -0.0012,  ..., -0.0077, -0.0013, -0.0036]],\n",
       "       requires_grad=True)"
      ]
     },
     "execution_count": 45,
     "metadata": {},
     "output_type": "execute_result"
    }
   ],
   "source": [
    "# sample from random normal with standard dev = 0.01\n",
    "model.fc1.weight.data.normal_(std=0.01)\n",
    "model.fc1.weight"
   ]
  },
  {
   "cell_type": "markdown",
   "metadata": {},
   "source": [
    "### Forward pass\n",
    "\n",
    "Now that we have a network, let's see what happens when we pass in an image."
   ]
  },
  {
   "cell_type": "code",
   "execution_count": 52,
   "metadata": {},
   "outputs": [
    {
     "data": {
      "image/png": "[encoded data removed]",
      "text/plain": [
       "<Figure size 432x648 with 2 Axes>"
      ]
     },
     "metadata": {
      "image/png": {
       "height": 223,
       "width": 422
      }
     },
     "output_type": "display_data"
    }
   ],
   "source": [
    "# Grab some data \n",
    "dataiter = iter(trainloader)\n",
    "images, labels = dataiter.next()\n",
    "\n",
    "# Resize images into a 1D vector, new shape is (batch size, color channels, image pixels) \n",
    "images.resize_(64, 1, 784)\n",
    "# or images.resize_(images.shape[0], 1, 784) to automatically get batch size\n",
    "\n",
    "# Forward pass through the network\n",
    "img_idx = 0\n",
    "ps = model.forward(images[img_idx,:])\n",
    "\n",
    "img = images[img_idx]\n",
    "helper.view_classify(img.view(1, 28, 28), ps)"
   ]
  },
  {
   "cell_type": "markdown",
   "metadata": {},
   "source": [
    "As you can see above, our network has basically no idea what this digit is. It's because we haven't trained it yet, all the weights are random!\n",
    "\n",
    "### Using `nn.Sequential`\n",
    "\n",
    "PyTorch provides a convenient way to build networks like this where a tensor is passed sequentially through operations, `nn.Sequential` ([documentation](https://pytorch.org/docs/master/nn.html#torch.nn.Sequential)). Using this to build the equivalent network:"
   ]
  },
  {
   "cell_type": "code",
   "execution_count": 53,
   "metadata": {},
   "outputs": [
    {
     "name": "stdout",
     "output_type": "stream",
     "text": [
      "Sequential(\n",
      "  (0): Linear(in_features=784, out_features=128, bias=True)\n",
      "  (1): ReLU()\n",
      "  (2): Linear(in_features=128, out_features=64, bias=True)\n",
      "  (3): ReLU()\n",
      "  (4): Linear(in_features=64, out_features=10, bias=True)\n",
      "  (5): Softmax()\n",
      ")\n"
     ]
    },
    {
     "data": {
      "image/png": "[encoded data removed]",
      "text/plain": [
       "<Figure size 432x648 with 2 Axes>"
      ]
     },
     "metadata": {
      "image/png": {
       "height": 223,
       "width": 422
      }
     },
     "output_type": "display_data"
    }
   ],
   "source": [
    "# Hyperparameters for our network\n",
    "input_size = 784\n",
    "hidden_sizes = [128, 64]\n",
    "output_size = 10\n",
    "\n",
    "# Build a feed-forward network\n",
    "model = nn.Sequential(nn.Linear(input_size, hidden_sizes[0]),\n",
    "                      nn.ReLU(),\n",
    "                      nn.Linear(hidden_sizes[0], hidden_sizes[1]),\n",
    "                      nn.ReLU(),\n",
    "                      nn.Linear(hidden_sizes[1], output_size),\n",
    "                      nn.Softmax(dim=1))\n",
    "print(model)\n",
    "\n",
    "# Forward pass through the network and display output\n",
    "images, labels = next(iter(trainloader))\n",
    "images.resize_(images.shape[0], 1, 784)\n",
    "ps = model.forward(images[0,:])\n",
    "helper.view_classify(images[0].view(1, 28, 28), ps)"
   ]
  },
  {
   "cell_type": "markdown",
   "metadata": {},
   "source": [
    "Here our model is the same as before: 784 input units, a hidden layer with 128 units, ReLU activation, 64 unit hidden layer, another ReLU, then the output layer with 10 units, and the softmax output.\n",
    "\n",
    "The operations are available by passing in the appropriate index. For example, if you want to get first Linear operation and look at the weights, you'd use `model[0]`."
   ]
  },
  {
   "cell_type": "code",
   "execution_count": null,
   "metadata": {
    "collapsed": true
   },
   "outputs": [],
   "source": [
    "print(model[0])\n",
    "model[0].weight"
   ]
  },
  {
   "cell_type": "markdown",
   "metadata": {},
   "source": [
    "You can also pass in an `OrderedDict` to name the individual layers and operations, instead of using incremental integers. Note that dictionary keys must be unique, so _each operation must have a different name_."
   ]
  },
  {
   "cell_type": "code",
   "execution_count": null,
   "metadata": {
    "collapsed": true
   },
   "outputs": [],
   "source": [
    "from collections import OrderedDict\n",
    "model = nn.Sequential(OrderedDict([\n",
    "                      ('fc1', nn.Linear(input_size, hidden_sizes[0])),\n",
    "                      ('relu1', nn.ReLU()),\n",
    "                      ('fc2', nn.Linear(hidden_sizes[0], hidden_sizes[1])),\n",
    "                      ('relu2', nn.ReLU()),\n",
    "                      ('output', nn.Linear(hidden_sizes[1], output_size)),\n",
    "                      ('softmax', nn.Softmax(dim=1))]))\n",
    "model"
   ]
  },
  {
   "cell_type": "markdown",
   "metadata": {},
   "source": [
    "Now you can access layers either by integer or the name"
   ]
  },
  {
   "cell_type": "code",
   "execution_count": null,
   "metadata": {
    "collapsed": true
   },
   "outputs": [],
   "source": [
    "print(model[0])\n",
    "print(model.fc1)"
   ]
  },
  {
   "cell_type": "markdown",
   "metadata": {},
   "source": [
    "In the next notebook, we'll see how we can train a neural network to accuractly predict the numbers appearing in the MNIST images."
   ]
  }
 ],
 "metadata": {
  "kernelspec": {
   "display_name": "Python 3",
   "language": "python",
   "name": "python3"
  },
  "language_info": {
   "codemirror_mode": {
    "name": "ipython",
    "version": 3
   },
   "file_extension": ".py",
   "mimetype": "text/x-python",
   "name": "python",
   "nbconvert_exporter": "python",
   "pygments_lexer": "ipython3",
   "version": "3.6.5"
  }
 },
 "nbformat": 4,
 "nbformat_minor": 2
}
