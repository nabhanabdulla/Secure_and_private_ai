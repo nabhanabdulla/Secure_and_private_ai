{
 "cells": [
  {
   "cell_type": "markdown",
   "metadata": {},
   "source": [
    "# Inference and Validation\n",
    "\n",
    "Now that you have a trained network, you can use it for making predictions. This is typically called **inference**, a term borrowed from statistics. However, neural networks have a tendency to perform *too well* on the training data and aren't able to generalize to data that hasn't been seen before. This is called **overfitting** and it impairs inference performance. To test for overfitting while training, we measure the performance on data not in the training set called the **validation** set. We avoid overfitting through regularization such as dropout while monitoring the validation performance during training. In this notebook, I'll show you how to do this in PyTorch. \n",
    "\n",
    "As usual, let's start by loading the dataset through torchvision. You'll learn more about torchvision and loading data in a later part. This time we'll be taking advantage of the test set which you can get by setting `train=False` here:\n",
    "\n",
    "```python\n",
    "testset = datasets.FashionMNIST('~/.pytorch/F_MNIST_data/', download=True, train=False, transform=transform)\n",
    "```\n",
    "\n",
    "The test set contains images just like the training set. Typically you'll see 10-20% of the original dataset held out for testing and validation with the rest being used for training."
   ]
  },
  {
   "cell_type": "code",
   "execution_count": 3,
   "metadata": {},
   "outputs": [],
   "source": [
    "import torch\n",
    "from torchvision import datasets, transforms\n",
    "\n",
    "# Define a transform to normalize the data\n",
    "transform = transforms.Compose([transforms.ToTensor(),\n",
    "                                transforms.Normalize((0.5,), (0.5,))])\n",
    "# Download and load the training data\n",
    "trainset = datasets.FashionMNIST('~/.pytorch/F_MNIST_data/', download=True, train=True, transform=transform)\n",
    "trainloader = torch.utils.data.DataLoader(trainset, batch_size=64, shuffle=True)\n",
    "\n",
    "# Download and load the test data\n",
    "testset = datasets.FashionMNIST('~/.pytorch/F_MNIST_data/', download=True, train=False, transform=transform)\n",
    "testloader = torch.utils.data.DataLoader(testset, batch_size=64, shuffle=True)"
   ]
  },
  {
   "cell_type": "markdown",
   "metadata": {},
   "source": [
    "Here I'll create a model like normal, using the same one from my solution for part 4."
   ]
  },
  {
   "cell_type": "code",
   "execution_count": 4,
   "metadata": {},
   "outputs": [],
   "source": [
    "from torch import nn, optim\n",
    "import torch.nn.functional as F\n",
    "\n",
    "class Classifier(nn.Module):\n",
    "    def __init__(self):\n",
    "        super().__init__()\n",
    "        self.fc1 = nn.Linear(784, 256)\n",
    "        self.fc2 = nn.Linear(256, 128)\n",
    "        self.fc3 = nn.Linear(128, 64)\n",
    "        self.fc4 = nn.Linear(64, 10)\n",
    "        \n",
    "    def forward(self, x):\n",
    "        # make sure input tensor is flattened\n",
    "        x = x.view(x.shape[0], -1)\n",
    "        \n",
    "        x = F.relu(self.fc1(x))\n",
    "        x = F.relu(self.fc2(x))\n",
    "        x = F.relu(self.fc3(x))\n",
    "        x = F.log_softmax(self.fc4(x), dim=1)\n",
    "        \n",
    "        return x"
   ]
  },
  {
   "cell_type": "markdown",
   "metadata": {},
   "source": [
    "The goal of validation is to measure the model's performance on data that isn't part of the training set. Performance here is up to the developer to define though. Typically this is just accuracy, the percentage of classes the network predicted correctly. Other options are [precision and recall](https://en.wikipedia.org/wiki/Precision_and_recall#Definition_(classification_context)) and top-5 error rate. We'll focus on accuracy here. First I'll do a forward pass with one batch from the test set."
   ]
  },
  {
   "cell_type": "code",
   "execution_count": 5,
   "metadata": {},
   "outputs": [
    {
     "name": "stdout",
     "output_type": "stream",
     "text": [
      "torch.Size([64, 10])\n"
     ]
    }
   ],
   "source": [
    "model = Classifier()\n",
    "\n",
    "images, labels = next(iter(testloader))\n",
    "# Get the class probabilities\n",
    "ps = torch.exp(model(images))\n",
    "# Make sure the shape is appropriate, we should get 10 class probabilities for 64 examples\n",
    "print(ps.shape)"
   ]
  },
  {
   "cell_type": "markdown",
   "metadata": {},
   "source": [
    "With the probabilities, we can get the most likely class using the `ps.topk` method. This returns the $k$ highest values. Since we just want the most likely class, we can use `ps.topk(1)`. This returns a tuple of the top-$k$ values and the top-$k$ indices. If the highest value is the fifth element, we'll get back 4 as the index."
   ]
  },
  {
   "cell_type": "code",
   "execution_count": 13,
   "metadata": {},
   "outputs": [
    {
     "name": "stdout",
     "output_type": "stream",
     "text": [
      "tensor([[8],\n",
      "        [8],\n",
      "        [8],\n",
      "        [8],\n",
      "        [8],\n",
      "        [8],\n",
      "        [8],\n",
      "        [8],\n",
      "        [8],\n",
      "        [8]])\n",
      "torch.Size([64, 1])\n"
     ]
    }
   ],
   "source": [
    "top_p, top_class = ps.topk(1, dim=1)\n",
    "# Look at the most likely classes for the first 10 examples\n",
    "print(top_class[:10])\n",
    "print(top_class.shape)"
   ]
  },
  {
   "cell_type": "markdown",
   "metadata": {},
   "source": [
    "Now we can check if the predicted classes match the labels. This is simple to do by equating `top_class` and `labels`, but we have to be careful of the shapes. Here `top_class` is a 2D tensor with shape `(64, 1)` while `labels` is 1D with shape `(64)`. To get the equality to work out the way we want, `top_class` and `labels` must have the same shape.\n",
    "\n",
    "If we do\n",
    "\n",
    "```python\n",
    "equals = top_class == labels\n",
    "```\n",
    "\n",
    "`equals` will have shape `(64, 64)`, try it yourself. What it's doing is comparing the one element in each row of `top_class` with each element in `labels` which returns 64 True/False boolean values for each row."
   ]
  },
  {
   "cell_type": "code",
   "execution_count": 20,
   "metadata": {},
   "outputs": [],
   "source": [
    "equals = top_class == labels.view(*top_class.shape)"
   ]
  },
  {
   "cell_type": "markdown",
   "metadata": {},
   "source": [
    "Now we need to calculate the percentage of correct predictions. `equals` has binary values, either 0 or 1. This means that if we just sum up all the values and divide by the number of values, we get the percentage of correct predictions. This is the same operation as taking the mean, so we can get the accuracy with a call to `torch.mean`. If only it was that simple. If you try `torch.mean(equals)`, you'll get an error\n",
    "\n",
    "```\n",
    "RuntimeError: mean is not implemented for type torch.ByteTensor\n",
    "```\n",
    "\n",
    "This happens because `equals` has type `torch.ByteTensor` but `torch.mean` isn't implemented for tensors with that type. So we'll need to convert `equals` to a float tensor. Note that when we take `torch.mean` it returns a scalar tensor, to get the actual value as a float we'll need to do `accuracy.item()`."
   ]
  },
  {
   "cell_type": "code",
   "execution_count": 22,
   "metadata": {},
   "outputs": [
    {
     "name": "stdout",
     "output_type": "stream",
     "text": [
      "Accuracy: 6.25%\n"
     ]
    }
   ],
   "source": [
    "accuracy = torch.mean(equals.type(torch.FloatTensor))\n",
    "print(f'Accuracy: {accuracy.item()*100}%')"
   ]
  },
  {
   "cell_type": "markdown",
   "metadata": {},
   "source": [
    "The network is untrained so it's making random guesses and we should see an accuracy around 10%. Now let's train our network and include our validation pass so we can measure how well the network is performing on the test set. Since we're not updating our parameters in the validation pass, we can speed up our code by turning off gradients using `torch.no_grad()`:\n",
    "\n",
    "```python\n",
    "# turn off gradients\n",
    "with torch.no_grad():\n",
    "    # validation pass here\n",
    "    for images, labels in testloader:\n",
    "        ...\n",
    "```\n",
    "\n",
    ">**Exercise:** Implement the validation loop below and print out the total accuracy after the loop. You can largely copy and paste the code from above, but I suggest typing it in because writing it out yourself is essential for building the skill. In general you'll always learn more by typing it rather than copy-pasting. You should be able to get an accuracy above 80%."
   ]
  },
  {
   "cell_type": "code",
   "execution_count": 131,
   "metadata": {
    "scrolled": true
   },
   "outputs": [
    {
     "name": "stdout",
     "output_type": "stream",
     "text": [
      "Epoch 1 took 28.9s Training loss: 0.71 Testing loss: 0.60 Testing accuracy: 78.52308654785156%\n",
      "Epoch 2 took 27.6s Training loss: 0.47 Testing loss: 0.82 Testing accuracy: 73.93511199951172%\n",
      "Epoch 3 took 26.9s Training loss: 0.43 Testing loss: 0.44 Testing accuracy: 83.77787017822266%\n",
      "Epoch 4 took 27.5s Training loss: 0.40 Testing loss: 0.47 Testing accuracy: 83.5688705444336%\n",
      "Epoch 5 took 28.3s Training loss: 0.37 Testing loss: 0.44 Testing accuracy: 84.36504364013672%\n",
      "Epoch 6 took 28.0s Training loss: 0.36 Testing loss: 0.41 Testing accuracy: 85.12141418457031%\n",
      "Epoch 7 took 26.6s Training loss: 0.34 Testing loss: 0.41 Testing accuracy: 85.70860290527344%\n",
      "Epoch 8 took 26.9s Training loss: 0.33 Testing loss: 0.40 Testing accuracy: 85.94745635986328%\n",
      "Epoch 9 took 27.3s Training loss: 0.32 Testing loss: 0.38 Testing accuracy: 87.16162109375%\n",
      "Epoch 10 took 26.7s Training loss: 0.31 Testing loss: 0.39 Testing accuracy: 85.9972152709961%\n",
      "Epoch 11 took 28.8s Training loss: 0.30 Testing loss: 0.40 Testing accuracy: 85.6588363647461%\n",
      "Epoch 12 took 26.6s Training loss: 0.29 Testing loss: 0.37 Testing accuracy: 87.1417236328125%\n",
      "Epoch 13 took 22.8s Training loss: 0.29 Testing loss: 0.39 Testing accuracy: 86.64410400390625%\n",
      "Epoch 14 took 21.5s Training loss: 0.28 Testing loss: 0.37 Testing accuracy: 87.20143127441406%\n",
      "Epoch 15 took 22.6s Training loss: 0.28 Testing loss: 0.37 Testing accuracy: 87.32086181640625%\n",
      "Epoch 16 took 22.0s Training loss: 0.27 Testing loss: 0.37 Testing accuracy: 87.41043090820312%\n",
      "Epoch 17 took 22.9s Training loss: 0.26 Testing loss: 0.36 Testing accuracy: 87.51990509033203%\n",
      "Epoch 18 took 22.0s Training loss: 0.26 Testing loss: 0.36 Testing accuracy: 87.72889709472656%\n",
      "Epoch 19 took 22.3s Training loss: 0.26 Testing loss: 0.36 Testing accuracy: 87.64928436279297%\n",
      "Epoch 20 took 22.1s Training loss: 0.25 Testing loss: 0.38 Testing accuracy: 87.12181091308594%\n",
      "Epoch 21 took 22.8s Training loss: 0.25 Testing loss: 0.37 Testing accuracy: 87.330810546875%\n",
      "Epoch 22 took 23.2s Training loss: 0.24 Testing loss: 0.38 Testing accuracy: 86.84314727783203%\n",
      "Epoch 23 took 23.0s Training loss: 0.24 Testing loss: 0.36 Testing accuracy: 88.01751708984375%\n",
      "Epoch 24 took 23.2s Training loss: 0.24 Testing loss: 0.35 Testing accuracy: 88.22651672363281%\n",
      "Epoch 25 took 23.3s Training loss: 0.23 Testing loss: 0.41 Testing accuracy: 86.32563781738281%\n",
      "Epoch 26 took 22.0s Training loss: 0.23 Testing loss: 0.36 Testing accuracy: 87.90804290771484%\n",
      "Epoch 27 took 22.4s Training loss: 0.22 Testing loss: 0.37 Testing accuracy: 88.1170425415039%\n",
      "Epoch 28 took 22.1s Training loss: 0.22 Testing loss: 0.37 Testing accuracy: 87.99761199951172%\n",
      "Epoch 29 took 21.7s Training loss: 0.22 Testing loss: 0.38 Testing accuracy: 88.00756072998047%\n",
      "Epoch 30 took 21.8s Training loss: 0.22 Testing loss: 0.40 Testing accuracy: 86.95262908935547%\n"
     ]
    }
   ],
   "source": [
    "from tqdm import tqdm \n",
    "from time import time\n",
    "\n",
    "model = Classifier()\n",
    "criterion = nn.NLLLoss()\n",
    "optimizer = optim.SGD(model.parameters(), lr=0.1)\n",
    "\n",
    "epochs = 30\n",
    "steps = 0\n",
    "\n",
    "train_losses, test_losses = [], []\n",
    "for e in range(epochs):\n",
    "    running_loss = 0\n",
    "    start = time()\n",
    "    for images, labels in trainloader:\n",
    "        \n",
    "        optimizer.zero_grad()\n",
    "        \n",
    "        log_ps = model(images)\n",
    "        loss = criterion(log_ps, labels)\n",
    "        loss.backward()\n",
    "        optimizer.step()\n",
    "        \n",
    "        running_loss += loss.item()\n",
    "        \n",
    "    else:\n",
    "        test_loss = 0\n",
    "        accuracy = 0\n",
    "        ## TODO: Implement the validation pass and print out the validation accuracy\n",
    "        with torch.no_grad():\n",
    "            for images_val, labels_val in testloader:\n",
    "                log_ps_val = model(images_val)            \n",
    "                test_loss += criterion(log_ps_val, labels_val)\n",
    "\n",
    "                ps = torch.exp(log_ps_val)\n",
    "                top_ps, top_classes = ps.topk(1, dim=1)\n",
    "                equals = top_classes == labels_val.view(*top_classes.shape)\n",
    "                accuracy += torch.mean(equals.type(torch.FloatTensor))\n",
    "        \n",
    "        train_losses.append(running_loss/len(trainloader))\n",
    "        test_losses.append(test_loss/len(testloader))\n",
    "        \n",
    "        end = time()\n",
    "        running_time = end-start\n",
    "        \n",
    "        print(f'Epoch {e+1} took {running_time:.1f}s',\n",
    "              f'Training loss: {train_losses[-1]:.2f}',\n",
    "              f'Testing loss: {test_losses[-1]:.2f}',\n",
    "              f'Testing accuracy: {(accuracy/len(testloader))*100}%')"
   ]
  },
  {
   "cell_type": "code",
   "execution_count": 128,
   "metadata": {},
   "outputs": [
    {
     "name": "stdout",
     "output_type": "stream",
     "text": [
      "True\n"
     ]
    }
   ],
   "source": [
    "a = labels_val == top_classes.view(*labels_val.shape)\n",
    "mean1 = torch.mean(a.type(torch.FloatTensor))\n",
    "\n",
    "b = labels_val.numpy().reshape(-1, 1)\n",
    "c = top_classes.numpy()\n",
    "\n",
    "mean2 = np.mean(b==c)\n",
    "\n",
    "print(mean1.item()==mean2)"
   ]
  },
  {
   "cell_type": "code",
   "execution_count": 129,
   "metadata": {},
   "outputs": [
    {
     "name": "stdout",
     "output_type": "stream",
     "text": [
      "Lowest training loss on epoch 29: 0.42\n",
      "Lowest validation loss on epoch 29: 0.47\n"
     ]
    }
   ],
   "source": [
    "import numpy as np\n",
    "\n",
    "train_loss_min = min(train_losses)\n",
    "val_loss_min = min(test_losses)\n",
    "\n",
    "train_index = train_losses.index(train_loss_min)\n",
    "val_index = test_losses.index(val_loss_min)\n",
    "\n",
    "print(f'Lowest training loss on epoch {train_index}: {train_loss_min:.2f}')\n",
    "print(f'Lowest validation loss on epoch {val_index}: {val_loss_min:.2f}')"
   ]
  },
  {
   "cell_type": "code",
   "execution_count": 130,
   "metadata": {},
   "outputs": [
    {
     "data": {
      "image/png": "[encoded data removed]",
      "text/plain": [
       "<Figure size 432x288 with 1 Axes>"
      ]
     },
     "metadata": {},
     "output_type": "display_data"
    }
   ],
   "source": [
    "from matplotlib import pyplot as plt\n",
    "plt.style.use('ggplot')\n",
    "\n",
    "fig, ax = plt.subplots()\n",
    "\n",
    "ax.plot(train_losses, color='red', marker='o', label='Training loss')\n",
    "ax.plot(test_losses, color='black', marker='+', label='Validation loss')\n",
    "\n",
    "ax.set_xlabel('Epoch')\n",
    "ax.set_ylabel('Loss')\n",
    "ax.legend(frameon=False)\n",
    "\n",
    "plt.show();"
   ]
  },
  {
   "cell_type": "markdown",
   "metadata": {},
   "source": [
    "## Overfitting\n",
    "\n",
    "If we look at the training and validation losses as we train the network, we can see a phenomenon known as overfitting.\n",
    "\n",
    "<img src='assets/overfitting.png' width=450px>\n",
    "\n",
    "The network learns the training set better and better, resulting in lower training losses. However, it starts having problems generalizing to data outside the training set leading to the validation loss increasing. The ultimate goal of any deep learning model is to make predictions on new data, so we should strive to get the lowest validation loss possible. One option is to use the version of the model with the lowest validation loss, here the one around 8-10 training epochs. This strategy is called *early-stopping*. In practice, you'd save the model frequently as you're training then later choose the model with the lowest validation loss.\n",
    "\n",
    "The most common method to reduce overfitting (outside of early-stopping) is *dropout*, where we randomly drop input units. This forces the network to share information between weights, increasing it's ability to generalize to new data. Adding dropout in PyTorch is straightforward using the [`nn.Dropout`](https://pytorch.org/docs/stable/nn.html#torch.nn.Dropout) module.\n",
    "\n",
    "```python\n",
    "class Classifier(nn.Module):\n",
    "    def __init__(self):\n",
    "        super().__init__()\n",
    "        self.fc1 = nn.Linear(784, 256)\n",
    "        self.fc2 = nn.Linear(256, 128)\n",
    "        self.fc3 = nn.Linear(128, 64)\n",
    "        self.fc4 = nn.Linear(64, 10)\n",
    "        \n",
    "        # Dropout module with 0.2 drop probability\n",
    "        self.dropout = nn.Dropout(p=0.2)\n",
    "        \n",
    "    def forward(self, x):\n",
    "        # make sure input tensor is flattened\n",
    "        x = x.view(x.shape[0], -1)\n",
    "        \n",
    "        # Now with dropout\n",
    "        x = self.dropout(F.relu(self.fc1(x)))\n",
    "        x = self.dropout(F.relu(self.fc2(x)))\n",
    "        x = self.dropout(F.relu(self.fc3(x)))\n",
    "        \n",
    "        # output so no dropout here\n",
    "        x = F.log_softmax(self.fc4(x), dim=1)\n",
    "        \n",
    "        return x\n",
    "```\n",
    "\n",
    "During training we want to use dropout to prevent overfitting, but during inference we want to use the entire network. So, we need to turn off dropout during validation, testing, and whenever we're using the network to make predictions. To do this, you use `model.eval()`. This sets the model to evaluation mode where the dropout probability is 0. You can turn dropout back on by setting the model to train mode with `model.train()`. In general, the pattern for the validation loop will look like this, where you turn off gradients, set the model to evaluation mode, calculate the validation loss and metric, then set the model back to train mode.\n",
    "\n",
    "```python\n",
    "# turn off gradients\n",
    "with torch.no_grad():\n",
    "    \n",
    "    # set model to evaluation mode\n",
    "    model.eval()\n",
    "    \n",
    "    # validation pass here\n",
    "    for images, labels in testloader:\n",
    "        ...\n",
    "\n",
    "# set model back to train mode\n",
    "model.train()\n",
    "```"
   ]
  },
  {
   "cell_type": "markdown",
   "metadata": {},
   "source": [
    "> **Exercise:** Add dropout to your model and train it on Fashion-MNIST again. See if you can get a lower validation loss or higher accuracy."
   ]
  },
  {
   "cell_type": "code",
   "execution_count": 117,
   "metadata": {},
   "outputs": [],
   "source": [
    "## TODO: Define your model with dropout added\n",
    "import torch.nn.functional as F\n",
    "\n",
    "class Classifier(nn.Module):\n",
    "    def __init__(self):\n",
    "        super().__init__()\n",
    "        self.fc1 = nn.Linear(784, 256)\n",
    "        self.fc2 = nn.Linear(256, 128)\n",
    "        self.fc3 = nn.Linear(128, 64)\n",
    "        self.fc4 = nn.Linear(64, 10)\n",
    "        \n",
    "        self.dropout = nn.Dropout(p=0.2)\n",
    "        \n",
    "    def forward(self, x):\n",
    "        x = x.view(x.shape[0], -1)\n",
    "        \n",
    "        x = self.dropout(F.relu(self.fc1(x)))\n",
    "        x = self.dropout(F.relu(self.fc2(x)))\n",
    "        x = self.dropout(F.relu(self.fc3(x)))\n",
    "        x = F.log_softmax(self.fc4(x), dim=1)\n",
    "        return x"
   ]
  },
  {
   "cell_type": "code",
   "execution_count": 124,
   "metadata": {
    "scrolled": true
   },
   "outputs": [
    {
     "name": "stdout",
     "output_type": "stream",
     "text": [
      "Epoch 1 took 30.7s Training loss: 0.59 Testing loss: 0.48 Testing accuracy: 82.25517272949219%\n",
      "Epoch 2 took 30.9s Training loss: 0.47 Testing loss: 0.43 Testing accuracy: 84.13614654541016%\n",
      "Epoch 3 took 36.2s Training loss: 0.44 Testing loss: 0.39 Testing accuracy: 86.26592254638672%\n",
      "Epoch 4 took 33.3s Training loss: 0.41 Testing loss: 0.39 Testing accuracy: 85.78821563720703%\n",
      "Epoch 5 took 31.7s Training loss: 0.40 Testing loss: 0.40 Testing accuracy: 85.4100341796875%\n",
      "Epoch 6 took 32.5s Training loss: 0.39 Testing loss: 0.40 Testing accuracy: 85.77826690673828%\n",
      "Epoch 7 took 29.0s Training loss: 0.38 Testing loss: 0.39 Testing accuracy: 86.30573272705078%\n",
      "Epoch 8 took 33.8s Training loss: 0.37 Testing loss: 0.40 Testing accuracy: 86.02706909179688%\n",
      "Epoch 9 took 34.8s Training loss: 0.37 Testing loss: 0.37 Testing accuracy: 86.8630599975586%\n",
      "Epoch 10 took 31.9s Training loss: 0.37 Testing loss: 0.39 Testing accuracy: 86.71377563476562%\n",
      "Epoch 11 took 36.0s Training loss: 0.36 Testing loss: 0.37 Testing accuracy: 87.25119018554688%\n",
      "Epoch 12 took 35.6s Training loss: 0.36 Testing loss: 0.37 Testing accuracy: 87.13176727294922%\n",
      "Epoch 13 took 39.8s Training loss: 0.36 Testing loss: 0.37 Testing accuracy: 87.19148254394531%\n",
      "Epoch 14 took 45.4s Training loss: 0.35 Testing loss: 0.37 Testing accuracy: 87.19148254394531%\n",
      "Epoch 15 took 42.3s Training loss: 0.34 Testing loss: 0.37 Testing accuracy: 87.76870727539062%\n",
      "Epoch 16 took 40.4s Training loss: 0.34 Testing loss: 0.37 Testing accuracy: 87.00238800048828%\n",
      "Epoch 17 took 44.7s Training loss: 0.34 Testing loss: 0.37 Testing accuracy: 87.25119018554688%\n",
      "Epoch 18 took 53.1s Training loss: 0.33 Testing loss: 0.37 Testing accuracy: 87.4402847290039%\n",
      "Epoch 19 took 40.7s Training loss: 0.33 Testing loss: 0.37 Testing accuracy: 87.02229309082031%\n",
      "Epoch 20 took 42.4s Training loss: 0.33 Testing loss: 0.36 Testing accuracy: 87.7786636352539%\n",
      "Epoch 21 took 42.1s Training loss: 0.34 Testing loss: 0.36 Testing accuracy: 87.59952545166016%\n",
      "Epoch 22 took 42.9s Training loss: 0.33 Testing loss: 0.37 Testing accuracy: 87.36067199707031%\n",
      "Epoch 23 took 41.3s Training loss: 0.33 Testing loss: 0.35 Testing accuracy: 87.98766326904297%\n",
      "Epoch 24 took 41.6s Training loss: 0.33 Testing loss: 0.37 Testing accuracy: 87.7786636352539%\n",
      "Epoch 25 took 41.3s Training loss: 0.32 Testing loss: 0.37 Testing accuracy: 87.43033599853516%\n",
      "Epoch 26 took 46.3s Training loss: 0.32 Testing loss: 0.38 Testing accuracy: 87.41043090820312%\n",
      "Epoch 27 took 43.7s Training loss: 0.32 Testing loss: 0.37 Testing accuracy: 88.26631927490234%\n",
      "Epoch 28 took 49.7s Training loss: 0.32 Testing loss: 0.35 Testing accuracy: 88.33598327636719%\n",
      "Epoch 29 took 54.9s Training loss: 0.31 Testing loss: 0.37 Testing accuracy: 88.04737091064453%\n",
      "Epoch 30 took 53.0s Training loss: 0.32 Testing loss: 0.38 Testing accuracy: 87.26114654541016%\n"
     ]
    }
   ],
   "source": [
    "## TODO: Train your model with dropout, and monitor the training progress with the validation loss and accuracy\n",
    "from time import time\n",
    "\n",
    "model = Classifier()\n",
    "criterion = nn.NLLLoss()\n",
    "optimizer = optim.Adam(model.parameters(), lr=0.0025)\n",
    "\n",
    "epochs = 30\n",
    "train_losses_dropout, val_losses_dropout = [], []\n",
    "for e in range(epochs):\n",
    "    start = time()\n",
    "    training_loss = 0\n",
    "    for images, labels in trainloader:\n",
    "        optimizer.zero_grad()\n",
    "\n",
    "        logps = model.forward(images)\n",
    "        loss = criterion(logps, labels)\n",
    "        loss.backward()\n",
    "        optimizer.step()\n",
    "\n",
    "        training_loss += loss.item()\n",
    "    else:\n",
    "        accuracy = 0\n",
    "        val_loss = 0\n",
    "        # turn off gradients\n",
    "        with torch.no_grad():\n",
    "\n",
    "            # set model to evaluation mode\n",
    "            model.eval() # to avoid dropout\n",
    "\n",
    "            for images_val, labels_val in testloader:\n",
    "                logps_val = model.forward(images_val)\n",
    "                val_loss += criterion(logps_val, labels_val)\n",
    "\n",
    "                ps_val = torch.exp(logps_val)\n",
    "                top_p, top_class = ps_val.topk(1, dim=1)\n",
    "                equals = top_class == labels_val.view(*top_class.shape)\n",
    "                accuracy += torch.mean(equals.type(torch.FloatTensor))\n",
    "\n",
    "            model.train()\n",
    "            \n",
    "            train_losses_dropout.append(training_loss/len(trainloader))\n",
    "            val_losses_dropout.append(val_loss/len(testloader))\n",
    "\n",
    "            end = time()\n",
    "            running_time = end-start\n",
    "\n",
    "            print(f'Epoch {e+1} took {running_time:.1f}s',\n",
    "                  f'Training loss: {train_losses_dropout[-1]:.2f}',\n",
    "                  f'Testing loss: {val_losses_dropout[-1]:.2f}',\n",
    "                  f'Testing accuracy: {(accuracy/len(testloader))*100}%')"
   ]
  },
  {
   "cell_type": "code",
   "execution_count": 126,
   "metadata": {},
   "outputs": [
    {
     "data": {
      "image/png": "[encoded data removed]",
      "text/plain": [
       "<Figure size 432x288 with 1 Axes>"
      ]
     },
     "metadata": {},
     "output_type": "display_data"
    }
   ],
   "source": [
    "from matplotlib import pyplot as plt\n",
    "plt.style.use('ggplot')\n",
    "\n",
    "fig, ax = plt.subplots()\n",
    "\n",
    "ax.plot(train_losses_dropout, color='red', marker='o', label='Training loss')\n",
    "ax.plot(val_losses_dropout, color='black', marker='+', label='Validation loss')\n",
    "\n",
    "ax.set_xlabel('Epoch')\n",
    "ax.set_ylabel('Loss')\n",
    "ax.set_title('Training with dropout regularisation')\n",
    "ax.legend(frameon=False)\n",
    "\n",
    "plt.show();"
   ]
  },
  {
   "cell_type": "markdown",
   "metadata": {},
   "source": [
    "## Inference\n",
    "\n",
    "Now that the model is trained, we can use it for inference. We've done this before, but now we need to remember to set the model in inference mode with `model.eval()`. You'll also want to turn off autograd with the `torch.no_grad()` context."
   ]
  },
  {
   "cell_type": "code",
   "execution_count": 29,
   "metadata": {},
   "outputs": [
    {
     "data": {
      "image/png": "[encoded data removed]",
      "text/plain": [
       "<Figure size 432x648 with 2 Axes>"
      ]
     },
     "metadata": {
      "image/png": {
       "height": 206,
       "width": 423
      },
      "needs_background": "light"
     },
     "output_type": "display_data"
    }
   ],
   "source": [
    "# Import helper module (should be in the repo)\n",
    "import helper\n",
    "\n",
    "# Test out your network!\n",
    "\n",
    "model.eval()\n",
    "\n",
    "dataiter = iter(testloader)\n",
    "images, labels = dataiter.next()\n",
    "img = images[0]\n",
    "# Convert 2D image to 1D vector\n",
    "img = img.view(1, 784)\n",
    "\n",
    "# Calculate the class probabilities (softmax) for img\n",
    "with torch.no_grad():\n",
    "    output = model.forward(img)\n",
    "\n",
    "ps = torch.exp(output)\n",
    "\n",
    "# Plot the image and probabilities\n",
    "helper.view_classify(img.view(1, 28, 28), ps, version='Fashion')"
   ]
  },
  {
   "cell_type": "markdown",
   "metadata": {},
   "source": [
    "## Next Up!\n",
    "\n",
    "In the next part, I'll show you how to save your trained models. In general, you won't want to train a model everytime you need it. Instead, you'll train once, save it, then load the model when you want to train more or use if for inference."
   ]
  }
 ],
 "metadata": {
  "kernelspec": {
   "display_name": "Python 3",
   "language": "python",
   "name": "python3"
  },
  "language_info": {
   "codemirror_mode": {
    "name": "ipython",
    "version": 3
   },
   "file_extension": ".py",
   "mimetype": "text/x-python",
   "name": "python",
   "nbconvert_exporter": "python",
   "pygments_lexer": "ipython3",
   "version": "3.6.5"
  }
 },
 "nbformat": 4,
 "nbformat_minor": 2
}
